{
 "cells": [
  {
   "cell_type": "code",
   "execution_count": 1,
   "id": "bfe6151d-343d-4ad8-82a1-38b41daa5c6b",
   "metadata": {},
   "outputs": [],
   "source": [
    "d={}"
   ]
  },
  {
   "cell_type": "code",
   "execution_count": 2,
   "id": "1a86e901-fc16-43f1-83a6-e23b39a3c4e1",
   "metadata": {},
   "outputs": [
    {
     "data": {
      "text/plain": [
       "{}"
      ]
     },
     "execution_count": 2,
     "metadata": {},
     "output_type": "execute_result"
    }
   ],
   "source": [
    "d"
   ]
  },
  {
   "cell_type": "code",
   "execution_count": 3,
   "id": "7674fb3c-91ec-424c-b114-7ae92a635183",
   "metadata": {},
   "outputs": [
    {
     "data": {
      "text/plain": [
       "dict"
      ]
     },
     "execution_count": 3,
     "metadata": {},
     "output_type": "execute_result"
    }
   ],
   "source": [
    "type(d)"
   ]
  },
  {
   "cell_type": "code",
   "execution_count": 4,
   "id": "49fa2b44-7fd6-4056-9314-675d36151c44",
   "metadata": {},
   "outputs": [],
   "source": [
    "d1={\"key\":\"value\"}"
   ]
  },
  {
   "cell_type": "code",
   "execution_count": 5,
   "id": "4b6f58cc-3607-41a5-9caa-cb58eff0e91f",
   "metadata": {},
   "outputs": [],
   "source": [
    "d2={\"key\":\"bony\"}"
   ]
  },
  {
   "cell_type": "code",
   "execution_count": 6,
   "id": "a2c23a00-71f4-42e8-8961-94b127a9b1f3",
   "metadata": {},
   "outputs": [
    {
     "data": {
      "text/plain": [
       "{'key': 'bony'}"
      ]
     },
     "execution_count": 6,
     "metadata": {},
     "output_type": "execute_result"
    }
   ],
   "source": [
    "d2"
   ]
  },
  {
   "cell_type": "code",
   "execution_count": 8,
   "id": "349cffd8-e37e-4789-a5d6-700296a263a0",
   "metadata": {},
   "outputs": [],
   "source": [
    "d3={\n",
    "    \"name\":\"bony\",\n",
    "    \"email\":\"ap74909445657@gmail.com\",\n",
    "    \"number\":\"134656789\"\n",
    "}"
   ]
  },
  {
   "cell_type": "code",
   "execution_count": 9,
   "id": "f72733ad-ee72-48fc-b420-dd0c1c2e1f3a",
   "metadata": {},
   "outputs": [
    {
     "data": {
      "text/plain": [
       "{'name': 'bony', 'email': 'ap74909445657@gmail.com', 'number': '134656789'}"
      ]
     },
     "execution_count": 9,
     "metadata": {},
     "output_type": "execute_result"
    }
   ],
   "source": [
    "d3"
   ]
  },
  {
   "cell_type": "code",
   "execution_count": 10,
   "id": "6ffa9e33-4bad-495b-9651-36cd6e9c269e",
   "metadata": {},
   "outputs": [],
   "source": [
    "d4={123:\"bony\"}"
   ]
  },
  {
   "cell_type": "code",
   "execution_count": 11,
   "id": "0b807179-91fc-485f-9075-d6ec6290d8c1",
   "metadata": {},
   "outputs": [
    {
     "data": {
      "text/plain": [
       "{123: 'bony'}"
      ]
     },
     "execution_count": 11,
     "metadata": {},
     "output_type": "execute_result"
    }
   ],
   "source": [
    "d4"
   ]
  },
  {
   "cell_type": "code",
   "execution_count": 12,
   "id": "a079ba14-223f-4a71-8425-04612e9267cb",
   "metadata": {},
   "outputs": [
    {
     "ename": "SyntaxError",
     "evalue": "invalid syntax (1755100298.py, line 1)",
     "output_type": "error",
     "traceback": [
      "\u001b[0;36m  Cell \u001b[0;32mIn[12], line 1\u001b[0;36m\u001b[0m\n\u001b[0;31m    d4={123:\"bony\",@very:\"kumar\"}\u001b[0m\n\u001b[0m                   ^\u001b[0m\n\u001b[0;31mSyntaxError\u001b[0m\u001b[0;31m:\u001b[0m invalid syntax\n"
     ]
    }
   ],
   "source": [
    "d4={123:\"bony\",@very:\"kumar\"}"
   ]
  },
  {
   "cell_type": "code",
   "execution_count": 13,
   "id": "56c0ff37-3bfd-4645-be9a-2829d688bebe",
   "metadata": {},
   "outputs": [
    {
     "ename": "NameError",
     "evalue": "name '_very' is not defined",
     "output_type": "error",
     "traceback": [
      "\u001b[0;31m---------------------------------------------------------------------------\u001b[0m",
      "\u001b[0;31mNameError\u001b[0m                                 Traceback (most recent call last)",
      "Cell \u001b[0;32mIn[13], line 1\u001b[0m\n\u001b[0;32m----> 1\u001b[0m d4\u001b[38;5;241m=\u001b[39m{\u001b[38;5;241m123\u001b[39m:\u001b[38;5;124m\"\u001b[39m\u001b[38;5;124mbony\u001b[39m\u001b[38;5;124m\"\u001b[39m,\u001b[43m_very\u001b[49m:\u001b[38;5;124m\"\u001b[39m\u001b[38;5;124mkumar\u001b[39m\u001b[38;5;124m\"\u001b[39m}\n",
      "\u001b[0;31mNameError\u001b[0m: name '_very' is not defined"
     ]
    }
   ],
   "source": [
    "d4={123:\"bony\",_very:\"kumar\"}"
   ]
  },
  {
   "cell_type": "code",
   "execution_count": 14,
   "id": "72209b6d-b1f6-4204-925c-9b60780ac592",
   "metadata": {},
   "outputs": [],
   "source": [
    "d4={123:\"bony\",\"@very\":\"kumar\",True:1245}"
   ]
  },
  {
   "cell_type": "code",
   "execution_count": 15,
   "id": "04dab09a-09a7-4a2a-a940-5c60978af69a",
   "metadata": {},
   "outputs": [
    {
     "data": {
      "text/plain": [
       "{123: 'bony', '@very': 'kumar', True: 1245}"
      ]
     },
     "execution_count": 15,
     "metadata": {},
     "output_type": "execute_result"
    }
   ],
   "source": [
    "d4"
   ]
  },
  {
   "cell_type": "code",
   "execution_count": 17,
   "id": "7a6ceb3c-bf83-4415-8f57-90bc09f72714",
   "metadata": {},
   "outputs": [
    {
     "data": {
      "text/plain": [
       "'bony'"
      ]
     },
     "execution_count": 17,
     "metadata": {},
     "output_type": "execute_result"
    }
   ],
   "source": [
    "d4[123]"
   ]
  },
  {
   "cell_type": "code",
   "execution_count": 18,
   "id": "2d7c346e-4316-4994-acd9-ed30c81d96b5",
   "metadata": {},
   "outputs": [
    {
     "data": {
      "text/plain": [
       "1245"
      ]
     },
     "execution_count": 18,
     "metadata": {},
     "output_type": "execute_result"
    }
   ],
   "source": [
    "d4[True]"
   ]
  },
  {
   "cell_type": "code",
   "execution_count": 19,
   "id": "4c5fe0d2-ad4c-4e2c-aa93-8aef27401e72",
   "metadata": {},
   "outputs": [
    {
     "data": {
      "text/plain": [
       "1245"
      ]
     },
     "execution_count": 19,
     "metadata": {},
     "output_type": "execute_result"
    }
   ],
   "source": [
    "d4[1]"
   ]
  },
  {
   "cell_type": "code",
   "execution_count": 21,
   "id": "90ca62cb-f44f-4674-809e-825df19e5e80",
   "metadata": {},
   "outputs": [],
   "source": [
    "d5={\"name\":\"bony\",\n",
    "    \"mail_id\":\"ap749094@gmail.com\"\n",
    "    ,\"name\":\"bonypatel\"\n",
    "   }\n",
    "    "
   ]
  },
  {
   "cell_type": "code",
   "execution_count": 22,
   "id": "26776492-531f-4581-9cdc-68180401a474",
   "metadata": {},
   "outputs": [
    {
     "data": {
      "text/plain": [
       "{'name': 'bonypatel', 'mail_id': 'ap749094@gmail.com'}"
      ]
     },
     "execution_count": 22,
     "metadata": {},
     "output_type": "execute_result"
    }
   ],
   "source": [
    "d5"
   ]
  },
  {
   "cell_type": "code",
   "execution_count": 23,
   "id": "86379112-22fd-470f-816b-dbf11c850bca",
   "metadata": {},
   "outputs": [
    {
     "data": {
      "text/plain": [
       "'bonypatel'"
      ]
     },
     "execution_count": 23,
     "metadata": {},
     "output_type": "execute_result"
    }
   ],
   "source": [
    "d5[\"name\"]"
   ]
  },
  {
   "cell_type": "code",
   "execution_count": 24,
   "id": "5dcdc1c6-5622-40e5-9485-060120ef6e17",
   "metadata": {},
   "outputs": [],
   "source": [
    "d6={\"company\":\"pwskills\",\n",
    "    \"course\": [\"web dev\",\"data science\",\"java with dsa design\"]}"
   ]
  },
  {
   "cell_type": "code",
   "execution_count": 25,
   "id": "f1903475-8103-431e-bb7c-645ae0b5cb0a",
   "metadata": {},
   "outputs": [
    {
     "data": {
      "text/plain": [
       "{'company': 'pwskills',\n",
       " 'course': ['web dev', 'data science', 'java with dsa design']}"
      ]
     },
     "execution_count": 25,
     "metadata": {},
     "output_type": "execute_result"
    }
   ],
   "source": [
    "d6"
   ]
  },
  {
   "cell_type": "code",
   "execution_count": 27,
   "id": "0439c558-225d-4f6b-a1a4-0e6ef610b0f7",
   "metadata": {},
   "outputs": [
    {
     "data": {
      "text/plain": [
       "['web dev', 'data science', 'java with dsa design']"
      ]
     },
     "execution_count": 27,
     "metadata": {},
     "output_type": "execute_result"
    }
   ],
   "source": [
    "d6[\"course\"]"
   ]
  },
  {
   "cell_type": "code",
   "execution_count": 28,
   "id": "80bd8740-1c7e-4f9d-b7f0-00da6c8a2c06",
   "metadata": {},
   "outputs": [
    {
     "data": {
      "text/plain": [
       "'java with dsa design'"
      ]
     },
     "execution_count": 28,
     "metadata": {},
     "output_type": "execute_result"
    }
   ],
   "source": [
    "d6[\"course\"][2]"
   ]
  },
  {
   "cell_type": "code",
   "execution_count": 33,
   "id": "34947af3-0fa0-44a5-8bd5-e643306ffb85",
   "metadata": {},
   "outputs": [],
   "source": [
    "d7={\"number\":[12,13,14,15,16,44,17],\n",
    "    \"assignment\":(1,2,3,4,5,6),\n",
    "    \"launch_date\":{28,12,14}\n",
    "    ,\"class_timing\":{\"web_dev\":8,\"data_science\":8,\"java\":7}\n",
    "   }"
   ]
  },
  {
   "cell_type": "code",
   "execution_count": 34,
   "id": "02337819-da08-4408-a418-6dc09e052725",
   "metadata": {},
   "outputs": [
    {
     "data": {
      "text/plain": [
       "{'number': [12, 13, 14, 15, 16, 44, 17],\n",
       " 'assignment': (1, 2, 3, 4, 5, 6),\n",
       " 'launch_date': {12, 14, 28},\n",
       " 'class_timing': {'web_dev': 8, 'data_science': 8, 'java': 7}}"
      ]
     },
     "execution_count": 34,
     "metadata": {},
     "output_type": "execute_result"
    }
   ],
   "source": [
    "d7"
   ]
  },
  {
   "cell_type": "code",
   "execution_count": 37,
   "id": "d8c4e6ae-51cf-4483-9d16-9b19924c67f3",
   "metadata": {},
   "outputs": [
    {
     "data": {
      "text/plain": [
       "7"
      ]
     },
     "execution_count": 37,
     "metadata": {},
     "output_type": "execute_result"
    }
   ],
   "source": [
    "d7[\"class_timing\"][\"java\"]"
   ]
  },
  {
   "cell_type": "code",
   "execution_count": 38,
   "id": "49cdf04d-bee5-4cc8-899a-61630498ad6c",
   "metadata": {},
   "outputs": [],
   "source": [
    "d7[\"mentor\"]=[\"sudhanshu\",\"krish\",\"priya\",\"hyder\"]"
   ]
  },
  {
   "cell_type": "code",
   "execution_count": 39,
   "id": "9370930b-80fb-4c4f-8f97-efc2db050254",
   "metadata": {},
   "outputs": [
    {
     "data": {
      "text/plain": [
       "{'number': [12, 13, 14, 15, 16, 44, 17],\n",
       " 'assignment': (1, 2, 3, 4, 5, 6),\n",
       " 'launch_date': {12, 14, 28},\n",
       " 'class_timing': {'web_dev': 8, 'data_science': 8, 'java': 7},\n",
       " 'mentor': ['sudhanshu', 'krish', 'priya', 'hyder']}"
      ]
     },
     "execution_count": 39,
     "metadata": {},
     "output_type": "execute_result"
    }
   ],
   "source": [
    "d7"
   ]
  },
  {
   "cell_type": "code",
   "execution_count": 40,
   "id": "93b76985-f1a4-47fb-9db5-f6e374b41c45",
   "metadata": {},
   "outputs": [],
   "source": [
    "d7[\"mentor\"]=[\"sudhanshu\",\"krish\",\"priya\",\"hyder\"]"
   ]
  },
  {
   "cell_type": "code",
   "execution_count": 41,
   "id": "2e786b20-2499-4585-bcfe-94969de318f7",
   "metadata": {},
   "outputs": [
    {
     "data": {
      "text/plain": [
       "{'number': [12, 13, 14, 15, 16, 44, 17],\n",
       " 'assignment': (1, 2, 3, 4, 5, 6),\n",
       " 'launch_date': {12, 14, 28},\n",
       " 'class_timing': {'web_dev': 8, 'data_science': 8, 'java': 7},\n",
       " 'mentor': ['sudhanshu', 'krish', 'priya', 'hyder']}"
      ]
     },
     "execution_count": 41,
     "metadata": {},
     "output_type": "execute_result"
    }
   ],
   "source": [
    "d7"
   ]
  },
  {
   "cell_type": "code",
   "execution_count": 42,
   "id": "426a7837-e5fb-4fc9-8f7a-8562a0dff9db",
   "metadata": {},
   "outputs": [],
   "source": [
    "d7[\"mentor\"]=[\"sudhanshu\",\"krishna\",\"priya\",\"hyder\"]"
   ]
  },
  {
   "cell_type": "code",
   "execution_count": 43,
   "id": "7af658a7-387b-4392-943c-fdf0794792b8",
   "metadata": {},
   "outputs": [
    {
     "data": {
      "text/plain": [
       "{'number': [12, 13, 14, 15, 16, 44, 17],\n",
       " 'assignment': (1, 2, 3, 4, 5, 6),\n",
       " 'launch_date': {12, 14, 28},\n",
       " 'class_timing': {'web_dev': 8, 'data_science': 8, 'java': 7},\n",
       " 'mentor': ['sudhanshu', 'krishna', 'priya', 'hyder']}"
      ]
     },
     "execution_count": 43,
     "metadata": {},
     "output_type": "execute_result"
    }
   ],
   "source": [
    "d7"
   ]
  },
  {
   "cell_type": "code",
   "execution_count": 44,
   "id": "45ac4cc3-17a6-4578-a52c-38aecbc8db9e",
   "metadata": {},
   "outputs": [],
   "source": [
    "del d7[\"number\"]"
   ]
  },
  {
   "cell_type": "code",
   "execution_count": 45,
   "id": "de810ed8-f027-439b-80e3-6048458b7150",
   "metadata": {},
   "outputs": [
    {
     "data": {
      "text/plain": [
       "{'assignment': (1, 2, 3, 4, 5, 6),\n",
       " 'launch_date': {12, 14, 28},\n",
       " 'class_timing': {'web_dev': 8, 'data_science': 8, 'java': 7},\n",
       " 'mentor': ['sudhanshu', 'krishna', 'priya', 'hyder']}"
      ]
     },
     "execution_count": 45,
     "metadata": {},
     "output_type": "execute_result"
    }
   ],
   "source": [
    "d7"
   ]
  },
  {
   "cell_type": "code",
   "execution_count": 46,
   "id": "ba06b3cc-31cd-49ae-b37d-f23c5759ac63",
   "metadata": {},
   "outputs": [
    {
     "data": {
      "text/plain": [
       "dict_keys(['assignment', 'launch_date', 'class_timing', 'mentor'])"
      ]
     },
     "execution_count": 46,
     "metadata": {},
     "output_type": "execute_result"
    }
   ],
   "source": [
    "d7.keys()"
   ]
  },
  {
   "cell_type": "code",
   "execution_count": 47,
   "id": "5630d8c4-6f80-45b8-b3b9-ad8cacde9cd7",
   "metadata": {},
   "outputs": [
    {
     "data": {
      "text/plain": [
       "dict_values([(1, 2, 3, 4, 5, 6), {28, 12, 14}, {'web_dev': 8, 'data_science': 8, 'java': 7}, ['sudhanshu', 'krishna', 'priya', 'hyder']])"
      ]
     },
     "execution_count": 47,
     "metadata": {},
     "output_type": "execute_result"
    }
   ],
   "source": [
    "d7.values()"
   ]
  },
  {
   "cell_type": "code",
   "execution_count": 48,
   "id": "dbaae94b-ef6d-418a-b8a5-308e211483d5",
   "metadata": {},
   "outputs": [
    {
     "data": {
      "text/plain": [
       "dict_items([('assignment', (1, 2, 3, 4, 5, 6)), ('launch_date', {28, 12, 14}), ('class_timing', {'web_dev': 8, 'data_science': 8, 'java': 7}), ('mentor', ['sudhanshu', 'krishna', 'priya', 'hyder'])])"
      ]
     },
     "execution_count": 48,
     "metadata": {},
     "output_type": "execute_result"
    }
   ],
   "source": [
    "d7.items()"
   ]
  },
  {
   "cell_type": "code",
   "execution_count": 49,
   "id": "49a8aa30-4f06-4a57-8fbc-8132aa58876b",
   "metadata": {},
   "outputs": [
    {
     "data": {
      "text/plain": [
       "[('assignment', (1, 2, 3, 4, 5, 6)),\n",
       " ('launch_date', {12, 14, 28}),\n",
       " ('class_timing', {'web_dev': 8, 'data_science': 8, 'java': 7}),\n",
       " ('mentor', ['sudhanshu', 'krishna', 'priya', 'hyder'])]"
      ]
     },
     "execution_count": 49,
     "metadata": {},
     "output_type": "execute_result"
    }
   ],
   "source": [
    "list(d7.items())"
   ]
  },
  {
   "cell_type": "code",
   "execution_count": 50,
   "id": "be357008-e0ee-46e0-a706-5c96a1109336",
   "metadata": {},
   "outputs": [
    {
     "data": {
      "text/plain": [
       "(1, 2, 3, 4, 5, 6)"
      ]
     },
     "execution_count": 50,
     "metadata": {},
     "output_type": "execute_result"
    }
   ],
   "source": [
    "d7.pop(\"assignment\")"
   ]
  },
  {
   "cell_type": "code",
   "execution_count": 51,
   "id": "22b7e26c-c973-45bd-9074-45dbd09a45a5",
   "metadata": {},
   "outputs": [
    {
     "data": {
      "text/plain": [
       "{'launch_date': {12, 14, 28},\n",
       " 'class_timing': {'web_dev': 8, 'data_science': 8, 'java': 7},\n",
       " 'mentor': ['sudhanshu', 'krishna', 'priya', 'hyder']}"
      ]
     },
     "execution_count": 51,
     "metadata": {},
     "output_type": "execute_result"
    }
   ],
   "source": [
    "d7"
   ]
  },
  {
   "cell_type": "code",
   "execution_count": 2,
   "id": "2b076749-3347-4b7c-ac47-aeb64b534264",
   "metadata": {},
   "outputs": [
    {
     "name": "stdout",
     "output_type": "stream",
     "text": [
      "you will be a part of A1 batch\n"
     ]
    }
   ],
   "source": [
    "marks= 60\n",
    "\n",
    "if marks>=80 :\n",
    "    print(\"you will be a part of A0 batch\")\n",
    "elif marks>=60 and marks<80:\n",
    "    print(\"you will be a part of A1 batch\")\n",
    "elif marks>=40 and marks<60:\n",
    "    print(\"you will be a part of A2 batch\")\n",
    "else:\n",
    "    print(\" you will be a part of A3 batch\")\n",
    "    "
   ]
  },
  {
   "cell_type": "code",
   "execution_count": 6,
   "id": "1ef02aca-4f3c-4dc3-85bb-aac8f41e8c94",
   "metadata": {},
   "outputs": [
    {
     "name": "stdin",
     "output_type": "stream",
     "text": [
      "Enter your marks :-  40\n"
     ]
    },
    {
     "name": "stdout",
     "output_type": "stream",
     "text": [
      "you will be a part of A2 batch\n"
     ]
    }
   ],
   "source": [
    "marks=int(input('Enter your marks :- '))\n",
    "\n",
    "if marks>=80 :\n",
    "    print(\"you will be a part of A0 batch\")\n",
    "elif marks>=60 and marks<80:\n",
    "    print(\"you will be a part of A1 batch\")\n",
    "elif marks>=40 and marks<60:\n",
    "    print(\"you will be a part of A2 batch\")\n",
    "else:\n",
    "    print(\" you will be a part of A3 batch\")\n",
    "    "
   ]
  },
  {
   "cell_type": "code",
   "execution_count": 7,
   "id": "81b1d393-4ef8-427b-bb8e-3f064d57e163",
   "metadata": {},
   "outputs": [
    {
     "data": {
      "text/plain": [
       "int"
      ]
     },
     "execution_count": 7,
     "metadata": {},
     "output_type": "execute_result"
    }
   ],
   "source": [
    "type(marks)"
   ]
  },
  {
   "cell_type": "code",
   "execution_count": 14,
   "id": "001d5918-9d78-44e3-8496-964d9681e5dd",
   "metadata": {},
   "outputs": [
    {
     "name": "stdin",
     "output_type": "stream",
     "text": [
      "enter the price 200\n"
     ]
    },
    {
     "name": "stdout",
     "output_type": "stream",
     "text": [
      " i will  purchase\n"
     ]
    }
   ],
   "source": [
    "price=int(input(\"enter the price\"))\n",
    "\n",
    "if price > 1000:\n",
    "    print(\" i will not purchase\")\n",
    "else :\n",
    "    print(\" i will  purchase\")"
   ]
  },
  {
   "cell_type": "code",
   "execution_count": 17,
   "id": "466f4ba2-2e93-4dca-85f7-d8c07136e9d7",
   "metadata": {},
   "outputs": [
    {
     "name": "stdin",
     "output_type": "stream",
     "text": [
      "enter the price 7000\n"
     ]
    },
    {
     "name": "stdout",
     "output_type": "stream",
     "text": [
      " i will not purchase\n",
      "this is too much\n"
     ]
    }
   ],
   "source": [
    "price=int(input(\"enter the price\"))\n",
    "\n",
    "if price > 1000:\n",
    "    print(\" i will not purchase\")\n",
    "    if price > 5000:\n",
    "        print(\"this is too much\")"
   ]
  },
  {
   "cell_type": "code",
   "execution_count": null,
   "id": "5b003f95-1928-4603-8540-1f8dd5ab8398",
   "metadata": {},
   "outputs": [],
   "source": []
  },
  {
   "cell_type": "code",
   "execution_count": 18,
   "id": "b84e0030-c5b0-47fb-b039-cbf6c42ad90a",
   "metadata": {},
   "outputs": [
    {
     "name": "stdin",
     "output_type": "stream",
     "text": [
      "enter the price 3000\n"
     ]
    },
    {
     "name": "stdout",
     "output_type": "stream",
     "text": [
      " i will not purchase\n"
     ]
    }
   ],
   "source": [
    "price=int(input(\"enter the price\"))\n",
    "\n",
    "if price > 1000:\n",
    "    print(\" i will not purchase\")\n",
    "    if price > 5000:\n",
    "        print(\"this is too much\")"
   ]
  },
  {
   "cell_type": "code",
   "execution_count": 22,
   "id": "b2c14dfd-6c60-4080-8429-74720c177a24",
   "metadata": {},
   "outputs": [
    {
     "name": "stdin",
     "output_type": "stream",
     "text": [
      "enter the price -10\n"
     ]
    },
    {
     "name": "stdout",
     "output_type": "stream",
     "text": [
      "i will purchase\n"
     ]
    }
   ],
   "source": [
    "price=int(input(\"enter the price\"))\n",
    "\n",
    "if price > 1000:\n",
    "    print(\" i will not purchase\")\n",
    "    if price > 5000:\n",
    "        print(\"this is too much\")\n",
    "    elif price < 2000:\n",
    "        print(\"its ok\")\n",
    "elif price <1000:\n",
    "    print(\"i will purchase\")\n",
    "else:\n",
    "    print(\"not interested\")"
   ]
  },
  {
   "cell_type": "code",
   "execution_count": 23,
   "id": "a1a65bee-e24b-4b22-9414-4113dd566952",
   "metadata": {},
   "outputs": [],
   "source": [
    "l=[1,2,3,4,5,6,7,8]"
   ]
  },
  {
   "cell_type": "code",
   "execution_count": 24,
   "id": "3dc94c77-3b73-4ce0-9143-6d6e27397ed2",
   "metadata": {},
   "outputs": [
    {
     "data": {
      "text/plain": [
       "[1, 2, 3, 4, 5, 6, 7, 8]"
      ]
     },
     "execution_count": 24,
     "metadata": {},
     "output_type": "execute_result"
    }
   ],
   "source": [
    "l"
   ]
  },
  {
   "cell_type": "code",
   "execution_count": 26,
   "id": "096c78f2-2547-4b70-8c9c-4f1481a052ee",
   "metadata": {},
   "outputs": [
    {
     "data": {
      "text/plain": [
       "2"
      ]
     },
     "execution_count": 26,
     "metadata": {},
     "output_type": "execute_result"
    }
   ],
   "source": [
    "l[0]+1"
   ]
  },
  {
   "cell_type": "code",
   "execution_count": 27,
   "id": "51f1186a-8f40-4977-87bd-57dbf50a9b81",
   "metadata": {},
   "outputs": [],
   "source": [
    "l1=[]"
   ]
  },
  {
   "cell_type": "code",
   "execution_count": 29,
   "id": "8a9ff33e-2376-470a-b1f6-c63dbac29bd2",
   "metadata": {},
   "outputs": [],
   "source": [
    "l1.append(l[0]+1)"
   ]
  },
  {
   "cell_type": "code",
   "execution_count": 30,
   "id": "f57faeb1-bed5-4f8b-b247-a78dc8475134",
   "metadata": {},
   "outputs": [
    {
     "data": {
      "text/plain": [
       "[2]"
      ]
     },
     "execution_count": 30,
     "metadata": {},
     "output_type": "execute_result"
    }
   ],
   "source": [
    "l1"
   ]
  },
  {
   "cell_type": "code",
   "execution_count": 31,
   "id": "2fbe8998-2d9d-4af1-81a7-4abbb44d719b",
   "metadata": {},
   "outputs": [
    {
     "data": {
      "text/plain": [
       "[1, 2, 3, 4, 5, 6, 7, 8]"
      ]
     },
     "execution_count": 31,
     "metadata": {},
     "output_type": "execute_result"
    }
   ],
   "source": [
    "l"
   ]
  },
  {
   "cell_type": "code",
   "execution_count": 32,
   "id": "0237cbf2-459c-4fab-b310-ed7a77f9d6fe",
   "metadata": {},
   "outputs": [],
   "source": [
    "l=[1,2,3,4,5,6,7,8]"
   ]
  },
  {
   "cell_type": "code",
   "execution_count": 33,
   "id": "a6e39bab-f442-4d0e-94b8-d156cfe76f05",
   "metadata": {},
   "outputs": [
    {
     "name": "stdout",
     "output_type": "stream",
     "text": [
      "1\n",
      "2\n",
      "3\n",
      "4\n",
      "5\n",
      "6\n",
      "7\n",
      "8\n"
     ]
    }
   ],
   "source": [
    "for i in l:\n",
    "    print(i)"
   ]
  },
  {
   "cell_type": "code",
   "execution_count": 46,
   "id": "6d721b30-f9d4-4763-8adf-7da9e0191a13",
   "metadata": {},
   "outputs": [
    {
     "name": "stdout",
     "output_type": "stream",
     "text": [
      "2\n",
      "3\n",
      "4\n",
      "5\n",
      "6\n",
      "7\n",
      "8\n",
      "9\n"
     ]
    },
    {
     "data": {
      "text/plain": [
       "[2, 3, 4, 5, 6, 7, 8, 9]"
      ]
     },
     "execution_count": 46,
     "metadata": {},
     "output_type": "execute_result"
    }
   ],
   "source": [
    "l1=[]\n",
    "for i in l:\n",
    "    print(i+1)\n",
    "    l1.append(i+1)\n",
    "l1"
   ]
  },
  {
   "cell_type": "code",
   "execution_count": 47,
   "id": "05744be6-f1e0-4b03-9314-7dcce9ff87da",
   "metadata": {},
   "outputs": [],
   "source": [
    "l  =  [\"bony\",\"kumar\",\"pwskills\",\"course\"]"
   ]
  },
  {
   "cell_type": "code",
   "execution_count": 49,
   "id": "c77d3ca4-fb6d-4e44-9341-c267bcf2e06c",
   "metadata": {},
   "outputs": [
    {
     "name": "stdout",
     "output_type": "stream",
     "text": [
      "bony\n",
      "kumar\n",
      "pwskills\n",
      "course\n"
     ]
    }
   ],
   "source": [
    "for i in l:\n",
    "    print(i)"
   ]
  },
  {
   "cell_type": "code",
   "execution_count": 52,
   "id": "c83b3a04-502f-4c8c-a831-7da5c944ce2f",
   "metadata": {},
   "outputs": [
    {
     "name": "stdout",
     "output_type": "stream",
     "text": [
      "bony\n",
      "kumar\n",
      "pwskills\n",
      "course\n"
     ]
    }
   ],
   "source": [
    "l1=[]\n",
    "\n",
    "for i in l:\n",
    "    print(i)\n",
    "    l1.append(i.upper())"
   ]
  },
  {
   "cell_type": "code",
   "execution_count": 53,
   "id": "ee4fcc1b-eb4a-43d2-8f6a-f07100560641",
   "metadata": {},
   "outputs": [
    {
     "data": {
      "text/plain": [
       "['BONY', 'KUMAR', 'PWSKILLS', 'COURSE']"
      ]
     },
     "execution_count": 53,
     "metadata": {},
     "output_type": "execute_result"
    }
   ],
   "source": [
    "l1"
   ]
  },
  {
   "cell_type": "code",
   "execution_count": 54,
   "id": "d73feaec-d35e-46a8-9715-8fea1166ab24",
   "metadata": {},
   "outputs": [],
   "source": [
    "l = [ 1,2,3,4,4,\"sudh\",\"kumar\",324,34.456,\"abc\"]"
   ]
  },
  {
   "cell_type": "code",
   "execution_count": 56,
   "id": "c13c7fb7-62e2-41f2-a2fe-e7775084d983",
   "metadata": {},
   "outputs": [],
   "source": [
    "l1_num=[]\n",
    "l2_str=[]\n",
    "\n",
    "for i in l :\n",
    "    if type(i) == int or type == float :\n",
    "        l1_num.append(i)\n",
    "    else:\n",
    "        l2_str.append(i)"
   ]
  },
  {
   "cell_type": "code",
   "execution_count": 57,
   "id": "1515d90e-6090-4ab9-a91b-f5815d627d8d",
   "metadata": {},
   "outputs": [
    {
     "data": {
      "text/plain": [
       "[1, 2, 3, 4, 4, 324]"
      ]
     },
     "execution_count": 57,
     "metadata": {},
     "output_type": "execute_result"
    }
   ],
   "source": [
    "l1_num"
   ]
  },
  {
   "cell_type": "code",
   "execution_count": 58,
   "id": "71f2641f-fa4f-4681-b1dd-01a406c0cc43",
   "metadata": {},
   "outputs": [
    {
     "data": {
      "text/plain": [
       "['sudh', 'kumar', 34.456, 'abc']"
      ]
     },
     "execution_count": 58,
     "metadata": {},
     "output_type": "execute_result"
    }
   ],
   "source": [
    "l2_str"
   ]
  },
  {
   "cell_type": "code",
   "execution_count": 3,
   "id": "84892aff-d76c-4d42-9e45-e8c2385f6c3e",
   "metadata": {},
   "outputs": [
    {
     "data": {
      "text/plain": [
       "1"
      ]
     },
     "execution_count": 3,
     "metadata": {},
     "output_type": "execute_result"
    }
   ],
   "source": [
    "10%3"
   ]
  },
  {
   "cell_type": "code",
   "execution_count": 6,
   "id": "a84846b0-0a2a-4655-96e7-bc2a5f593cca",
   "metadata": {},
   "outputs": [
    {
     "name": "stdout",
     "output_type": "stream",
     "text": [
      "0\n",
      "1\n",
      "3\n",
      "4\n"
     ]
    }
   ],
   "source": [
    "for i in range(5):\n",
    "\n",
    "    if i == 2:\n",
    "\n",
    "        continue\n",
    "\n",
    "    print(i)"
   ]
  },
  {
   "cell_type": "code",
   "execution_count": null,
   "id": "ec7a0e75-5d1d-4a16-8362-88db010f99fb",
   "metadata": {},
   "outputs": [],
   "source": []
  }
 ],
 "metadata": {
  "kernelspec": {
   "display_name": "Python 3 (ipykernel)",
   "language": "python",
   "name": "python3"
  },
  "language_info": {
   "codemirror_mode": {
    "name": "ipython",
    "version": 3
   },
   "file_extension": ".py",
   "mimetype": "text/x-python",
   "name": "python",
   "nbconvert_exporter": "python",
   "pygments_lexer": "ipython3",
   "version": "3.10.8"
  }
 },
 "nbformat": 4,
 "nbformat_minor": 5
}
