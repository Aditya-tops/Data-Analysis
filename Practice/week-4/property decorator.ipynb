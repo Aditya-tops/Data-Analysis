{
 "cells": [
  {
   "cell_type": "code",
   "execution_count": 2,
   "id": "8b89acdd-2245-41ac-8758-17a355650208",
   "metadata": {},
   "outputs": [],
   "source": [
    "class pwskills:\n",
    "    \n",
    "    def __init__(self,course_price,course_name):\n",
    "        \n",
    "        self.__course_price = course_price\n",
    "        self.course_name = course_name"
   ]
  },
  {
   "cell_type": "code",
   "execution_count": 3,
   "id": "f3877771-35dd-4d99-b172-13db8fa1ef74",
   "metadata": {},
   "outputs": [],
   "source": [
    "pw = pwskills(3500,'data science')"
   ]
  },
  {
   "cell_type": "code",
   "execution_count": 4,
   "id": "3e6c3636-906a-49dd-93a7-d804d1c2e58c",
   "metadata": {},
   "outputs": [
    {
     "ename": "AttributeError",
     "evalue": "'pwskills' object has no attribute '__course_price'",
     "output_type": "error",
     "traceback": [
      "\u001b[0;31m---------------------------------------------------------------------------\u001b[0m",
      "\u001b[0;31mAttributeError\u001b[0m                            Traceback (most recent call last)",
      "Cell \u001b[0;32mIn[4], line 1\u001b[0m\n\u001b[0;32m----> 1\u001b[0m \u001b[43mpw\u001b[49m\u001b[38;5;241;43m.\u001b[39;49m\u001b[43m__course_price\u001b[49m\n",
      "\u001b[0;31mAttributeError\u001b[0m: 'pwskills' object has no attribute '__course_price'"
     ]
    }
   ],
   "source": [
    "pw.__course_price"
   ]
  },
  {
   "cell_type": "code",
   "execution_count": 6,
   "id": "e73b5cfa-cbf7-4021-b71d-463ec1e563bd",
   "metadata": {},
   "outputs": [
    {
     "data": {
      "text/plain": [
       "3500"
      ]
     },
     "execution_count": 6,
     "metadata": {},
     "output_type": "execute_result"
    }
   ],
   "source": [
    "pw._pwskills__course_price"
   ]
  },
  {
   "cell_type": "code",
   "execution_count": 7,
   "id": "532abea3-8d7f-4cf2-bfdd-cb3cf5a942a6",
   "metadata": {},
   "outputs": [
    {
     "data": {
      "text/plain": [
       "'data science'"
      ]
     },
     "execution_count": 7,
     "metadata": {},
     "output_type": "execute_result"
    }
   ],
   "source": [
    "pw.course_name"
   ]
  },
  {
   "cell_type": "code",
   "execution_count": 8,
   "id": "4940a3b9-dd67-4b2b-bdd6-6430865c8ecd",
   "metadata": {},
   "outputs": [],
   "source": [
    "class pwskills1:\n",
    "    \n",
    "    def __init__(self,course_price,course_name):\n",
    "        \n",
    "        self.__course_price = course_price\n",
    "        self.course_name = course_name\n",
    "        \n",
    "    @property\n",
    "    def course_price(self):\n",
    "        return self.__course_price"
   ]
  },
  {
   "cell_type": "code",
   "execution_count": 12,
   "id": "17eafca8-51ab-453e-8bb2-291275a09ebe",
   "metadata": {},
   "outputs": [
    {
     "data": {
      "text/plain": [
       "3500"
      ]
     },
     "execution_count": 12,
     "metadata": {},
     "output_type": "execute_result"
    }
   ],
   "source": [
    "pw = pwskills1(3500,'Data Science')\n",
    "pw.course_price"
   ]
  },
  {
   "cell_type": "code",
   "execution_count": 13,
   "id": "d3739288-e021-45e2-b4d7-c4de4aaac599",
   "metadata": {},
   "outputs": [],
   "source": [
    "class pwskills2:\n",
    "    \n",
    "    def __init__(self,course_price,course_name):\n",
    "        \n",
    "        self.__course_price = course_price\n",
    "        self.course_name = course_name\n",
    "        \n",
    "    @property\n",
    "    def course_price(self):\n",
    "        return self.__course_price\n",
    "    \n",
    "    @course_price.setter\n",
    "    def course_price_set(self, price):\n",
    "        if price<3500:\n",
    "            pass\n",
    "        else:\n",
    "            self.__course_price  = price"
   ]
  },
  {
   "cell_type": "code",
   "execution_count": 14,
   "id": "6636f72d-2be7-4221-8efc-6a635f724b31",
   "metadata": {},
   "outputs": [
    {
     "data": {
      "text/plain": [
       "3500"
      ]
     },
     "execution_count": 14,
     "metadata": {},
     "output_type": "execute_result"
    }
   ],
   "source": [
    "pw = pwskills2(3500,'Data Science')\n",
    "pw.course_price"
   ]
  },
  {
   "cell_type": "code",
   "execution_count": 15,
   "id": "0ca8a84d-c248-4f2b-b3e1-e53930975aa6",
   "metadata": {},
   "outputs": [],
   "source": [
    "pw.course_price_set = 4500"
   ]
  },
  {
   "cell_type": "code",
   "execution_count": 16,
   "id": "2eb80f5b-13b2-4301-b1c9-faa269350c8e",
   "metadata": {},
   "outputs": [
    {
     "data": {
      "text/plain": [
       "4500"
      ]
     },
     "execution_count": 16,
     "metadata": {},
     "output_type": "execute_result"
    }
   ],
   "source": [
    "pw.course_price"
   ]
  },
  {
   "cell_type": "code",
   "execution_count": 24,
   "id": "0ccbd48e-d643-42c0-bc33-309f246e8c64",
   "metadata": {},
   "outputs": [],
   "source": [
    "class pwskills3:\n",
    "    \n",
    "    def __init__(self,course_price,course_name):\n",
    "        \n",
    "        self.__course_price = course_price\n",
    "        self.course_name = course_name\n",
    "        \n",
    "    @property\n",
    "    def course_price(self):\n",
    "        return self.__course_price\n",
    "    \n",
    "    @course_price.setter\n",
    "    def course_price_set(self, price):\n",
    "        if price<3500:\n",
    "            pass\n",
    "        else:\n",
    "            self.__course_price  = price\n",
    "            \n",
    "            \n",
    "    @course_price.deleter\n",
    "    def delete_course_price(self):\n",
    "            del self.__course_price"
   ]
  },
  {
   "cell_type": "code",
   "execution_count": 25,
   "id": "41bf8cbd-b61d-4bc8-9b92-7bd301068b3e",
   "metadata": {},
   "outputs": [
    {
     "data": {
      "text/plain": [
       "3500"
      ]
     },
     "execution_count": 25,
     "metadata": {},
     "output_type": "execute_result"
    }
   ],
   "source": [
    "pw = pwskills3(3500,'Data Science')\n",
    "pw.course_price"
   ]
  },
  {
   "cell_type": "code",
   "execution_count": 26,
   "id": "e2e0aa77-cbfb-4e8d-925c-6a4c357916a5",
   "metadata": {},
   "outputs": [],
   "source": [
    "pw.course_price_set = 4500"
   ]
  },
  {
   "cell_type": "code",
   "execution_count": 27,
   "id": "cb98e3dc-c551-46ac-8843-ebaeb02cc86e",
   "metadata": {},
   "outputs": [
    {
     "data": {
      "text/plain": [
       "4500"
      ]
     },
     "execution_count": 27,
     "metadata": {},
     "output_type": "execute_result"
    }
   ],
   "source": [
    "pw.course_price"
   ]
  },
  {
   "cell_type": "code",
   "execution_count": 28,
   "id": "b5884100-aad1-4937-9a46-78d3244eef85",
   "metadata": {},
   "outputs": [
    {
     "data": {
      "text/plain": [
       "4500"
      ]
     },
     "execution_count": 28,
     "metadata": {},
     "output_type": "execute_result"
    }
   ],
   "source": [
    "pw.course_price"
   ]
  },
  {
   "cell_type": "code",
   "execution_count": 29,
   "id": "4843d898-5551-4d17-bcdf-871fc33d2b32",
   "metadata": {},
   "outputs": [],
   "source": [
    "del pw.delete_course_price"
   ]
  },
  {
   "cell_type": "code",
   "execution_count": 30,
   "id": "fbb667cb-0c0c-4b20-a857-b38cfbd3aa89",
   "metadata": {},
   "outputs": [
    {
     "ename": "AttributeError",
     "evalue": "'pwskills3' object has no attribute '_pwskills3__course_price'",
     "output_type": "error",
     "traceback": [
      "\u001b[0;31m---------------------------------------------------------------------------\u001b[0m",
      "\u001b[0;31mAttributeError\u001b[0m                            Traceback (most recent call last)",
      "Cell \u001b[0;32mIn[30], line 1\u001b[0m\n\u001b[0;32m----> 1\u001b[0m \u001b[43mpw\u001b[49m\u001b[38;5;241;43m.\u001b[39;49m\u001b[43mcourse_price\u001b[49m\n",
      "Cell \u001b[0;32mIn[24], line 10\u001b[0m, in \u001b[0;36mpwskills3.course_price\u001b[0;34m(self)\u001b[0m\n\u001b[1;32m      8\u001b[0m \u001b[38;5;129m@property\u001b[39m\n\u001b[1;32m      9\u001b[0m \u001b[38;5;28;01mdef\u001b[39;00m \u001b[38;5;21mcourse_price\u001b[39m(\u001b[38;5;28mself\u001b[39m):\n\u001b[0;32m---> 10\u001b[0m     \u001b[38;5;28;01mreturn\u001b[39;00m \u001b[38;5;28;43mself\u001b[39;49m\u001b[38;5;241;43m.\u001b[39;49m\u001b[43m__course_price\u001b[49m\n",
      "\u001b[0;31mAttributeError\u001b[0m: 'pwskills3' object has no attribute '_pwskills3__course_price'"
     ]
    }
   ],
   "source": [
    "pw.course_price"
   ]
  },
  {
   "cell_type": "code",
   "execution_count": null,
   "id": "2b09d135-6a35-4fa6-a531-e92f113a8349",
   "metadata": {},
   "outputs": [],
   "source": []
  }
 ],
 "metadata": {
  "kernelspec": {
   "display_name": "Python 3 (ipykernel)",
   "language": "python",
   "name": "python3"
  },
  "language_info": {
   "codemirror_mode": {
    "name": "ipython",
    "version": 3
   },
   "file_extension": ".py",
   "mimetype": "text/x-python",
   "name": "python",
   "nbconvert_exporter": "python",
   "pygments_lexer": "ipython3",
   "version": "3.10.8"
  }
 },
 "nbformat": 4,
 "nbformat_minor": 5
}
