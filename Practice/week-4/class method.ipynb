{
 "cells": [
  {
   "cell_type": "code",
   "execution_count": 1,
   "id": "b8315e6c-d561-4d6c-99f6-581f9df62d90",
   "metadata": {},
   "outputs": [],
   "source": [
    "class pwskills:\n",
    "    \n",
    "    def __init__(self,name,email):\n",
    "        \n",
    "        self.name=name\n",
    "        self.email=email\n",
    "        \n",
    "    def student_details(self):\n",
    "        print(self.name, self.email)"
   ]
  },
  {
   "cell_type": "code",
   "execution_count": 2,
   "id": "14f5e39e-897c-4988-b5c0-b9c4d2687867",
   "metadata": {},
   "outputs": [],
   "source": [
    "pw = pwskills(\"dhwani\",\"dhwani@abc.com\")"
   ]
  },
  {
   "cell_type": "code",
   "execution_count": 3,
   "id": "dbb0b13e-c50f-4e87-9fd5-a91a53fd1336",
   "metadata": {},
   "outputs": [
    {
     "data": {
      "text/plain": [
       "'dhwani'"
      ]
     },
     "execution_count": 3,
     "metadata": {},
     "output_type": "execute_result"
    }
   ],
   "source": [
    "pw.name"
   ]
  },
  {
   "cell_type": "code",
   "execution_count": 4,
   "id": "47bdd182-6edf-452e-8d11-9dc3cc3fcb09",
   "metadata": {},
   "outputs": [
    {
     "data": {
      "text/plain": [
       "'dhwani@abc.com'"
      ]
     },
     "execution_count": 4,
     "metadata": {},
     "output_type": "execute_result"
    }
   ],
   "source": [
    "pw.email"
   ]
  },
  {
   "cell_type": "code",
   "execution_count": 6,
   "id": "541d0c8c-42c6-49b3-bee1-38d1b4d0afc7",
   "metadata": {},
   "outputs": [
    {
     "name": "stdout",
     "output_type": "stream",
     "text": [
      "dhwani dhwani@abc.com\n"
     ]
    }
   ],
   "source": [
    "pw.student_details()"
   ]
  },
  {
   "cell_type": "code",
   "execution_count": 8,
   "id": "a8856162-d4da-4add-9d42-94639390e118",
   "metadata": {},
   "outputs": [],
   "source": [
    "class pwskills1:\n",
    "    \n",
    "    def __init__(self,name,email):\n",
    "        \n",
    "        self.name=name\n",
    "        self.email=email\n",
    "     \n",
    "    @classmethod\n",
    "    def details(cls,name,email):\n",
    "        return cls(name,email)\n",
    "        \n",
    "    def student_details(self):\n",
    "        print(self.name, self.email)"
   ]
  },
  {
   "cell_type": "code",
   "execution_count": 9,
   "id": "57f6fe1b-93d2-4036-9448-f06a8785f781",
   "metadata": {},
   "outputs": [],
   "source": [
    "pw1 = pwskills1.details('dhwani','dhwani@abc.com')"
   ]
  },
  {
   "cell_type": "code",
   "execution_count": 10,
   "id": "39eed5f2-f51f-4e18-bbc5-735a4f8a8b48",
   "metadata": {},
   "outputs": [
    {
     "data": {
      "text/plain": [
       "'dhwani'"
      ]
     },
     "execution_count": 10,
     "metadata": {},
     "output_type": "execute_result"
    }
   ],
   "source": [
    "pw1.name"
   ]
  },
  {
   "cell_type": "code",
   "execution_count": 11,
   "id": "4817b2ea-3698-4131-a062-cdd0bce2170f",
   "metadata": {},
   "outputs": [
    {
     "data": {
      "text/plain": [
       "'dhwani@abc.com'"
      ]
     },
     "execution_count": 11,
     "metadata": {},
     "output_type": "execute_result"
    }
   ],
   "source": [
    "pw1.email"
   ]
  },
  {
   "cell_type": "code",
   "execution_count": 12,
   "id": "0a7cc58b-70fe-4005-ae50-6fb1e6384404",
   "metadata": {},
   "outputs": [
    {
     "name": "stdout",
     "output_type": "stream",
     "text": [
      "dhwani dhwani@abc.com\n"
     ]
    }
   ],
   "source": [
    "pw1.student_details()"
   ]
  },
  {
   "cell_type": "code",
   "execution_count": 16,
   "id": "603022b3-a0df-4566-b516-0eba239a5bb3",
   "metadata": {},
   "outputs": [],
   "source": [
    "class pwskills2:\n",
    "    \n",
    "    mobile_number = 1234567890\n",
    "    \n",
    "    def __init__(self,name,email):\n",
    "        \n",
    "        self.name=name\n",
    "        self.email=email\n",
    "     \n",
    "    @classmethod\n",
    "    def change_mobile_number(cls,mobile):\n",
    "        pwskills2.mobile_number = mobile\n",
    "    \n",
    "    @classmethod\n",
    "    def details(cls,name,email):\n",
    "        return cls(name,email)\n",
    "        \n",
    "    def student_details(self):\n",
    "        print(self.name, self.email)"
   ]
  },
  {
   "cell_type": "code",
   "execution_count": 17,
   "id": "b20cdca2-d2e1-4b16-94a9-7334012549cd",
   "metadata": {},
   "outputs": [
    {
     "data": {
      "text/plain": [
       "1234567890"
      ]
     },
     "execution_count": 17,
     "metadata": {},
     "output_type": "execute_result"
    }
   ],
   "source": [
    "pwskills2.mobile_number"
   ]
  },
  {
   "cell_type": "code",
   "execution_count": 40,
   "id": "f6d2b1ad-862d-49f3-be64-1962548a6c88",
   "metadata": {},
   "outputs": [],
   "source": [
    "pwskills2.change_mobile_number(111111111111)"
   ]
  },
  {
   "cell_type": "code",
   "execution_count": 41,
   "id": "4bfad4b5-512c-4bae-96d8-d12f4db83c16",
   "metadata": {},
   "outputs": [
    {
     "data": {
      "text/plain": [
       "111111111111"
      ]
     },
     "execution_count": 41,
     "metadata": {},
     "output_type": "execute_result"
    }
   ],
   "source": [
    "pwskills2.mobile_number"
   ]
  },
  {
   "cell_type": "code",
   "execution_count": 54,
   "id": "2c1dd9b7-9dd6-4b8b-9d93-0f4aee8df527",
   "metadata": {},
   "outputs": [],
   "source": [
    "class pwskills100:\n",
    "    \n",
    "    mobile_number = 1234567890\n",
    "    \n",
    "    def __init__(self,name,email):\n",
    "        \n",
    "        self.name=name\n",
    "        self.email=email\n",
    "     \n",
    "    @classmethod\n",
    "    def change_mobile_number(cls,mobile):\n",
    "        pwskills100.mobile_number = mobile\n",
    "    \n",
    "    @classmethod\n",
    "    def details(cls,name,email):\n",
    "        return cls(name,email)\n",
    "        \n",
    "    def student_details(self):\n",
    "        print(self.name, self.email,pwskills100.mobile_number)"
   ]
  },
  {
   "cell_type": "code",
   "execution_count": 55,
   "id": "eca41f5d-b1bc-4bdb-ab10-dd1f9f541052",
   "metadata": {},
   "outputs": [
    {
     "data": {
      "text/plain": [
       "1234567890"
      ]
     },
     "execution_count": 55,
     "metadata": {},
     "output_type": "execute_result"
    }
   ],
   "source": [
    "pwskills100.mobile_number"
   ]
  },
  {
   "cell_type": "code",
   "execution_count": 56,
   "id": "6a4b3115-5b9e-4efb-82e6-1499fae4206c",
   "metadata": {},
   "outputs": [],
   "source": [
    "pwskills100.change_mobile_number(2222222222222222)"
   ]
  },
  {
   "cell_type": "code",
   "execution_count": 57,
   "id": "ae83d7b9-2cd4-46a8-87d3-6882b16d7b30",
   "metadata": {},
   "outputs": [
    {
     "data": {
      "text/plain": [
       "2222222222222222"
      ]
     },
     "execution_count": 57,
     "metadata": {},
     "output_type": "execute_result"
    }
   ],
   "source": [
    "pwskills100.mobile_number"
   ]
  },
  {
   "cell_type": "code",
   "execution_count": 58,
   "id": "a04f7ba8-b812-4df2-9ca7-cf0ce0a88819",
   "metadata": {},
   "outputs": [],
   "source": [
    "pw_obj = pwskills100('dhwani','dhwani@abc.com')"
   ]
  },
  {
   "cell_type": "code",
   "execution_count": 59,
   "id": "6cc4f59e-de91-40f0-830e-67c5ab5a002b",
   "metadata": {},
   "outputs": [
    {
     "name": "stdout",
     "output_type": "stream",
     "text": [
      "dhwani dhwani@abc.com 2222222222222222\n"
     ]
    }
   ],
   "source": [
    "pw_obj.student_details()"
   ]
  },
  {
   "cell_type": "code",
   "execution_count": 60,
   "id": "4ff764e6-aba0-4fb2-b11e-41d316025e73",
   "metadata": {},
   "outputs": [],
   "source": [
    "pwskills100.change_mobile_number(5555555555555)"
   ]
  },
  {
   "cell_type": "code",
   "execution_count": 63,
   "id": "7ea257e3-d01a-4403-99f6-7df05bf0bbb0",
   "metadata": {},
   "outputs": [
    {
     "name": "stdout",
     "output_type": "stream",
     "text": [
      "dhwani dhwani@abc.com 5555555555555\n"
     ]
    }
   ],
   "source": [
    "pw_obj.student_details()"
   ]
  },
  {
   "cell_type": "code",
   "execution_count": 65,
   "id": "0145fd75-7c76-4881-b738-3e617900e990",
   "metadata": {},
   "outputs": [],
   "source": [
    "pw = pwskills100.details('honey','honey@abc.com')"
   ]
  },
  {
   "cell_type": "code",
   "execution_count": 66,
   "id": "70bfc6d8-6579-4189-aa1e-5dd830b3e3ef",
   "metadata": {},
   "outputs": [
    {
     "name": "stdout",
     "output_type": "stream",
     "text": [
      "honey honey@abc.com 5555555555555\n"
     ]
    }
   ],
   "source": [
    "pw.student_details()"
   ]
  },
  {
   "cell_type": "code",
   "execution_count": 67,
   "id": "3ff5db78-9640-4d13-8f5c-fdcff3eafd34",
   "metadata": {},
   "outputs": [],
   "source": [
    "class pwskills99:\n",
    "    \n",
    "    mobile_number = 1234567890\n",
    "    \n",
    "    def __init__(self,name,email):\n",
    "        \n",
    "        self.name=name\n",
    "        self.email=email\n",
    "     \n",
    "    @classmethod\n",
    "    def change_mobile_number(cls,mobile):\n",
    "        pwskills99.mobile_number = mobile\n",
    "    \n",
    "    @classmethod\n",
    "    def details(cls,name,email):\n",
    "        return cls(name,email)\n",
    "        \n",
    "    def student_details(self):\n",
    "        print(self.name, self.email,pwskills99.mobile_number)"
   ]
  },
  {
   "cell_type": "code",
   "execution_count": 68,
   "id": "c312f8c7-ad88-41e6-a65d-04f5725b53cc",
   "metadata": {},
   "outputs": [],
   "source": [
    "def course_details(cls,course_name):\n",
    "    print(\"course name is \",course_name)"
   ]
  },
  {
   "cell_type": "code",
   "execution_count": 69,
   "id": "cff51d68-9c99-44e7-9af0-b45cfb6e08fd",
   "metadata": {},
   "outputs": [],
   "source": [
    "pwskills99.course_details = classmethod(course_details)"
   ]
  },
  {
   "cell_type": "code",
   "execution_count": 73,
   "id": "1d8cae0d-33ed-415c-bfc4-2b7557027602",
   "metadata": {},
   "outputs": [
    {
     "name": "stdout",
     "output_type": "stream",
     "text": [
      "course name is  data_science\n"
     ]
    }
   ],
   "source": [
    "pwskills99.course_details('data_science')"
   ]
  },
  {
   "cell_type": "code",
   "execution_count": 74,
   "id": "3ac1a7d3-a833-4abb-87cf-e52e9cf52d6f",
   "metadata": {},
   "outputs": [],
   "source": [
    "def classmate(cls,list_of_classmate):\n",
    "    print('list of classmates ',list_of_classmate)"
   ]
  },
  {
   "cell_type": "code",
   "execution_count": 75,
   "id": "b7748299-b482-4294-84b8-6d8ac32a9744",
   "metadata": {},
   "outputs": [],
   "source": [
    "pwskills99.classmate = classmethod(classmate)"
   ]
  },
  {
   "cell_type": "code",
   "execution_count": 77,
   "id": "617ea904-21f9-4e82-8196-af52cd8efb98",
   "metadata": {},
   "outputs": [
    {
     "name": "stdout",
     "output_type": "stream",
     "text": [
      "list of classmates  ['dhwani', 'riddhi', 'kunal']\n"
     ]
    }
   ],
   "source": [
    "pwskills99.classmate(['dhwani','riddhi','kunal'])"
   ]
  },
  {
   "cell_type": "code",
   "execution_count": 78,
   "id": "e772f877-2d5d-43cc-bb6c-b9bc0a989d32",
   "metadata": {},
   "outputs": [],
   "source": [
    "class pwskills4:\n",
    "    \n",
    "    mobile_number = 1234567890\n",
    "    \n",
    "    def __init__(self,name,email):\n",
    "        \n",
    "        self.name=name\n",
    "        self.email=email\n",
    "     \n",
    "    @classmethod\n",
    "    def change_mobile_number(cls,mobile):\n",
    "        pwskills4.mobile_number = mobile\n",
    "    \n",
    "    @classmethod\n",
    "    def details(cls,name,email):\n",
    "        return cls(name,email)\n",
    "        \n",
    "    def student_details(self):\n",
    "        print(self.name, self.email,pwskills4.mobile_number)"
   ]
  },
  {
   "cell_type": "code",
   "execution_count": 79,
   "id": "4bafa9b2-0016-44f6-9773-e9735e2cbef7",
   "metadata": {},
   "outputs": [],
   "source": [
    "del pwskills4.change_mobile_number"
   ]
  },
  {
   "cell_type": "code",
   "execution_count": 80,
   "id": "83c92acb-1c5c-478a-8bdc-54037d7b0048",
   "metadata": {},
   "outputs": [
    {
     "ename": "AttributeError",
     "evalue": "type object 'pwskills4' has no attribute 'change_mobile_number'",
     "output_type": "error",
     "traceback": [
      "\u001b[0;31m---------------------------------------------------------------------------\u001b[0m",
      "\u001b[0;31mAttributeError\u001b[0m                            Traceback (most recent call last)",
      "Cell \u001b[0;32mIn[80], line 1\u001b[0m\n\u001b[0;32m----> 1\u001b[0m \u001b[43mpwskills4\u001b[49m\u001b[38;5;241;43m.\u001b[39;49m\u001b[43mchange_mobile_number\u001b[49m(\u001b[38;5;241m1234566798\u001b[39m)\n",
      "\u001b[0;31mAttributeError\u001b[0m: type object 'pwskills4' has no attribute 'change_mobile_number'"
     ]
    }
   ],
   "source": [
    "pwskills4.change_mobile_number(1234566798)"
   ]
  },
  {
   "cell_type": "code",
   "execution_count": 81,
   "id": "dc7276c9-83cf-4428-8f6c-f4af35a877bd",
   "metadata": {},
   "outputs": [],
   "source": [
    "delattr(pwskills4,\"details\")"
   ]
  },
  {
   "cell_type": "markdown",
   "id": "f1b104e7-6dd6-49dd-b072-4d45c9274d57",
   "metadata": {},
   "source": [
    "pwskills4."
   ]
  },
  {
   "cell_type": "code",
   "execution_count": 82,
   "id": "a71fc101-1ff7-4dc1-92e6-4b435a3488a5",
   "metadata": {},
   "outputs": [],
   "source": [
    "delattr(pwskills4,'student_details')"
   ]
  },
  {
   "cell_type": "markdown",
   "id": "3e4a55ec-0ac8-4e9c-bd3a-8b2118881894",
   "metadata": {},
   "source": [
    "pwskills4."
   ]
  },
  {
   "cell_type": "code",
   "execution_count": 83,
   "id": "d8809277-c0c4-4de4-a162-c0b679287ca1",
   "metadata": {},
   "outputs": [],
   "source": [
    "delattr(pwskills4,'mobile_number')"
   ]
  },
  {
   "cell_type": "code",
   "execution_count": 85,
   "id": "f5608877-cb98-40ca-b9ac-a93b46f7258c",
   "metadata": {},
   "outputs": [
    {
     "data": {
      "text/plain": [
       "[__main__.pwskills4, object]"
      ]
     },
     "execution_count": 85,
     "metadata": {},
     "output_type": "execute_result"
    }
   ],
   "source": [
    "pwskills4.mro()"
   ]
  },
  {
   "cell_type": "code",
   "execution_count": null,
   "id": "3aff4545-8a3b-4126-a702-5c86a794bfff",
   "metadata": {},
   "outputs": [],
   "source": []
  }
 ],
 "metadata": {
  "kernelspec": {
   "display_name": "Python 3 (ipykernel)",
   "language": "python",
   "name": "python3"
  },
  "language_info": {
   "codemirror_mode": {
    "name": "ipython",
    "version": 3
   },
   "file_extension": ".py",
   "mimetype": "text/x-python",
   "name": "python",
   "nbconvert_exporter": "python",
   "pygments_lexer": "ipython3",
   "version": "3.10.8"
  }
 },
 "nbformat": 4,
 "nbformat_minor": 5
}
