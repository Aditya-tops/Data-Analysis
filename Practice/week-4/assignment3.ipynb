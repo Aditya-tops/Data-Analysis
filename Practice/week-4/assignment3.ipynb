{
 "cells": [
  {
   "cell_type": "markdown",
   "id": "4b0faf8f-9b57-42f9-a880-446501f22d4b",
   "metadata": {},
   "source": [
    "Q1. What is Abstraction in OOps? Explain with an example.\n",
    "\n",
    "Abstraction is the process of hiding the internal details of an application from the outer world. Abstraction is used to describe things in simple terms. It's used to create a boundary between the application and the client programs"
   ]
  },
  {
   "cell_type": "code",
   "execution_count": 1,
   "id": "236aea88-e386-4333-9693-19586deb38ef",
   "metadata": {},
   "outputs": [],
   "source": [
    "import abc\n",
    "class pwskills:\n",
    "    \n",
    "    \n",
    "    @abc.abstractmethod\n",
    "    def student_details(self):\n",
    "        pass\n",
    "    \n",
    "    @abc.abstractmethod\n",
    "    def studenet_assignment(self):\n",
    "        pass\n",
    "    \n",
    "    @abc.abstractmethod\n",
    "    def student_marks(self):\n",
    "        pass\n",
    "    "
   ]
  },
  {
   "cell_type": "code",
   "execution_count": 2,
   "id": "13976149-a05a-4646-9242-943deb01c95f",
   "metadata": {},
   "outputs": [],
   "source": [
    "class student_details(pwskills):\n",
    "    \n",
    "    def student_details(self):\n",
    "        return 'this is a method for taking student details'\n",
    "    \n",
    "    def studenet_assignment(self):\n",
    "        return ' this is a method for taking student assgnment'"
   ]
  },
  {
   "cell_type": "code",
   "execution_count": 3,
   "id": "28f15512-53a6-4a4c-bc37-9fae39ac1749",
   "metadata": {},
   "outputs": [],
   "source": [
    "class data_science_maters(pwskills):\n",
    "    \n",
    "    def data_science_maters(self):\n",
    "        return ' this will return a  student  details for a data science master'\n",
    "    \n",
    "    def studenet_assignment(self):\n",
    "        return 'this will give u staudent  assignment details for data science masters'"
   ]
  },
  {
   "cell_type": "code",
   "execution_count": 4,
   "id": "57b39cd4-6a6d-4df0-9ccc-bf132d273b49",
   "metadata": {},
   "outputs": [
    {
     "data": {
      "text/plain": [
       "'this will give u staudent  assignment details for data science masters'"
      ]
     },
     "execution_count": 4,
     "metadata": {},
     "output_type": "execute_result"
    }
   ],
   "source": [
    "dsm = data_science_maters()\n",
    "dsm.studenet_assignment()"
   ]
  },
  {
   "cell_type": "code",
   "execution_count": 5,
   "id": "42a517c5-c550-49ea-8062-b7fd6fb76248",
   "metadata": {},
   "outputs": [
    {
     "data": {
      "text/plain": [
       "'this is a method for taking student details'"
      ]
     },
     "execution_count": 5,
     "metadata": {},
     "output_type": "execute_result"
    }
   ],
   "source": [
    "stud=student_details()\n",
    "stud.student_details()"
   ]
  },
  {
   "cell_type": "markdown",
   "id": "58e2896b-742f-4167-a1e7-f05e379122cc",
   "metadata": {},
   "source": [
    "Q2. Differentiate between Abstraction and Encapsulation. Explain with an example.\n",
    "\n",
    "    Abstraction is a process of hiding the implementation details of a system from the user, and only the functional details will be available to the user end. On the other hand, \n",
    "    Encapsulation is a method of wrapping up the data and code acting on the data into a single unit."
   ]
  },
  {
   "cell_type": "code",
   "execution_count": 6,
   "id": "c959bc77-b84e-428e-b9a4-4800c0cd3230",
   "metadata": {},
   "outputs": [],
   "source": [
    "# abstraction\n",
    "\n",
    "import abc\n",
    "class pwskills:\n",
    "    \n",
    "    \n",
    "    @abc.abstractmethod\n",
    "    def student_details(self):\n",
    "        pass\n",
    "    \n",
    "    @abc.abstractmethod\n",
    "    def studenet_assignment(self):\n",
    "        pass\n",
    "    \n",
    "    @abc.abstractmethod\n",
    "    def student_marks(self):\n",
    "        pass\n",
    "    "
   ]
  },
  {
   "cell_type": "code",
   "execution_count": 7,
   "id": "aae1a958-c404-4031-8bc0-085f97a3c94b",
   "metadata": {},
   "outputs": [],
   "source": [
    "class student_details(pwskills):\n",
    "    \n",
    "    def student_details(self):\n",
    "        return 'this is a method for taking student details'\n",
    "    \n",
    "    def studenet_assignment(self):\n",
    "        return ' this is a method for taking student assgnment'"
   ]
  },
  {
   "cell_type": "code",
   "execution_count": 8,
   "id": "910d8f6d-b9ee-4e5d-8416-eb6d056c7482",
   "metadata": {},
   "outputs": [],
   "source": [
    "class data_science_maters(pwskills):\n",
    "    \n",
    "    def data_science_maters(self):\n",
    "        return ' this will return a  student  details for a data science master'\n",
    "    \n",
    "    def studenet_assignment(self):\n",
    "        return 'this will give u staudent  assignment details for data science masters'"
   ]
  },
  {
   "cell_type": "code",
   "execution_count": 9,
   "id": "fec7b227-751a-461c-b5e7-6eb27cfbae86",
   "metadata": {},
   "outputs": [
    {
     "data": {
      "text/plain": [
       "'this will give u staudent  assignment details for data science masters'"
      ]
     },
     "execution_count": 9,
     "metadata": {},
     "output_type": "execute_result"
    }
   ],
   "source": [
    "dsm = data_science_maters()\n",
    "dsm.studenet_assignment()"
   ]
  },
  {
   "cell_type": "code",
   "execution_count": 10,
   "id": "ea01a2fa-12bd-407e-98d4-32f67c2d272e",
   "metadata": {},
   "outputs": [
    {
     "data": {
      "text/plain": [
       "'this is a method for taking student details'"
      ]
     },
     "execution_count": 10,
     "metadata": {},
     "output_type": "execute_result"
    }
   ],
   "source": [
    "stud=student_details()\n",
    "stud.student_details()"
   ]
  },
  {
   "cell_type": "code",
   "execution_count": 11,
   "id": "774363ae-1e3b-4f23-9f81-257093672ecc",
   "metadata": {},
   "outputs": [],
   "source": [
    "# encapsulation\n",
    "\n",
    "class BankAccount:\n",
    "    \n",
    "    def __init__(self, balance):\n",
    "        self.balance = balance\n",
    "        \n",
    "    def deposit(self, amount):\n",
    "        self.balance = self.balance + amount\n",
    "        \n",
    "    def withdraw(self, amount):\n",
    "        if self.balance >= amount:\n",
    "            self.balance = self.balance - amount\n",
    "            return True\n",
    "        else:\n",
    "            return False\n",
    "        \n",
    "    def get_balance(self):\n",
    "        return self.balance"
   ]
  },
  {
   "cell_type": "code",
   "execution_count": 12,
   "id": "d0704761-ec93-4a0d-8450-eb9abfbd6c34",
   "metadata": {},
   "outputs": [],
   "source": [
    "aditya = BankAccount(1000)"
   ]
  },
  {
   "cell_type": "code",
   "execution_count": 13,
   "id": "6a3dc873-316f-45c7-b85f-9eeef0d43770",
   "metadata": {},
   "outputs": [
    {
     "data": {
      "text/plain": [
       "1000"
      ]
     },
     "execution_count": 13,
     "metadata": {},
     "output_type": "execute_result"
    }
   ],
   "source": [
    "aditya.get_balance()"
   ]
  },
  {
   "cell_type": "code",
   "execution_count": 14,
   "id": "afb443ce-5eb0-4ea1-96ca-8025b997e103",
   "metadata": {},
   "outputs": [],
   "source": [
    "aditya.deposit(5000)"
   ]
  },
  {
   "cell_type": "code",
   "execution_count": 15,
   "id": "299438fa-35ad-4f2d-8571-83e2510f9c13",
   "metadata": {},
   "outputs": [
    {
     "data": {
      "text/plain": [
       "6000"
      ]
     },
     "execution_count": 15,
     "metadata": {},
     "output_type": "execute_result"
    }
   ],
   "source": [
    "aditya.get_balance()"
   ]
  },
  {
   "cell_type": "code",
   "execution_count": 16,
   "id": "8d30a160-fef5-4024-8958-7e36297aca38",
   "metadata": {},
   "outputs": [],
   "source": [
    "aditya.deposit(1000)"
   ]
  },
  {
   "cell_type": "code",
   "execution_count": 17,
   "id": "bb7400e5-9659-40ba-9e1c-9a28d6321416",
   "metadata": {},
   "outputs": [
    {
     "data": {
      "text/plain": [
       "7000"
      ]
     },
     "execution_count": 17,
     "metadata": {},
     "output_type": "execute_result"
    }
   ],
   "source": [
    "aditya.get_balance()"
   ]
  },
  {
   "cell_type": "code",
   "execution_count": 18,
   "id": "3752bf4e-5c8b-4c5f-b47d-23f6270fe222",
   "metadata": {},
   "outputs": [
    {
     "data": {
      "text/plain": [
       "False"
      ]
     },
     "execution_count": 18,
     "metadata": {},
     "output_type": "execute_result"
    }
   ],
   "source": [
    "aditya.withdraw(9000)"
   ]
  },
  {
   "cell_type": "code",
   "execution_count": 19,
   "id": "516233be-b83e-4669-8362-1916f0dde14c",
   "metadata": {},
   "outputs": [
    {
     "data": {
      "text/plain": [
       "True"
      ]
     },
     "execution_count": 19,
     "metadata": {},
     "output_type": "execute_result"
    }
   ],
   "source": [
    "aditya.withdraw(2000)"
   ]
  },
  {
   "cell_type": "code",
   "execution_count": 20,
   "id": "8e988ab5-ad7f-4bf3-ab4c-f2dd774fcff7",
   "metadata": {},
   "outputs": [
    {
     "data": {
      "text/plain": [
       "5000"
      ]
     },
     "execution_count": 20,
     "metadata": {},
     "output_type": "execute_result"
    }
   ],
   "source": [
    "aditya.get_balance()"
   ]
  },
  {
   "cell_type": "markdown",
   "id": "52a53612-c26f-4184-9bee-5ae32a0a6422",
   "metadata": {},
   "source": [
    "Q3. What is abc module in python? Why is it used?\n",
    "\n",
    "The abc module in Python stands for \"Abstract Base Classes.\" It provides a way to define abstract base classes (ABCs) and abstract methods. Abstract base classes are classes that cannot be instantiated on their own but serve as a template for other classes to inherit from. The abc module helps in enforcing a programming contract by ensuring that specific methods must be implemented by the derived classes.\n",
    "\n",
    "Key components of the abc module include:\n",
    "\n",
    "    ABC (Abstract Base Class): An abstract base class is a class that cannot be instantiated directly but is meant to be subclassed by other classes. It defines a set of abstract methods that must be implemented by its subclasses.\n",
    "\n",
    "    abstractmethod: This is a decorator provided by the abc module that is used to declare abstract methods within an abstract base class. Any class that inherits from this abstract base class must provide concrete implementations for these abstract methods."
   ]
  },
  {
   "cell_type": "code",
   "execution_count": null,
   "id": "515bc556-c3f4-4412-a479-437008ad028e",
   "metadata": {},
   "outputs": [],
   "source": []
  }
 ],
 "metadata": {
  "kernelspec": {
   "display_name": "Python 3 (ipykernel)",
   "language": "python",
   "name": "python3"
  },
  "language_info": {
   "codemirror_mode": {
    "name": "ipython",
    "version": 3
   },
   "file_extension": ".py",
   "mimetype": "text/x-python",
   "name": "python",
   "nbconvert_exporter": "python",
   "pygments_lexer": "ipython3",
   "version": "3.10.8"
  }
 },
 "nbformat": 4,
 "nbformat_minor": 5
}
