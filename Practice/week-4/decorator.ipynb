{
 "cells": [
  {
   "cell_type": "code",
   "execution_count": 5,
   "id": "9da78c49-0d4d-4f94-a242-c1b3dc42bf67",
   "metadata": {},
   "outputs": [],
   "source": [
    "def test():\n",
    "    print('this is start of my function ')\n",
    "    print('this is my function to test')\n",
    "    print(4+5)\n",
    "    print('this is the end of my function')"
   ]
  },
  {
   "cell_type": "code",
   "execution_count": 6,
   "id": "461591c0-04f2-44df-b3c3-19561657c00d",
   "metadata": {},
   "outputs": [
    {
     "name": "stdout",
     "output_type": "stream",
     "text": [
      "this is start of my function \n",
      "this is my function to test\n",
      "9\n",
      "this is the end of my function\n"
     ]
    }
   ],
   "source": [
    "test()"
   ]
  },
  {
   "cell_type": "code",
   "execution_count": 7,
   "id": "6ca8944a-24fb-49e0-bc6e-6fe23ee80110",
   "metadata": {},
   "outputs": [],
   "source": [
    "def decorator(func):\n",
    "    \n",
    "    def inner_dec():\n",
    "        print('this is the start of my function')\n",
    "        func()\n",
    "        print('this is the end of my function')\n",
    "        \n",
    "    return inner_dec"
   ]
  },
  {
   "cell_type": "code",
   "execution_count": 8,
   "id": "49f84454-f5f5-4800-824b-f830c8623da2",
   "metadata": {},
   "outputs": [],
   "source": [
    "def test1():\n",
    "    print(6+7)"
   ]
  },
  {
   "cell_type": "code",
   "execution_count": 9,
   "id": "5cba7a78-7aff-41a3-8638-96dad91e269f",
   "metadata": {},
   "outputs": [
    {
     "name": "stdout",
     "output_type": "stream",
     "text": [
      "13\n"
     ]
    }
   ],
   "source": [
    "test1()"
   ]
  },
  {
   "cell_type": "code",
   "execution_count": 13,
   "id": "6e1cbce1-18ac-405b-90fb-fc165b2d9b81",
   "metadata": {},
   "outputs": [],
   "source": [
    "@decorator\n",
    "def test2():\n",
    "    print(6+7)"
   ]
  },
  {
   "cell_type": "code",
   "execution_count": 14,
   "id": "0458ef04-24aa-4160-99c4-5332ac79452a",
   "metadata": {},
   "outputs": [
    {
     "name": "stdout",
     "output_type": "stream",
     "text": [
      "this is the start of my function\n",
      "13\n",
      "this is the end of my function\n"
     ]
    }
   ],
   "source": [
    "test2()"
   ]
  },
  {
   "cell_type": "code",
   "execution_count": 15,
   "id": "831d5d4f-d616-4a00-b382-75aee6f96281",
   "metadata": {},
   "outputs": [],
   "source": [
    "import time \n",
    "\n",
    "def timer_test(func):\n",
    "    def timer_test_inner():\n",
    "        start = time.time()\n",
    "        func()\n",
    "        end = time.time()\n",
    "        print(end - start)\n",
    "        \n",
    "    return timer_test_inner"
   ]
  },
  {
   "cell_type": "code",
   "execution_count": 16,
   "id": "6ff53ab9-6e69-4ddb-8da8-73a8c3e99fb1",
   "metadata": {},
   "outputs": [],
   "source": [
    "def test3():\n",
    "    print(45+55)"
   ]
  },
  {
   "cell_type": "code",
   "execution_count": 17,
   "id": "0279de6c-bec7-4f8c-b1bd-09a39ec219ff",
   "metadata": {},
   "outputs": [
    {
     "name": "stdout",
     "output_type": "stream",
     "text": [
      "100\n"
     ]
    }
   ],
   "source": [
    "test3()"
   ]
  },
  {
   "cell_type": "code",
   "execution_count": 18,
   "id": "eb822b8f-cdfa-476f-867a-cab440153539",
   "metadata": {},
   "outputs": [],
   "source": [
    "def test4():\n",
    "    print(45+55)"
   ]
  },
  {
   "cell_type": "code",
   "execution_count": 19,
   "id": "f3c62204-97bb-4599-874d-1e9d8e5f5d80",
   "metadata": {},
   "outputs": [],
   "source": [
    "@timer_test\n",
    "\n",
    "def test4():\n",
    "    print(45+55)"
   ]
  },
  {
   "cell_type": "code",
   "execution_count": 20,
   "id": "da0eae87-0444-4f4f-b45d-bedad44c47fb",
   "metadata": {},
   "outputs": [
    {
     "name": "stdout",
     "output_type": "stream",
     "text": [
      "100\n",
      "5.1021575927734375e-05\n"
     ]
    }
   ],
   "source": [
    "test4()"
   ]
  },
  {
   "cell_type": "code",
   "execution_count": 21,
   "id": "7d934d1a-e3a1-4eca-888a-c41618b634d6",
   "metadata": {},
   "outputs": [],
   "source": [
    "@timer_test\n",
    "def test5():\n",
    "    \n",
    "    for i in range(100000000):\n",
    "        pass"
   ]
  },
  {
   "cell_type": "code",
   "execution_count": 23,
   "id": "531f0e1e-e64e-4e09-8647-dade0a5fa0d3",
   "metadata": {},
   "outputs": [
    {
     "name": "stdout",
     "output_type": "stream",
     "text": [
      "2.906553030014038\n"
     ]
    }
   ],
   "source": [
    "test5()"
   ]
  },
  {
   "cell_type": "code",
   "execution_count": null,
   "id": "6eebb878-5b4c-4a0b-ad6a-25b6391fb81f",
   "metadata": {},
   "outputs": [],
   "source": []
  }
 ],
 "metadata": {
  "kernelspec": {
   "display_name": "Python 3 (ipykernel)",
   "language": "python",
   "name": "python3"
  },
  "language_info": {
   "codemirror_mode": {
    "name": "ipython",
    "version": 3
   },
   "file_extension": ".py",
   "mimetype": "text/x-python",
   "name": "python",
   "nbconvert_exporter": "python",
   "pygments_lexer": "ipython3",
   "version": "3.10.8"
  }
 },
 "nbformat": 4,
 "nbformat_minor": 5
}
