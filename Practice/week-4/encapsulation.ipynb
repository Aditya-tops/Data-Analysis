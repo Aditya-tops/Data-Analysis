{
 "cells": [
  {
   "cell_type": "code",
   "execution_count": 1,
   "id": "9276cf04-cfc2-456c-9639-e4d425d35d74",
   "metadata": {},
   "outputs": [],
   "source": [
    "class test:\n",
    "    def __init__(self,a,b):\n",
    "        \n",
    "        self.a=a\n",
    "        self.b=b"
   ]
  },
  {
   "cell_type": "code",
   "execution_count": 2,
   "id": "0b8c4935-f1c8-4997-9fff-f0879e074082",
   "metadata": {},
   "outputs": [
    {
     "data": {
      "text/plain": [
       "__main__.test"
      ]
     },
     "execution_count": 2,
     "metadata": {},
     "output_type": "execute_result"
    }
   ],
   "source": [
    "test"
   ]
  },
  {
   "cell_type": "code",
   "execution_count": 3,
   "id": "2504b5a8-aaa0-41d4-9659-58dbe3f51d72",
   "metadata": {},
   "outputs": [],
   "source": [
    "t = test(23,14)"
   ]
  },
  {
   "cell_type": "code",
   "execution_count": 4,
   "id": "ec79f85c-ee65-4188-a4c8-ca1c5c964b87",
   "metadata": {},
   "outputs": [],
   "source": [
    "t.a = 1232456"
   ]
  },
  {
   "cell_type": "code",
   "execution_count": 5,
   "id": "61201e45-a143-4a5f-840d-7a207c90cf20",
   "metadata": {},
   "outputs": [
    {
     "data": {
      "text/plain": [
       "1232456"
      ]
     },
     "execution_count": 5,
     "metadata": {},
     "output_type": "execute_result"
    }
   ],
   "source": [
    "t.a"
   ]
  },
  {
   "cell_type": "code",
   "execution_count": 6,
   "id": "56623891-2c10-4826-8e20-fcbb45b3a39a",
   "metadata": {},
   "outputs": [],
   "source": [
    "class car :\n",
    "    \n",
    "    def __init__(self,year,make,model,speed):\n",
    "        \n",
    "        self.__year = year\n",
    "        self.__make = make\n",
    "        self.__model= model\n",
    "        self.__speed= 0"
   ]
  },
  {
   "cell_type": "code",
   "execution_count": 7,
   "id": "0a9fd72e-7a40-415b-b15b-a3627274da77",
   "metadata": {},
   "outputs": [],
   "source": [
    "c = car (2021,'toyeta','innova',12)"
   ]
  },
  {
   "cell_type": "markdown",
   "id": "08972c26-f499-4c25-a036-1411658ca134",
   "metadata": {},
   "source": [
    "c. #notfound hint press tab"
   ]
  },
  {
   "cell_type": "code",
   "execution_count": 8,
   "id": "1feb38e1-0bf8-40cd-bde6-d633e84fb8c6",
   "metadata": {},
   "outputs": [
    {
     "data": {
      "text/plain": [
       "2021"
      ]
     },
     "execution_count": 8,
     "metadata": {},
     "output_type": "execute_result"
    }
   ],
   "source": [
    "c._car__year"
   ]
  },
  {
   "cell_type": "code",
   "execution_count": 13,
   "id": "41c40fb1-6163-4198-a3dd-fff7b3139b89",
   "metadata": {},
   "outputs": [],
   "source": [
    "class car :\n",
    "    \n",
    "    def __init__(self,year,make,model,speed):\n",
    "        \n",
    "        self.__year = year\n",
    "        self.__make = make\n",
    "        self.__model= model\n",
    "        self.__speed= 0\n",
    "        \n",
    "    def set_speed(self,speed):\n",
    "        self.__speed = 0 if speed < 0 else speed\n",
    "        \n",
    "    def get_speed(self):\n",
    "        return self.__speed"
   ]
  },
  {
   "cell_type": "code",
   "execution_count": 14,
   "id": "664d0212-c7d4-4b03-aeae-27ecbcca1df3",
   "metadata": {},
   "outputs": [],
   "source": [
    "c = car (2021,'toyeta','innova',12)"
   ]
  },
  {
   "cell_type": "code",
   "execution_count": 15,
   "id": "db989967-8f55-47a2-b14c-483cfdc58ce6",
   "metadata": {},
   "outputs": [
    {
     "data": {
      "text/plain": [
       "2021"
      ]
     },
     "execution_count": 15,
     "metadata": {},
     "output_type": "execute_result"
    }
   ],
   "source": [
    "c._car__year"
   ]
  },
  {
   "cell_type": "code",
   "execution_count": 16,
   "id": "30462a5d-a89c-4c86-a7be-fcf75aba8659",
   "metadata": {},
   "outputs": [],
   "source": [
    "c.set_speed(-300)"
   ]
  },
  {
   "cell_type": "code",
   "execution_count": 17,
   "id": "7abcd39e-e3f0-4038-b646-1c0b4437c4a9",
   "metadata": {},
   "outputs": [
    {
     "data": {
      "text/plain": [
       "0"
      ]
     },
     "execution_count": 17,
     "metadata": {},
     "output_type": "execute_result"
    }
   ],
   "source": [
    "c.get_speed()"
   ]
  },
  {
   "cell_type": "code",
   "execution_count": 18,
   "id": "a4fba553-b5ab-4ee5-ac38-25a3bfaba42f",
   "metadata": {},
   "outputs": [],
   "source": [
    "c.set_speed(200)"
   ]
  },
  {
   "cell_type": "code",
   "execution_count": 19,
   "id": "2e61c618-27d9-4535-80f5-750b049e5776",
   "metadata": {},
   "outputs": [
    {
     "data": {
      "text/plain": [
       "200"
      ]
     },
     "execution_count": 19,
     "metadata": {},
     "output_type": "execute_result"
    }
   ],
   "source": [
    "c.get_speed()"
   ]
  },
  {
   "cell_type": "code",
   "execution_count": 23,
   "id": "465fb752-9aeb-4742-bc31-4904e94aaf75",
   "metadata": {},
   "outputs": [],
   "source": [
    "class BankAccount:\n",
    "    \n",
    "    def __init__(self, balance):\n",
    "        self.balance = balance\n",
    "        \n",
    "    def deposit(self, amount):\n",
    "        self.balance = self.balance + amount\n",
    "        \n",
    "    def withdraw(self, amount):\n",
    "        if self.balance >= amount:\n",
    "            self.balance = self.balance - amount\n",
    "            return True\n",
    "        else:\n",
    "            return False\n",
    "        \n",
    "    def get_balance(self):\n",
    "        return self.balance\n"
   ]
  },
  {
   "cell_type": "code",
   "execution_count": 26,
   "id": "ff3c9c5b-e9b2-4897-91f7-c034a0b68cda",
   "metadata": {},
   "outputs": [],
   "source": [
    "aditya = BankAccount(1000)"
   ]
  },
  {
   "cell_type": "code",
   "execution_count": 27,
   "id": "cf528745-83cf-430d-8a2a-b37fd0997302",
   "metadata": {},
   "outputs": [
    {
     "data": {
      "text/plain": [
       "1000"
      ]
     },
     "execution_count": 27,
     "metadata": {},
     "output_type": "execute_result"
    }
   ],
   "source": [
    "aditya.get_balance()"
   ]
  },
  {
   "cell_type": "code",
   "execution_count": 28,
   "id": "d825d4b3-8df4-4aac-8084-ca59e95ec82e",
   "metadata": {},
   "outputs": [],
   "source": [
    "aditya.deposit(5000)"
   ]
  },
  {
   "cell_type": "code",
   "execution_count": 29,
   "id": "d4ba3b7b-2f6e-4ecf-8a21-1bf825620688",
   "metadata": {},
   "outputs": [
    {
     "data": {
      "text/plain": [
       "6000"
      ]
     },
     "execution_count": 29,
     "metadata": {},
     "output_type": "execute_result"
    }
   ],
   "source": [
    "aditya.get_balance()"
   ]
  },
  {
   "cell_type": "code",
   "execution_count": 30,
   "id": "8a7cf8c8-f852-4647-8092-112727f34e15",
   "metadata": {},
   "outputs": [],
   "source": [
    "aditya.deposit(1000)"
   ]
  },
  {
   "cell_type": "code",
   "execution_count": 31,
   "id": "1004ca1b-a2cd-451e-81a6-3c3ffff2c5e5",
   "metadata": {},
   "outputs": [
    {
     "data": {
      "text/plain": [
       "7000"
      ]
     },
     "execution_count": 31,
     "metadata": {},
     "output_type": "execute_result"
    }
   ],
   "source": [
    "aditya.get_balance()"
   ]
  },
  {
   "cell_type": "code",
   "execution_count": 32,
   "id": "4a9d412f-237d-4cc2-8175-9afb10081e70",
   "metadata": {},
   "outputs": [
    {
     "data": {
      "text/plain": [
       "False"
      ]
     },
     "execution_count": 32,
     "metadata": {},
     "output_type": "execute_result"
    }
   ],
   "source": [
    "aditya.withdraw(9000)"
   ]
  },
  {
   "cell_type": "code",
   "execution_count": 33,
   "id": "e2d512d7-7fce-478b-9118-ef28f11479fc",
   "metadata": {},
   "outputs": [
    {
     "data": {
      "text/plain": [
       "True"
      ]
     },
     "execution_count": 33,
     "metadata": {},
     "output_type": "execute_result"
    }
   ],
   "source": [
    "aditya.withdraw(2000)"
   ]
  },
  {
   "cell_type": "code",
   "execution_count": 34,
   "id": "82d92635-34ae-4be0-b369-e8e21bff198f",
   "metadata": {},
   "outputs": [
    {
     "data": {
      "text/plain": [
       "5000"
      ]
     },
     "execution_count": 34,
     "metadata": {},
     "output_type": "execute_result"
    }
   ],
   "source": [
    "aditya.get_balance()"
   ]
  },
  {
   "cell_type": "code",
   "execution_count": null,
   "id": "6c57a20d-6199-4533-bf93-a67cf201692d",
   "metadata": {},
   "outputs": [],
   "source": []
  }
 ],
 "metadata": {
  "kernelspec": {
   "display_name": "Python 3 (ipykernel)",
   "language": "python",
   "name": "python3"
  },
  "language_info": {
   "codemirror_mode": {
    "name": "ipython",
    "version": 3
   },
   "file_extension": ".py",
   "mimetype": "text/x-python",
   "name": "python",
   "nbconvert_exporter": "python",
   "pygments_lexer": "ipython3",
   "version": "3.10.8"
  }
 },
 "nbformat": 4,
 "nbformat_minor": 5
}
