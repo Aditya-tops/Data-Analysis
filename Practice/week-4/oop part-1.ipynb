{
 "cells": [
  {
   "cell_type": "code",
   "execution_count": 1,
   "id": "2b32786b-2649-4c6f-9060-24c7e69fcf96",
   "metadata": {},
   "outputs": [],
   "source": [
    "a = 1"
   ]
  },
  {
   "cell_type": "code",
   "execution_count": 2,
   "id": "6c8a96dd-364b-4ef0-880e-a76faf76591b",
   "metadata": {},
   "outputs": [
    {
     "name": "stdout",
     "output_type": "stream",
     "text": [
      "<class 'int'>\n"
     ]
    }
   ],
   "source": [
    "print(type(a))"
   ]
  },
  {
   "cell_type": "code",
   "execution_count": 4,
   "id": "f02a48b9-762c-4c67-9a07-6df68001226b",
   "metadata": {},
   "outputs": [
    {
     "name": "stdout",
     "output_type": "stream",
     "text": [
      "<class 'str'>\n"
     ]
    }
   ],
   "source": [
    "print(type(\"pwskills\"))"
   ]
  },
  {
   "cell_type": "code",
   "execution_count": 5,
   "id": "77b4614d-73dd-4073-a8da-384397b2e10c",
   "metadata": {},
   "outputs": [
    {
     "ename": "SyntaxError",
     "evalue": "incomplete input (3527747674.py, line 1)",
     "output_type": "error",
     "traceback": [
      "\u001b[0;36m  Cell \u001b[0;32mIn[5], line 1\u001b[0;36m\u001b[0m\n\u001b[0;31m    class test:\u001b[0m\n\u001b[0m               ^\u001b[0m\n\u001b[0;31mSyntaxError\u001b[0m\u001b[0;31m:\u001b[0m incomplete input\n"
     ]
    }
   ],
   "source": [
    "class test:"
   ]
  },
  {
   "cell_type": "code",
   "execution_count": 6,
   "id": "ecc25195-0623-4f34-ac23-9bc20cfdc2cb",
   "metadata": {},
   "outputs": [],
   "source": [
    "class test :\n",
    "    pass"
   ]
  },
  {
   "cell_type": "code",
   "execution_count": 7,
   "id": "edf9f2e0-4f29-4f56-8f6a-06c6ee8f135e",
   "metadata": {},
   "outputs": [],
   "source": [
    "a = test()"
   ]
  },
  {
   "cell_type": "code",
   "execution_count": 8,
   "id": "1789c77d-a73a-4c77-8081-43619cfdd0ec",
   "metadata": {},
   "outputs": [
    {
     "data": {
      "text/plain": [
       "__main__.test"
      ]
     },
     "execution_count": 8,
     "metadata": {},
     "output_type": "execute_result"
    }
   ],
   "source": [
    "type(a)"
   ]
  },
  {
   "cell_type": "code",
   "execution_count": 30,
   "id": "976e46d1-7c99-4044-931f-fdf5e9f0fbbf",
   "metadata": {},
   "outputs": [],
   "source": [
    "class pwskills :\n",
    "    \n",
    "    def welcome(self):\n",
    "        print(\"welcome to pwskills\")"
   ]
  },
  {
   "cell_type": "code",
   "execution_count": 31,
   "id": "4da91981-92ca-4b2f-9425-a630b55e0658",
   "metadata": {},
   "outputs": [],
   "source": [
    "rohan = pwskills()"
   ]
  },
  {
   "cell_type": "code",
   "execution_count": 32,
   "id": "c7d360bc-50d0-4917-867c-2db58362edcf",
   "metadata": {},
   "outputs": [
    {
     "name": "stdout",
     "output_type": "stream",
     "text": [
      "<class '__main__.pwskills'>\n"
     ]
    }
   ],
   "source": [
    "print(type(rohan))"
   ]
  },
  {
   "cell_type": "code",
   "execution_count": 33,
   "id": "a298d283-6bde-4e8b-a517-c40d5423ff6b",
   "metadata": {},
   "outputs": [
    {
     "name": "stdout",
     "output_type": "stream",
     "text": [
      "welcome to pwskills\n"
     ]
    }
   ],
   "source": [
    "rohan.welcome()"
   ]
  },
  {
   "cell_type": "code",
   "execution_count": 34,
   "id": "7faf3f32-25d0-4bcf-a4a0-c237266d774d",
   "metadata": {},
   "outputs": [],
   "source": [
    "aditya = pwskills()"
   ]
  },
  {
   "cell_type": "code",
   "execution_count": 35,
   "id": "5f6d9afa-f145-48fe-9fe1-879aa1e36169",
   "metadata": {},
   "outputs": [
    {
     "name": "stdout",
     "output_type": "stream",
     "text": [
      "welcome to pwskills\n"
     ]
    }
   ],
   "source": [
    "aditya.welcome()"
   ]
  },
  {
   "cell_type": "code",
   "execution_count": 42,
   "id": "9a6a59ee-388f-44e5-b1b7-09497fb11946",
   "metadata": {},
   "outputs": [],
   "source": [
    "class pwskills1 :\n",
    "    \n",
    "    def __init__(self,phone_number, email_id, student_id):\n",
    "        \n",
    "        self.phone_number = phone_number\n",
    "        self.email_id = email_id\n",
    "        self.student_id = student_id\n",
    "        \n",
    "    def return_student_details(self):\n",
    "        return self.student_id ,self.phone_number,self.email_id"
   ]
  },
  {
   "cell_type": "code",
   "execution_count": 40,
   "id": "3d05ab1d-9846-423a-9eb3-48681f567680",
   "metadata": {},
   "outputs": [
    {
     "ename": "TypeError",
     "evalue": "pwskills1.__init__() missing 3 required positional arguments: 'phone_number', 'email_id', and 'student_id'",
     "output_type": "error",
     "traceback": [
      "\u001b[0;31m---------------------------------------------------------------------------\u001b[0m",
      "\u001b[0;31mTypeError\u001b[0m                                 Traceback (most recent call last)",
      "Cell \u001b[0;32mIn[40], line 1\u001b[0m\n\u001b[0;32m----> 1\u001b[0m rohan \u001b[38;5;241m=\u001b[39m \u001b[43mpwskills1\u001b[49m\u001b[43m(\u001b[49m\u001b[43m)\u001b[49m\n",
      "\u001b[0;31mTypeError\u001b[0m: pwskills1.__init__() missing 3 required positional arguments: 'phone_number', 'email_id', and 'student_id'"
     ]
    }
   ],
   "source": [
    "rohan = pwskills1()"
   ]
  },
  {
   "cell_type": "code",
   "execution_count": 43,
   "id": "72f5cc91-e0fb-4437-814c-bcfebe87557c",
   "metadata": {},
   "outputs": [],
   "source": [
    "rohan = pwskills1(9426388612,\"adorta@gmail.com\",101)"
   ]
  },
  {
   "cell_type": "code",
   "execution_count": 44,
   "id": "93b3a39b-18e6-41d6-ac52-d3beed8c8e3c",
   "metadata": {},
   "outputs": [
    {
     "data": {
      "text/plain": [
       "(101, 9426388612, 'adorta@gmail.com')"
      ]
     },
     "execution_count": 44,
     "metadata": {},
     "output_type": "execute_result"
    }
   ],
   "source": [
    "rohan.return_student_details()"
   ]
  },
  {
   "cell_type": "code",
   "execution_count": 45,
   "id": "bf7b2900-29ab-46b6-b245-3ac9a79b3d8a",
   "metadata": {},
   "outputs": [],
   "source": [
    "kunal = pwskills1(65645548793,'kunal@gmail.com',201)"
   ]
  },
  {
   "cell_type": "code",
   "execution_count": 46,
   "id": "04668f92-6b6b-4983-8145-5466d99f1241",
   "metadata": {},
   "outputs": [
    {
     "data": {
      "text/plain": [
       "(201, 65645548793, 'kunal@gmail.com')"
      ]
     },
     "execution_count": 46,
     "metadata": {},
     "output_type": "execute_result"
    }
   ],
   "source": [
    "kunal.return_student_details()"
   ]
  },
  {
   "cell_type": "code",
   "execution_count": 50,
   "id": "3919dc04-cf5a-4ae2-b289-add860fd1c1b",
   "metadata": {},
   "outputs": [],
   "source": [
    "class pwskills2 :\n",
    "    \n",
    "    def __init__(self,phone_number, email_id, student_id):\n",
    "        \n",
    "        self.phone_number1 = phone_number\n",
    "        self.email_id1 = email_id\n",
    "        self.student_id1 = student_id\n",
    "        \n",
    "    def return_student_details(self):\n",
    "        return self.student_id ,self.phone_number,self.email_id"
   ]
  },
  {
   "cell_type": "code",
   "execution_count": 52,
   "id": "b7a1f42d-2791-4fdf-9b85-0ec6122c99b5",
   "metadata": {},
   "outputs": [],
   "source": [
    "aditya = pwskills2(90996588,\"aditya@gmail.com\",230)"
   ]
  },
  {
   "cell_type": "code",
   "execution_count": 53,
   "id": "c0a1c39c-039c-491c-b55d-70563008fb58",
   "metadata": {},
   "outputs": [
    {
     "data": {
      "text/plain": [
       "<__main__.pwskills2 at 0x7fab9c526f80>"
      ]
     },
     "execution_count": 53,
     "metadata": {},
     "output_type": "execute_result"
    }
   ],
   "source": [
    "aditya"
   ]
  },
  {
   "cell_type": "code",
   "execution_count": 54,
   "id": "21cf73b5-72b0-4d9e-b84a-46b7158fa5e0",
   "metadata": {},
   "outputs": [
    {
     "data": {
      "text/plain": [
       "90996588"
      ]
     },
     "execution_count": 54,
     "metadata": {},
     "output_type": "execute_result"
    }
   ],
   "source": [
    "aditya.phone_number1"
   ]
  },
  {
   "cell_type": "code",
   "execution_count": 57,
   "id": "97bfcd1f-137b-4e91-916a-c3a6ec5b520f",
   "metadata": {},
   "outputs": [
    {
     "data": {
      "text/plain": [
       "'aditya@gmail.com'"
      ]
     },
     "execution_count": 57,
     "metadata": {},
     "output_type": "execute_result"
    }
   ],
   "source": [
    "aditya.email_id1"
   ]
  },
  {
   "cell_type": "code",
   "execution_count": 58,
   "id": "17a7fb03-3c96-4fec-9ffd-923f08d6f9a4",
   "metadata": {},
   "outputs": [
    {
     "data": {
      "text/plain": [
       "<bound method pwskills2.return_student_details of <__main__.pwskills2 object at 0x7fab9c526f80>>"
      ]
     },
     "execution_count": 58,
     "metadata": {},
     "output_type": "execute_result"
    }
   ],
   "source": [
    "aditya.return_student_details"
   ]
  },
  {
   "cell_type": "code",
   "execution_count": 3,
   "id": "d8bc3dbd-0658-4df7-aab0-47b17f6fce25",
   "metadata": {},
   "outputs": [],
   "source": [
    "class pwskills3 :\n",
    "    \n",
    "    def __init__(aditya,phone_number, email_id, student_id):\n",
    "        \n",
    "        aditya.phone_number1 = phone_number\n",
    "        aditya.email_id1 = email_id\n",
    "        aditya.student_id1 = student_id\n",
    "        \n",
    "    def return_student_details(aditya):\n",
    "        return aditya.student_id ,aditya.phone_number,aditya.email_id"
   ]
  },
  {
   "cell_type": "code",
   "execution_count": 4,
   "id": "2164ebce-a911-48c4-aecd-9e84a56565d2",
   "metadata": {},
   "outputs": [],
   "source": [
    "rohan = pwskills3(123456789,'abc@gmail.com',555)"
   ]
  },
  {
   "cell_type": "code",
   "execution_count": 5,
   "id": "094b33c4-c113-4b43-8712-13662dc6fc18",
   "metadata": {},
   "outputs": [
    {
     "data": {
      "text/plain": [
       "123456789"
      ]
     },
     "execution_count": 5,
     "metadata": {},
     "output_type": "execute_result"
    }
   ],
   "source": [
    "rohan.phone_number1"
   ]
  },
  {
   "cell_type": "code",
   "execution_count": 6,
   "id": "eb9adc06-9b1b-4788-ad14-f9293263903e",
   "metadata": {},
   "outputs": [
    {
     "data": {
      "text/plain": [
       "<bound method pwskills3.return_student_details of <__main__.pwskills3 object at 0x7fdd20510a60>>"
      ]
     },
     "execution_count": 6,
     "metadata": {},
     "output_type": "execute_result"
    }
   ],
   "source": [
    "rohan.return_student_details"
   ]
  }
 ],
 "metadata": {
  "kernelspec": {
   "display_name": "Python 3 (ipykernel)",
   "language": "python",
   "name": "python3"
  },
  "language_info": {
   "codemirror_mode": {
    "name": "ipython",
    "version": 3
   },
   "file_extension": ".py",
   "mimetype": "text/x-python",
   "name": "python",
   "nbconvert_exporter": "python",
   "pygments_lexer": "ipython3",
   "version": "3.10.8"
  }
 },
 "nbformat": 4,
 "nbformat_minor": 5
}
