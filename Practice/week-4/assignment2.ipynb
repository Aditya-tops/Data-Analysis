{
 "cells": [
  {
   "cell_type": "markdown",
   "id": "5da4a9f0-0e34-4770-93f9-94833c6dd736",
   "metadata": {},
   "source": [
    "Q1. Explain Class and Object with respect to Object-Oriented Programming. Give a suitable example\n",
    "\n",
    "Classes are user-defined data types that act as the blueprint for individual objects, attributes and methods. Objects are instances of a class created with specifically defined data"
   ]
  },
  {
   "cell_type": "code",
   "execution_count": 1,
   "id": "e776f5cf-8ffe-4bbc-a53e-577eff1c99a9",
   "metadata": {},
   "outputs": [],
   "source": [
    "class pwskills3 :\n",
    "    \n",
    "    def __init__(aditya,phone_number, email_id, student_id):\n",
    "        \n",
    "        aditya.phone_number1 = phone_number\n",
    "        aditya.email_id1 = email_id\n",
    "        aditya.student_id1 = student_id\n",
    "        \n",
    "    def return_student_details(aditya):\n",
    "        return aditya.student_id ,aditya.phone_number,aditya.email_id"
   ]
  },
  {
   "cell_type": "code",
   "execution_count": 2,
   "id": "2c71cf80-2ac2-4ea7-88b2-1d608d32af6d",
   "metadata": {},
   "outputs": [],
   "source": [
    "rohan = pwskills3(123456789,'abc@gmail.com',555)"
   ]
  },
  {
   "cell_type": "code",
   "execution_count": 3,
   "id": "36f07cfd-38ab-444f-9729-2cf840d4a0f2",
   "metadata": {},
   "outputs": [
    {
     "data": {
      "text/plain": [
       "123456789"
      ]
     },
     "execution_count": 3,
     "metadata": {},
     "output_type": "execute_result"
    }
   ],
   "source": [
    "rohan.phone_number1"
   ]
  },
  {
   "cell_type": "code",
   "execution_count": 4,
   "id": "a3221573-cf98-4854-b1b9-a653f2da465c",
   "metadata": {},
   "outputs": [
    {
     "data": {
      "text/plain": [
       "<bound method pwskills3.return_student_details of <__main__.pwskills3 object at 0x7faf9d67e3e0>>"
      ]
     },
     "execution_count": 4,
     "metadata": {},
     "output_type": "execute_result"
    }
   ],
   "source": [
    "rohan.return_student_details"
   ]
  },
  {
   "cell_type": "markdown",
   "id": "200684a7-c912-4411-9b7e-2fb390eb7a9c",
   "metadata": {},
   "source": [
    "Q2. Name the four pillars of OOPs.\n",
    "\n",
    "1.Encapsulation\n",
    "2.Inheritance\n",
    "3.Abstraction\n",
    "4.Polymorphism"
   ]
  },
  {
   "cell_type": "markdown",
   "id": "05ed1bd1-8091-431a-834d-ca268958ec0d",
   "metadata": {},
   "source": [
    "Q3. Explain why the __init__() function is used. Give a suitable example\n",
    "\n",
    "The __init__() function in Python is a special method, also known as a constructor, used to initialize the attributes of an object when it is created. It is automatically called when an object is instantiated from a class. The primary purpose of the __init__() method is to set up the initial state of an object by assigning values to its attributes."
   ]
  },
  {
   "cell_type": "code",
   "execution_count": 5,
   "id": "9461b193-d5be-4911-b496-dddf25181305",
   "metadata": {},
   "outputs": [
    {
     "name": "stdout",
     "output_type": "stream",
     "text": [
      "Hello, my name is aditya\n"
     ]
    }
   ],
   "source": [
    "class Person:\n",
    "\n",
    "\tdef __init__(self, name):\n",
    "\t\tself.name = name\n",
    "\n",
    "\t\n",
    "\tdef say_hi(self):\n",
    "\t\tprint('Hello, my name is', self.name)\n",
    "\n",
    "\n",
    "p = Person('aditya')\n",
    "p.say_hi()\n"
   ]
  },
  {
   "cell_type": "markdown",
   "id": "f80b8619-b63a-4f2e-a06f-9dfca28311b3",
   "metadata": {},
   "source": [
    "Q4. Why self is used in OOPs?\n",
    "\n",
    "The self is used to represent the instance of the class. With this keyword, you can access the attributes and methods of the class in python. It binds the attributes with the given arguments"
   ]
  },
  {
   "cell_type": "markdown",
   "id": "64a8e0dd-cd9a-4d74-bdaf-9e89181de90b",
   "metadata": {},
   "source": [
    "Q5. What is inheritance? Give an example for each type of inheritance\n",
    "\n",
    "Inheritance is a fundamental concept in object-oriented programming (OOP) that allows a new class (called the subclass or derived class) to inherit the attributes and methods of an existing class (called the superclass or base class). The subclass can then extend or modify the inherited attributes and methods or introduce new ones. This promotes code reuse, modularity, and the creation of a hierarchy of classes."
   ]
  },
  {
   "cell_type": "code",
   "execution_count": 6,
   "id": "975944df-28ab-473f-be70-477f9d6046cb",
   "metadata": {},
   "outputs": [],
   "source": [
    "# single level\n",
    "\n",
    "class Parent:\n",
    "    def __init__(self,a,b):\n",
    "        self.n1=a\n",
    "        self.n2=b\n",
    "    def  add(self):\n",
    "        return self.n1+self.n2\n",
    "class child(Parent):\n",
    "\n",
    "    def sub(self):\n",
    "        return self.n1-self.n2"
   ]
  },
  {
   "cell_type": "code",
   "execution_count": 7,
   "id": "4f5c813e-bde4-4653-b8bf-f0e87b57518a",
   "metadata": {},
   "outputs": [],
   "source": [
    "obj=child(12,13)"
   ]
  },
  {
   "cell_type": "code",
   "execution_count": 8,
   "id": "c3901c47-fec0-4363-a930-a0060c260e2b",
   "metadata": {},
   "outputs": [
    {
     "name": "stdout",
     "output_type": "stream",
     "text": [
      "25\n",
      "-1\n"
     ]
    }
   ],
   "source": [
    "print(obj.add())\n",
    "print(obj.sub())"
   ]
  },
  {
   "cell_type": "code",
   "execution_count": 9,
   "id": "dbfdf567-1e26-42be-96b5-5598a79b064f",
   "metadata": {},
   "outputs": [],
   "source": [
    "# multiple\n",
    "class A:\n",
    "    def __init__(self, p, q):\n",
    "        self.n1 = p\n",
    "        self.n2 = q\n",
    "\n",
    "    def add(self):\n",
    "        return self.n1 + self.n2"
   ]
  },
  {
   "cell_type": "code",
   "execution_count": 10,
   "id": "40fb1eb4-1c32-4e99-a08e-f46e173ffe2f",
   "metadata": {},
   "outputs": [],
   "source": [
    "class B:\n",
    "    def __init__(self, p, q):\n",
    "        self.n1 = p\n",
    "        self.n2 = q\n",
    "\n",
    "    def sub(self):\n",
    "        return self.n1 - self.n2"
   ]
  },
  {
   "cell_type": "code",
   "execution_count": 11,
   "id": "cf9fda7e-ef76-48b3-8de8-221468b79c0c",
   "metadata": {},
   "outputs": [],
   "source": [
    "class C(A, B):\n",
    "    def mul(self):\n",
    "        return self.n1 * self.n2"
   ]
  },
  {
   "cell_type": "code",
   "execution_count": 12,
   "id": "0ee07a11-44a2-4f62-a1d8-fd3c395160c8",
   "metadata": {},
   "outputs": [
    {
     "name": "stdout",
     "output_type": "stream",
     "text": [
      "24\n",
      "0\n",
      "144\n"
     ]
    }
   ],
   "source": [
    "obj = C(12, 12)\n",
    "\n",
    "print(obj.add())  # Output: 24\n",
    "print(obj.sub())  # Output: 0\n",
    "print(obj.mul())  # Output: 144"
   ]
  },
  {
   "cell_type": "code",
   "execution_count": 13,
   "id": "f5580744-f6e7-4457-8ac7-4af4628dbe84",
   "metadata": {},
   "outputs": [],
   "source": [
    "#multilevel\n",
    "\n",
    "class Mother:\n",
    "\n",
    "    def __init__(self,a,b):\n",
    "        self.n1=a\n",
    "        self.n2=b\n",
    "\n",
    "    def add(self):\n",
    "        return self.n1+self.n2"
   ]
  },
  {
   "cell_type": "code",
   "execution_count": 14,
   "id": "edd53e69-320d-45ed-9b73-272a2e6285d2",
   "metadata": {},
   "outputs": [],
   "source": [
    "class Father(Mother):\n",
    "\n",
    "    def sub(self):\n",
    "        return self.n1-self.n2"
   ]
  },
  {
   "cell_type": "code",
   "execution_count": 15,
   "id": "2425ee55-4ea7-48af-a4e7-2d12e27e22e4",
   "metadata": {},
   "outputs": [],
   "source": [
    "class child(Father):\n",
    "\n",
    "    def mul(self):\n",
    "        return self.n1*self.n2"
   ]
  },
  {
   "cell_type": "code",
   "execution_count": 16,
   "id": "b44a877f-ae6f-41c6-986a-005c7c294e73",
   "metadata": {},
   "outputs": [
    {
     "name": "stdout",
     "output_type": "stream",
     "text": [
      "14\n",
      "10\n",
      "24\n"
     ]
    }
   ],
   "source": [
    "obj=child(12,2)\n",
    "\n",
    "print(obj.add())\n",
    "print(obj.sub())\n",
    "print(obj.mul())"
   ]
  },
  {
   "cell_type": "code",
   "execution_count": 17,
   "id": "2b95a9e2-997a-46e2-b922-419e74dd13d8",
   "metadata": {},
   "outputs": [],
   "source": [
    "# hybrid\n",
    "\n",
    "class School:\n",
    "\n",
    "    def fun1(self):\n",
    "        print(\"i m the school class\")\n",
    "\n",
    "class Teacher1(School):\n",
    "\n",
    "    def fun2(self):\n",
    "        print(\"i m a teacher 1 \")\n",
    "\n",
    "class Teacher2(School):\n",
    "\n",
    "    def fun3(self):\n",
    "        print(\"i m a teacher 2 \")\n",
    "\n",
    "class student(Teacher1,Teacher2):\n",
    "\n",
    "    def fun4(self):\n",
    "        print(\"i m student \")"
   ]
  },
  {
   "cell_type": "code",
   "execution_count": 18,
   "id": "153cfb2a-8002-4974-b5bf-0ae284f09072",
   "metadata": {},
   "outputs": [
    {
     "name": "stdout",
     "output_type": "stream",
     "text": [
      "i m the school class\n",
      "i m a teacher 1 \n",
      "i m a teacher 2 \n",
      "i m student \n"
     ]
    }
   ],
   "source": [
    "obj=student()\n",
    "obj.fun1()\n",
    "obj.fun2()\n",
    "obj.fun3()\n",
    "obj.fun4()"
   ]
  },
  {
   "cell_type": "code",
   "execution_count": 19,
   "id": "a66697c9-a121-433a-bc31-e5fff0b53ee0",
   "metadata": {},
   "outputs": [],
   "source": [
    "# hirarchil \n",
    "\n",
    "class Parent:\n",
    "\n",
    "    def func1(self):\n",
    "        print(\"this function is in parent class\")\n",
    "    \n",
    "class Child1(Parent):\n",
    "\n",
    "    def func2(self):\n",
    "        print(\"this function is in child1 class\")\n",
    "\n",
    "class Child2(Parent):\n",
    "\n",
    "    def func3(self):\n",
    "        print(\"this function is in child2 class\")"
   ]
  },
  {
   "cell_type": "code",
   "execution_count": 20,
   "id": "32d184c2-0729-4042-b648-319d0b9df50d",
   "metadata": {},
   "outputs": [
    {
     "name": "stdout",
     "output_type": "stream",
     "text": [
      "this function is in parent class\n",
      "this function is in child1 class\n",
      "\n",
      "this function is in parent class\n",
      "this function is in child2 class\n"
     ]
    }
   ],
   "source": [
    "obj1=Child1()\n",
    "obj2=Child2()\n",
    "\n",
    "obj1.func1()\n",
    "obj1.func2()\n",
    "print(\"\")\n",
    "obj2.func1()\n",
    "obj2.func3()"
   ]
  },
  {
   "cell_type": "code",
   "execution_count": null,
   "id": "0f834756-9f3a-4df3-a0fa-fc67f2fa6949",
   "metadata": {},
   "outputs": [],
   "source": []
  }
 ],
 "metadata": {
  "kernelspec": {
   "display_name": "Python 3 (ipykernel)",
   "language": "python",
   "name": "python3"
  },
  "language_info": {
   "codemirror_mode": {
    "name": "ipython",
    "version": 3
   },
   "file_extension": ".py",
   "mimetype": "text/x-python",
   "name": "python",
   "nbconvert_exporter": "python",
   "pygments_lexer": "ipython3",
   "version": "3.10.8"
  }
 },
 "nbformat": 4,
 "nbformat_minor": 5
}
