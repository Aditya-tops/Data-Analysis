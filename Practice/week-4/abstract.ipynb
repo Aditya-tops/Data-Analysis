{
 "cells": [
  {
   "cell_type": "code",
   "execution_count": 11,
   "id": "457ea105-438c-40a1-af70-cba0dde83ab6",
   "metadata": {},
   "outputs": [],
   "source": [
    "import abc\n",
    "class pwskills:\n",
    "    \n",
    "    \n",
    "    @abc.abstractmethod\n",
    "    def student_details(self):\n",
    "        pass\n",
    "    \n",
    "    @abc.abstractmethod\n",
    "    def studenet_assignment(self):\n",
    "        pass\n",
    "    \n",
    "    @abc.abstractmethod\n",
    "    def student_marks(self):\n",
    "        pass\n",
    "    "
   ]
  },
  {
   "cell_type": "code",
   "execution_count": 12,
   "id": "924e4158-4035-4226-830b-a3dee31f1fbb",
   "metadata": {},
   "outputs": [],
   "source": [
    "class student_details(pwskills):\n",
    "    \n",
    "    def student_details(self):\n",
    "        return 'this is a method for taking student details'\n",
    "    \n",
    "    def studenet_assignment(self):\n",
    "        return ' this is a method for taking student assgnment'"
   ]
  },
  {
   "cell_type": "code",
   "execution_count": 13,
   "id": "0b00d5d7-dbcb-4dda-90ea-892a9f9562d1",
   "metadata": {},
   "outputs": [],
   "source": [
    "class data_science_maters(pwskills):\n",
    "    \n",
    "    def data_science_maters(self):\n",
    "        return ' this will return a  student  details for a data science master'\n",
    "    \n",
    "    def studenet_assignment(self):\n",
    "        return 'this will give u staudent  assignment details for data science masters'"
   ]
  },
  {
   "cell_type": "code",
   "execution_count": 17,
   "id": "7b14fe2f-b49c-4a8c-8e57-bc0489b77f89",
   "metadata": {},
   "outputs": [
    {
     "data": {
      "text/plain": [
       "'this will give u staudent  assignment details for data science masters'"
      ]
     },
     "execution_count": 17,
     "metadata": {},
     "output_type": "execute_result"
    }
   ],
   "source": [
    "dsm = data_science_maters()\n",
    "dsm.studenet_assignment()"
   ]
  },
  {
   "cell_type": "code",
   "execution_count": 15,
   "id": "5194c35c-c1aa-4d1d-9f5a-45db1e7f2a13",
   "metadata": {},
   "outputs": [
    {
     "data": {
      "text/plain": [
       "'this is a method for taking student details'"
      ]
     },
     "execution_count": 15,
     "metadata": {},
     "output_type": "execute_result"
    }
   ],
   "source": [
    "stud=student_details()\n",
    "stud.student_details()"
   ]
  }
 ],
 "metadata": {
  "kernelspec": {
   "display_name": "Python 3 (ipykernel)",
   "language": "python",
   "name": "python3"
  },
  "language_info": {
   "codemirror_mode": {
    "name": "ipython",
    "version": 3
   },
   "file_extension": ".py",
   "mimetype": "text/x-python",
   "name": "python",
   "nbconvert_exporter": "python",
   "pygments_lexer": "ipython3",
   "version": "3.10.8"
  }
 },
 "nbformat": 4,
 "nbformat_minor": 5
}
