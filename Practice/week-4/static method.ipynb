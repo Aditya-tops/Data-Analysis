{
 "cells": [
  {
   "cell_type": "code",
   "execution_count": 1,
   "id": "02a862e5-2c61-4a25-b0f6-178007ed6515",
   "metadata": {},
   "outputs": [],
   "source": [
    "class pwskills:\n",
    "    \n",
    "    def student_details(self,name ,mail,number):\n",
    "        print(name,mail,number)"
   ]
  },
  {
   "cell_type": "code",
   "execution_count": 2,
   "id": "ef0b9db6-232b-4960-9a03-f1c94377a99a",
   "metadata": {},
   "outputs": [],
   "source": [
    "pw = pwskills()"
   ]
  },
  {
   "cell_type": "code",
   "execution_count": 3,
   "id": "71ef9842-f67e-4920-8aac-fb61cd82cdfd",
   "metadata": {},
   "outputs": [
    {
     "name": "stdout",
     "output_type": "stream",
     "text": [
      "dhwani dhwani@abc.com 9132656565\n"
     ]
    }
   ],
   "source": [
    "pw.student_details('dhwani','dhwani@abc.com',9132656565)"
   ]
  },
  {
   "cell_type": "code",
   "execution_count": 9,
   "id": "ac2b6ac5-cc76-42ec-867e-d3e7d1e04662",
   "metadata": {},
   "outputs": [],
   "source": [
    "class pwskills1:\n",
    "    \n",
    "    def student_details(self,name ,mail,number):\n",
    "        print(name,mail,number)\n",
    "        \n",
    "    @staticmethod\n",
    "    def mentor_class(list_mentor):\n",
    "        print(list_mentor)\n",
    "        \n",
    "    def mentor(self,mentor_list):\n",
    "        print(mentor_list)"
   ]
  },
  {
   "cell_type": "code",
   "execution_count": 10,
   "id": "15cc5b88-81fc-45be-b50c-8225b5b917d8",
   "metadata": {},
   "outputs": [
    {
     "name": "stdout",
     "output_type": "stream",
     "text": [
      "['dhwani', 'aditya']\n"
     ]
    }
   ],
   "source": [
    "pwskills1.mentor_class(['dhwani','aditya'])"
   ]
  },
  {
   "cell_type": "code",
   "execution_count": 11,
   "id": "fcef6171-f71b-4a15-9c83-7c75e4861063",
   "metadata": {},
   "outputs": [],
   "source": [
    "stu1 = pwskills1()"
   ]
  },
  {
   "cell_type": "code",
   "execution_count": 12,
   "id": "39b6c531-7131-4eb4-84b0-03dd707f73f1",
   "metadata": {},
   "outputs": [],
   "source": [
    "stu2 = pwskills1()"
   ]
  },
  {
   "cell_type": "code",
   "execution_count": 13,
   "id": "e81b4744-d021-499b-bcaf-41786775a737",
   "metadata": {},
   "outputs": [],
   "source": [
    "stu3 = pwskills1()"
   ]
  },
  {
   "cell_type": "code",
   "execution_count": 14,
   "id": "66ca8c05-a2c2-4936-8024-850bdd995751",
   "metadata": {},
   "outputs": [
    {
     "name": "stdout",
     "output_type": "stream",
     "text": [
      "['dhwani', 'aditya']\n"
     ]
    }
   ],
   "source": [
    "stu1.mentor(['dhwani','aditya'])"
   ]
  },
  {
   "cell_type": "code",
   "execution_count": 25,
   "id": "acac5f2e-0b4f-4ce1-9ef1-cf869f71ab10",
   "metadata": {},
   "outputs": [],
   "source": [
    "class pwskills2:\n",
    "    \n",
    "    def student_details(self,name ,mail,number):\n",
    "        print(name,mail,number)\n",
    "        \n",
    "    @staticmethod\n",
    "    def mentor_mail_id(mail_id_mentor):\n",
    "        print(mail_id_mentor)\n",
    "        \n",
    "    @staticmethod\n",
    "    def mentor_class(list_mentor):\n",
    "        pwskills2.mentor_mail_id(['dhwani@abc.com','aditya@abc.com'])\n",
    "        print(list_mentor)\n",
    "       \n",
    "    @classmethod\n",
    "    def class_name(cls):\n",
    "        cls.mentor_class(['dhwani','aditya'])\n",
    "        \n",
    "    def mentor(self,mentor_list):\n",
    "        print(mentor_list)\n",
    "        \n",
    "    def mentor(self,mentor_list):\n",
    "        print(mentor_list)\n",
    "        self.mentor_class(['dhwani','aditya'])"
   ]
  },
  {
   "cell_type": "code",
   "execution_count": 21,
   "id": "c6f9d867-78d4-4416-872c-04da9ec4f992",
   "metadata": {},
   "outputs": [
    {
     "name": "stdout",
     "output_type": "stream",
     "text": [
      "['dhwani', 'aditya']\n"
     ]
    }
   ],
   "source": [
    "pwskills2.class_name()"
   ]
  },
  {
   "cell_type": "code",
   "execution_count": 24,
   "id": "0cf96573-50f4-4ab4-b691-42b6de908ce1",
   "metadata": {},
   "outputs": [
    {
     "name": "stdout",
     "output_type": "stream",
     "text": [
      "['dhwani@abc.com', 'aditya@abc.com']\n",
      "['dhwani', 'aditya']\n"
     ]
    }
   ],
   "source": [
    "pwskills2.mentor_class(['dhwani','aditya'])"
   ]
  },
  {
   "cell_type": "code",
   "execution_count": 26,
   "id": "ac96d131-1cbf-414e-8b7c-d3a74ff2fe69",
   "metadata": {},
   "outputs": [
    {
     "name": "stdout",
     "output_type": "stream",
     "text": [
      "['dhwani', 'aditya']\n",
      "['dhwani@abc.com', 'aditya@abc.com']\n",
      "['dhwani', 'aditya']\n"
     ]
    }
   ],
   "source": [
    "pw = pwskills2()\n",
    "pw.mentor(['dhwani','aditya'])"
   ]
  },
  {
   "cell_type": "code",
   "execution_count": null,
   "id": "0703157a-0f2d-4c6d-b8f6-b3354ec33879",
   "metadata": {},
   "outputs": [],
   "source": []
  }
 ],
 "metadata": {
  "kernelspec": {
   "display_name": "Python 3 (ipykernel)",
   "language": "python",
   "name": "python3"
  },
  "language_info": {
   "codemirror_mode": {
    "name": "ipython",
    "version": 3
   },
   "file_extension": ".py",
   "mimetype": "text/x-python",
   "name": "python",
   "nbconvert_exporter": "python",
   "pygments_lexer": "ipython3",
   "version": "3.10.8"
  }
 },
 "nbformat": 4,
 "nbformat_minor": 5
}
