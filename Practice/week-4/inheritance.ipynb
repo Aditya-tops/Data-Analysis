{
 "cells": [
  {
   "cell_type": "code",
   "execution_count": 1,
   "id": "d403398b-39be-44a3-8ccc-96882871db9f",
   "metadata": {},
   "outputs": [],
   "source": [
    "class test:\n",
    "    \n",
    "    def  test_meth(self):\n",
    "        return 'this is my first class'"
   ]
  },
  {
   "cell_type": "code",
   "execution_count": 3,
   "id": "6347d90f-9643-46e0-b6d3-a8eff0f7bc3d",
   "metadata": {},
   "outputs": [],
   "source": [
    "class child_test(test):\n",
    "    pass"
   ]
  },
  {
   "cell_type": "code",
   "execution_count": 4,
   "id": "1aac9cd8-43e7-494d-8fab-35541810f2d9",
   "metadata": {},
   "outputs": [],
   "source": [
    "child_test_obj = child_test()"
   ]
  },
  {
   "cell_type": "code",
   "execution_count": 5,
   "id": "cf874d93-14ce-4c67-9375-605a83a4ecc3",
   "metadata": {},
   "outputs": [
    {
     "data": {
      "text/plain": [
       "'this is my first class'"
      ]
     },
     "execution_count": 5,
     "metadata": {},
     "output_type": "execute_result"
    }
   ],
   "source": [
    "child_test_obj.test_meth()"
   ]
  },
  {
   "cell_type": "code",
   "execution_count": 14,
   "id": "19ed46e9-ef4f-4a58-8e43-0056bdc92d63",
   "metadata": {},
   "outputs": [],
   "source": [
    "class class1:\n",
    "    \n",
    "    def test_class1(self):\n",
    "        return 'this is a method from class 1 '"
   ]
  },
  {
   "cell_type": "code",
   "execution_count": 15,
   "id": "93769022-c7de-4e02-bf9b-cd3e161950e2",
   "metadata": {},
   "outputs": [],
   "source": [
    "class class2(class1):\n",
    "     def test_class2(self):\n",
    "            return 'this is a method from class 2'"
   ]
  },
  {
   "cell_type": "code",
   "execution_count": 20,
   "id": "a5598b80-ca91-40b3-94b5-b8fa3db55844",
   "metadata": {},
   "outputs": [],
   "source": [
    "class class3(class2):\n",
    "    pass"
   ]
  },
  {
   "cell_type": "code",
   "execution_count": 21,
   "id": "e6ceafc6-8c38-423a-8048-6875477a29d2",
   "metadata": {},
   "outputs": [],
   "source": [
    "class3 = class3()"
   ]
  },
  {
   "cell_type": "code",
   "execution_count": 22,
   "id": "f476ebf5-b9af-4a3f-a78e-03a608350764",
   "metadata": {},
   "outputs": [
    {
     "data": {
      "text/plain": [
       "'this is a method from class 1 '"
      ]
     },
     "execution_count": 22,
     "metadata": {},
     "output_type": "execute_result"
    }
   ],
   "source": [
    "class3.test_class1()"
   ]
  },
  {
   "cell_type": "code",
   "execution_count": null,
   "id": "44918a98-e0db-4f5e-ad9e-ef0428485ea4",
   "metadata": {},
   "outputs": [
    {
     "data": {
      "text/plain": [
       "'this is a method from class 2'"
      ]
     },
     "execution_count": 23,
     "metadata": {},
     "output_type": "execute_result"
    }
   ],
   "source": [
    "class3.test_class2()"
   ]
  },
  {
   "cell_type": "markdown",
   "id": "d30bb9b1-554f-4eea-ad1f-cd0d2e210a53",
   "metadata": {},
   "source": [
    "multple inherantance"
   ]
  },
  {
   "cell_type": "code",
   "execution_count": 26,
   "id": "e60e4df3-bf50-4ebd-a0cb-32076ffa7400",
   "metadata": {},
   "outputs": [],
   "source": [
    "class class1:\n",
    "\n",
    "    def test_class1(self):\n",
    "        return ' this is class one'"
   ]
  },
  {
   "cell_type": "code",
   "execution_count": 27,
   "id": "2032c7cc-8762-441f-8ade-4212107554e2",
   "metadata": {},
   "outputs": [],
   "source": [
    "class class2:\n",
    "\n",
    "    def test_class2(self):\n",
    "        return ' this is class two'"
   ]
  },
  {
   "cell_type": "code",
   "execution_count": 28,
   "id": "ac315723-7441-4bd2-b159-4d5a24fad9d6",
   "metadata": {},
   "outputs": [],
   "source": [
    "class class3(class1,class2):\n",
    "    pass"
   ]
  },
  {
   "cell_type": "code",
   "execution_count": 29,
   "id": "5ec06382-2e6f-4735-a698-250aa80c5995",
   "metadata": {},
   "outputs": [],
   "source": [
    "obj_class3 = class3()"
   ]
  },
  {
   "cell_type": "code",
   "execution_count": 31,
   "id": "bc9e82d8-7e8a-436d-b2ee-1612972a43c1",
   "metadata": {},
   "outputs": [
    {
     "data": {
      "text/plain": [
       "' this is class one'"
      ]
     },
     "execution_count": 31,
     "metadata": {},
     "output_type": "execute_result"
    }
   ],
   "source": [
    "obj_class3.test_class1()"
   ]
  },
  {
   "cell_type": "code",
   "execution_count": 33,
   "id": "5bbf8e7c-5ba5-421d-8f5b-a3fdcebca1c5",
   "metadata": {},
   "outputs": [
    {
     "data": {
      "text/plain": [
       "' this is class two'"
      ]
     },
     "execution_count": 33,
     "metadata": {},
     "output_type": "execute_result"
    }
   ],
   "source": [
    "obj_class3.test_class2()"
   ]
  },
  {
   "cell_type": "code",
   "execution_count": null,
   "id": "0de81c94-4c6a-4220-b7c3-725433d036cd",
   "metadata": {},
   "outputs": [],
   "source": []
  }
 ],
 "metadata": {
  "kernelspec": {
   "display_name": "Python 3 (ipykernel)",
   "language": "python",
   "name": "python3"
  },
  "language_info": {
   "codemirror_mode": {
    "name": "ipython",
    "version": 3
   },
   "file_extension": ".py",
   "mimetype": "text/x-python",
   "name": "python",
   "nbconvert_exporter": "python",
   "pygments_lexer": "ipython3",
   "version": "3.10.8"
  }
 },
 "nbformat": 4,
 "nbformat_minor": 5
}
