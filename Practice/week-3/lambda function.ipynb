{
 "cells": [
  {
   "cell_type": "code",
   "execution_count": 1,
   "id": "3d42649d-6b0c-4650-a6ae-682cb7cf4240",
   "metadata": {},
   "outputs": [],
   "source": [
    "n = 3\n",
    "p = 2\n"
   ]
  },
  {
   "cell_type": "code",
   "execution_count": 2,
   "id": "c27071c5-384b-4b5d-aa47-5db187187a94",
   "metadata": {},
   "outputs": [],
   "source": [
    "def test(n,p):\n",
    "    return n**p"
   ]
  },
  {
   "cell_type": "code",
   "execution_count": 3,
   "id": "0b38f119-459a-4f05-8e6c-368af3e45dc7",
   "metadata": {},
   "outputs": [
    {
     "data": {
      "text/plain": [
       "9"
      ]
     },
     "execution_count": 3,
     "metadata": {},
     "output_type": "execute_result"
    }
   ],
   "source": [
    "test(3,2)"
   ]
  },
  {
   "cell_type": "code",
   "execution_count": 4,
   "id": "db86b564-fe24-40c9-b26c-311d484703bd",
   "metadata": {},
   "outputs": [
    {
     "data": {
      "text/plain": [
       "<function __main__.<lambda>(n, p)>"
      ]
     },
     "execution_count": 4,
     "metadata": {},
     "output_type": "execute_result"
    }
   ],
   "source": [
    "lambda n,p :n**p"
   ]
  },
  {
   "cell_type": "code",
   "execution_count": 5,
   "id": "8520d5d8-77cf-45ba-bf22-27623ab7a36f",
   "metadata": {},
   "outputs": [],
   "source": [
    "a =  lambda n,p :n**p"
   ]
  },
  {
   "cell_type": "code",
   "execution_count": 7,
   "id": "38dc59b7-b5ea-4721-b8c5-84772cf3efc6",
   "metadata": {},
   "outputs": [
    {
     "data": {
      "text/plain": [
       "9"
      ]
     },
     "execution_count": 7,
     "metadata": {},
     "output_type": "execute_result"
    }
   ],
   "source": [
    "a(3,2)"
   ]
  },
  {
   "cell_type": "code",
   "execution_count": 8,
   "id": "3add58d4-53fb-4134-adf9-e201aca894d9",
   "metadata": {},
   "outputs": [],
   "source": [
    "add = lambda x,y :x+y"
   ]
  },
  {
   "cell_type": "code",
   "execution_count": 9,
   "id": "ce21a4d5-a0eb-4122-a92c-d8a03ce4ab53",
   "metadata": {},
   "outputs": [
    {
     "data": {
      "text/plain": [
       "9"
      ]
     },
     "execution_count": 9,
     "metadata": {},
     "output_type": "execute_result"
    }
   ],
   "source": [
    "add(4,5)"
   ]
  },
  {
   "cell_type": "code",
   "execution_count": 10,
   "id": "b822b3db-c272-49e1-a006-3f80c5c3b65e",
   "metadata": {},
   "outputs": [],
   "source": [
    "c_to_f = lambda c : (9/5)*c +32"
   ]
  },
  {
   "cell_type": "code",
   "execution_count": 11,
   "id": "edeb2cf5-bd71-4349-806d-72f622b5e628",
   "metadata": {},
   "outputs": [
    {
     "data": {
      "text/plain": [
       "113.0"
      ]
     },
     "execution_count": 11,
     "metadata": {},
     "output_type": "execute_result"
    }
   ],
   "source": [
    "c_to_f(45)"
   ]
  },
  {
   "cell_type": "code",
   "execution_count": 15,
   "id": "3cd449a4-7919-4ef6-8ba4-aec34e108d80",
   "metadata": {},
   "outputs": [],
   "source": [
    "finding_max = lambda x,y : x if x>y else y"
   ]
  },
  {
   "cell_type": "code",
   "execution_count": 16,
   "id": "648fdd97-583f-486c-93d9-b2595fc52148",
   "metadata": {},
   "outputs": [
    {
     "data": {
      "text/plain": [
       "35"
      ]
     },
     "execution_count": 16,
     "metadata": {},
     "output_type": "execute_result"
    }
   ],
   "source": [
    "finding_max(35,25)"
   ]
  },
  {
   "cell_type": "code",
   "execution_count": 17,
   "id": "d0c72c9a-1c22-4cdf-8784-96d651b53dc0",
   "metadata": {},
   "outputs": [],
   "source": [
    "s = 'pwskills'"
   ]
  },
  {
   "cell_type": "code",
   "execution_count": 20,
   "id": "717ca066-f209-4af6-ac73-9a968ddeabc9",
   "metadata": {},
   "outputs": [],
   "source": [
    "find_len = lambda s : len(s)"
   ]
  },
  {
   "cell_type": "code",
   "execution_count": 21,
   "id": "01ff4e3d-f293-4735-bee6-40d250f1e21c",
   "metadata": {},
   "outputs": [
    {
     "data": {
      "text/plain": [
       "8"
      ]
     },
     "execution_count": 21,
     "metadata": {},
     "output_type": "execute_result"
    }
   ],
   "source": [
    "find_len(s)"
   ]
  },
  {
   "cell_type": "code",
   "execution_count": null,
   "id": "e43443f1-b944-42d0-bc83-4ed5bce3d07f",
   "metadata": {},
   "outputs": [],
   "source": []
  }
 ],
 "metadata": {
  "kernelspec": {
   "display_name": "Python 3 (ipykernel)",
   "language": "python",
   "name": "python3"
  },
  "language_info": {
   "codemirror_mode": {
    "name": "ipython",
    "version": 3
   },
   "file_extension": ".py",
   "mimetype": "text/x-python",
   "name": "python",
   "nbconvert_exporter": "python",
   "pygments_lexer": "ipython3",
   "version": "3.10.8"
  }
 },
 "nbformat": 4,
 "nbformat_minor": 5
}
