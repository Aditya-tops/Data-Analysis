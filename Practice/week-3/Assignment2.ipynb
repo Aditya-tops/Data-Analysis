{
 "cells": [
  {
   "cell_type": "markdown",
   "id": "ed9fdd18-0efe-4160-b5da-d404a6758f6d",
   "metadata": {},
   "source": [
    "Q1. Create a python program to sort the given list of tuples based on integer value using a\n",
    "lambda function.\n",
    "[('Sachin Tendulkar', 34357), ('Ricky Ponting', 27483), ('Jack Kallis', 25534), ('Virat Kohli', 24936)]"
   ]
  },
  {
   "cell_type": "code",
   "execution_count": 3,
   "id": "e79bc070-8b47-444f-bbab-71d25697bc01",
   "metadata": {},
   "outputs": [],
   "source": [
    "data = [('Sachin Tendulkar', 34357), ('Ricky Ponting', 27483), ('Jack Kallis', 25534), ('Virat Kohli', 24936)]"
   ]
  },
  {
   "cell_type": "code",
   "execution_count": 4,
   "id": "55523cc5-a4ee-4c33-979d-0656c71e837f",
   "metadata": {},
   "outputs": [],
   "source": [
    "sorted_data = sorted(data, key=lambda x: x[1])"
   ]
  },
  {
   "cell_type": "code",
   "execution_count": 5,
   "id": "99cc38de-1b1f-4bbb-bb3a-afc8ee424e6d",
   "metadata": {},
   "outputs": [
    {
     "name": "stdout",
     "output_type": "stream",
     "text": [
      "[('Virat Kohli', 24936), ('Jack Kallis', 25534), ('Ricky Ponting', 27483), ('Sachin Tendulkar', 34357)]\n"
     ]
    }
   ],
   "source": [
    "print(sorted_data)"
   ]
  },
  {
   "cell_type": "markdown",
   "id": "c5b374a2-12ae-4044-aa46-4a94bb09b02b",
   "metadata": {},
   "source": [
    "Q2. Write a Python Program to find the squares of all the numbers in the given list of integers using\n",
    "lambda and map functions.\n",
    "[1, 2, 3, 4, 5, 6, 7, 8, 9, 10]"
   ]
  },
  {
   "cell_type": "code",
   "execution_count": 9,
   "id": "49c30f49-af9a-42e9-9f6e-33cba65a9815",
   "metadata": {},
   "outputs": [],
   "source": [
    "l = [1,2,3,4,5,6,7,8,9,10]"
   ]
  },
  {
   "cell_type": "code",
   "execution_count": 10,
   "id": "73624b67-f4b9-4e76-b558-4ec5cc1109b0",
   "metadata": {},
   "outputs": [],
   "source": [
    "def test(l):\n",
    "    l1 = []\n",
    "    for  i in l :\n",
    "        l1.append(i**2)\n",
    "    return(l1)"
   ]
  },
  {
   "cell_type": "code",
   "execution_count": 11,
   "id": "7ad71d6c-eef6-411c-8ef9-c571c0e47798",
   "metadata": {},
   "outputs": [
    {
     "data": {
      "text/plain": [
       "[1, 4, 9, 16, 25, 36, 49, 64, 81, 100]"
      ]
     },
     "execution_count": 11,
     "metadata": {},
     "output_type": "execute_result"
    }
   ],
   "source": [
    "test(l)"
   ]
  },
  {
   "cell_type": "markdown",
   "id": "e220808f-6f1c-48b3-92c6-ed5d4b1968b9",
   "metadata": {},
   "source": [
    "Q3. Write a python program to convert the given list of integers into a tuple of strings. Use map and\n",
    "lambda functions\n",
    "Given String: [1, 2, 3, 4, 5, 6, 7, 8, 9]\n",
    "Expected output: ('1', '2', '3', '4', '5', '6', '7', '8', '9', '10')"
   ]
  },
  {
   "cell_type": "code",
   "execution_count": 20,
   "id": "5617608e-722b-4d37-8ce8-132587c42b66",
   "metadata": {},
   "outputs": [],
   "source": [
    "integers = [1, 2, 3, 4, 5, 6, 7, 8, 9, 10]"
   ]
  },
  {
   "cell_type": "code",
   "execution_count": 21,
   "id": "82a291a7-838b-44da-b9e0-d4e0c09c65bb",
   "metadata": {},
   "outputs": [],
   "source": [
    "string_tuple = tuple(map(lambda x: str(x), integers))"
   ]
  },
  {
   "cell_type": "code",
   "execution_count": 22,
   "id": "80ca0cea-2c40-45e2-955d-d0bc419cbd2a",
   "metadata": {},
   "outputs": [
    {
     "name": "stdout",
     "output_type": "stream",
     "text": [
      "('1', '2', '3', '4', '5', '6', '7', '8', '9', '10')\n"
     ]
    }
   ],
   "source": [
    "print(string_tuple)"
   ]
  },
  {
   "cell_type": "markdown",
   "id": "f64cbe5a-b2e3-4016-8619-a22349a84d5d",
   "metadata": {},
   "source": [
    "Q4. Write a python program using reduce function to compute the product of a list containing numbers\n",
    "from 1 to 25."
   ]
  },
  {
   "cell_type": "code",
   "execution_count": 23,
   "id": "d6439814-080b-4b2b-b084-20eb93263934",
   "metadata": {},
   "outputs": [],
   "source": [
    "from functools import reduce\n",
    "\n",
    "numbers = list(range(1, 26))"
   ]
  },
  {
   "cell_type": "code",
   "execution_count": 24,
   "id": "830f60a6-a199-4412-b915-28627fd04f69",
   "metadata": {},
   "outputs": [
    {
     "name": "stdout",
     "output_type": "stream",
     "text": [
      "15511210043330985984000000\n"
     ]
    }
   ],
   "source": [
    "product = reduce(lambda x, y: x * y, numbers)\n",
    "\n",
    "print(product)\n"
   ]
  },
  {
   "cell_type": "markdown",
   "id": "938d5819-cbf8-4fea-884a-3eec733367e7",
   "metadata": {},
   "source": [
    "Q5. Write a python program to filter the numbers in a given list that are divisible by 2 and 3 using the\n",
    "filter function.\n",
    "[2, 3, 6, 9, 27, 60, 90, 120, 55, 46]"
   ]
  },
  {
   "cell_type": "code",
   "execution_count": 25,
   "id": "601ef2a1-bc3a-4142-ad75-8dc6912c5fad",
   "metadata": {},
   "outputs": [],
   "source": [
    "numbers = [2, 3, 6, 9, 27, 60, 90, 120, 55, 46]"
   ]
  },
  {
   "cell_type": "code",
   "execution_count": 26,
   "id": "9720ec10-3c9d-4aec-8649-73afd318d11a",
   "metadata": {},
   "outputs": [],
   "source": [
    "filtered_numbers = list(filter(lambda x: x % 2 == 0 and x % 3 == 0, numbers))"
   ]
  },
  {
   "cell_type": "code",
   "execution_count": 27,
   "id": "9adc229d-463c-4386-b1b5-206ea28db168",
   "metadata": {},
   "outputs": [
    {
     "name": "stdout",
     "output_type": "stream",
     "text": [
      "[6, 60, 90, 120]\n"
     ]
    }
   ],
   "source": [
    "print(filtered_numbers)"
   ]
  },
  {
   "cell_type": "markdown",
   "id": "400bbefb-eb3e-46e1-8f94-a30a3e18c8be",
   "metadata": {},
   "source": [
    "Q6. Write a python program to find palindromes in the given list of strings using lambda and filter\n",
    "function.\n",
    "['python', 'php', 'aba', 'radar', 'level']"
   ]
  },
  {
   "cell_type": "code",
   "execution_count": 28,
   "id": "f52a2751-6d18-4324-83ee-cba39efbff22",
   "metadata": {},
   "outputs": [],
   "source": [
    "strings_list = ['python', 'php', 'aba', 'radar', 'level']"
   ]
  },
  {
   "cell_type": "code",
   "execution_count": 29,
   "id": "a9fdfb39-076e-4422-a0db-81dab9011900",
   "metadata": {},
   "outputs": [],
   "source": [
    "palindromes = list(filter(lambda x: x == x[::-1], strings_list))"
   ]
  },
  {
   "cell_type": "code",
   "execution_count": 30,
   "id": "937097d6-aa4a-4c84-a750-016d0ada3e8c",
   "metadata": {},
   "outputs": [
    {
     "name": "stdout",
     "output_type": "stream",
     "text": [
      "['php', 'aba', 'radar', 'level']\n"
     ]
    }
   ],
   "source": [
    "print(palindromes)"
   ]
  },
  {
   "cell_type": "code",
   "execution_count": null,
   "id": "05bf9af1-06d9-410a-b451-163fe411b5a4",
   "metadata": {},
   "outputs": [],
   "source": []
  }
 ],
 "metadata": {
  "kernelspec": {
   "display_name": "Python 3 (ipykernel)",
   "language": "python",
   "name": "python3"
  },
  "language_info": {
   "codemirror_mode": {
    "name": "ipython",
    "version": 3
   },
   "file_extension": ".py",
   "mimetype": "text/x-python",
   "name": "python",
   "nbconvert_exporter": "python",
   "pygments_lexer": "ipython3",
   "version": "3.10.8"
  }
 },
 "nbformat": 4,
 "nbformat_minor": 5
}
