{
 "cells": [
  {
   "cell_type": "code",
   "execution_count": 1,
   "id": "a89dc6a5-3769-4750-b0ae-904270f500c1",
   "metadata": {},
   "outputs": [],
   "source": [
    "s = \"bony\""
   ]
  },
  {
   "cell_type": "code",
   "execution_count": 2,
   "id": "1d9bc838-6f0c-4059-8b46-31ceccd57adb",
   "metadata": {},
   "outputs": [],
   "source": [
    "s1 = \"aditya\""
   ]
  },
  {
   "cell_type": "code",
   "execution_count": 3,
   "id": "9ba3d7e4-369c-4446-ac65-f293b73a739f",
   "metadata": {},
   "outputs": [
    {
     "data": {
      "text/plain": [
       "str"
      ]
     },
     "execution_count": 3,
     "metadata": {},
     "output_type": "execute_result"
    }
   ],
   "source": [
    "type(s)"
   ]
  },
  {
   "cell_type": "code",
   "execution_count": 4,
   "id": "4d0b8ece-e91f-42f6-87b1-442c5da95a82",
   "metadata": {},
   "outputs": [
    {
     "data": {
      "text/plain": [
       "str"
      ]
     },
     "execution_count": 4,
     "metadata": {},
     "output_type": "execute_result"
    }
   ],
   "source": [
    "type(s1)"
   ]
  },
  {
   "cell_type": "code",
   "execution_count": 5,
   "id": "62fa2343-0db5-4694-bd3d-a81465374778",
   "metadata": {},
   "outputs": [],
   "source": [
    "l = [2,3,4,5,6,\"bony\",3+7j,True,34.55]"
   ]
  },
  {
   "cell_type": "code",
   "execution_count": 6,
   "id": "48e1dd15-32f2-4019-9990-f8648dea70d8",
   "metadata": {},
   "outputs": [
    {
     "data": {
      "text/plain": [
       "list"
      ]
     },
     "execution_count": 6,
     "metadata": {},
     "output_type": "execute_result"
    }
   ],
   "source": [
    "type(l)"
   ]
  },
  {
   "cell_type": "code",
   "execution_count": 7,
   "id": "3afb0073-86d1-4687-be93-5703368723d6",
   "metadata": {},
   "outputs": [
    {
     "data": {
      "text/plain": [
       "'bony'"
      ]
     },
     "execution_count": 7,
     "metadata": {},
     "output_type": "execute_result"
    }
   ],
   "source": [
    "s"
   ]
  },
  {
   "cell_type": "code",
   "execution_count": 8,
   "id": "2030a4ca-d0bd-4dcf-a80a-f0a17350bf7e",
   "metadata": {},
   "outputs": [
    {
     "data": {
      "text/plain": [
       "'b'"
      ]
     },
     "execution_count": 8,
     "metadata": {},
     "output_type": "execute_result"
    }
   ],
   "source": [
    "s[0]"
   ]
  },
  {
   "cell_type": "code",
   "execution_count": 9,
   "id": "35a15655-c46a-4cd8-a28b-3a355050aec5",
   "metadata": {},
   "outputs": [
    {
     "data": {
      "text/plain": [
       "'o'"
      ]
     },
     "execution_count": 9,
     "metadata": {},
     "output_type": "execute_result"
    }
   ],
   "source": [
    "s[1]"
   ]
  },
  {
   "cell_type": "code",
   "execution_count": 10,
   "id": "e5abb8de-38bf-4716-b24f-8a3b8b64883a",
   "metadata": {},
   "outputs": [
    {
     "data": {
      "text/plain": [
       "[2, 3, 4, 5, 6, 'bony', (3+7j), True, 34.55]"
      ]
     },
     "execution_count": 10,
     "metadata": {},
     "output_type": "execute_result"
    }
   ],
   "source": [
    "l"
   ]
  },
  {
   "cell_type": "code",
   "execution_count": 11,
   "id": "afa04d4d-d85a-4794-8292-24247bb7865e",
   "metadata": {},
   "outputs": [
    {
     "data": {
      "text/plain": [
       "34.55"
      ]
     },
     "execution_count": 11,
     "metadata": {},
     "output_type": "execute_result"
    }
   ],
   "source": [
    "l[8]"
   ]
  },
  {
   "cell_type": "code",
   "execution_count": 12,
   "id": "d18c786f-6bf1-410a-80e9-68c006104902",
   "metadata": {},
   "outputs": [
    {
     "data": {
      "text/plain": [
       "'bony'"
      ]
     },
     "execution_count": 12,
     "metadata": {},
     "output_type": "execute_result"
    }
   ],
   "source": [
    "l[-4]"
   ]
  },
  {
   "cell_type": "code",
   "execution_count": 13,
   "id": "d98fda5a-0b05-407c-b89f-0352dbf6985f",
   "metadata": {},
   "outputs": [
    {
     "data": {
      "text/plain": [
       "[2, 3, 4, 5, 6, 'bony', (3+7j), True, 34.55]"
      ]
     },
     "execution_count": 13,
     "metadata": {},
     "output_type": "execute_result"
    }
   ],
   "source": [
    "l"
   ]
  },
  {
   "cell_type": "code",
   "execution_count": 14,
   "id": "4175a015-2de1-4d82-96de-ba37a89e5b7f",
   "metadata": {},
   "outputs": [
    {
     "data": {
      "text/plain": [
       "3"
      ]
     },
     "execution_count": 14,
     "metadata": {},
     "output_type": "execute_result"
    }
   ],
   "source": [
    "l[1]"
   ]
  },
  {
   "cell_type": "code",
   "execution_count": 15,
   "id": "39a96bca-a806-4da7-b68b-98321c463597",
   "metadata": {},
   "outputs": [],
   "source": [
    "l[1]=300"
   ]
  },
  {
   "cell_type": "code",
   "execution_count": 16,
   "id": "6ab40ca5-9a00-4893-94a1-1e7198cb6de3",
   "metadata": {},
   "outputs": [
    {
     "data": {
      "text/plain": [
       "[2, 300, 4, 5, 6, 'bony', (3+7j), True, 34.55]"
      ]
     },
     "execution_count": 16,
     "metadata": {},
     "output_type": "execute_result"
    }
   ],
   "source": [
    "l"
   ]
  },
  {
   "cell_type": "code",
   "execution_count": 17,
   "id": "0c60450b-4211-4b90-851e-869145f14914",
   "metadata": {},
   "outputs": [],
   "source": [
    "l[4]=\"aditya\""
   ]
  },
  {
   "cell_type": "code",
   "execution_count": 18,
   "id": "aba99e96-52f8-41ff-b458-3a35c72b0062",
   "metadata": {},
   "outputs": [
    {
     "data": {
      "text/plain": [
       "[2, 300, 4, 5, 'aditya', 'bony', (3+7j), True, 34.55]"
      ]
     },
     "execution_count": 18,
     "metadata": {},
     "output_type": "execute_result"
    }
   ],
   "source": [
    "l"
   ]
  },
  {
   "cell_type": "code",
   "execution_count": null,
   "id": "5a95ac78-011a-4ca2-8e42-ef78a38e0f8e",
   "metadata": {},
   "outputs": [],
   "source": []
  }
 ],
 "metadata": {
  "kernelspec": {
   "display_name": "Python 3 (ipykernel)",
   "language": "python",
   "name": "python3"
  },
  "language_info": {
   "codemirror_mode": {
    "name": "ipython",
    "version": 3
   },
   "file_extension": ".py",
   "mimetype": "text/x-python",
   "name": "python",
   "nbconvert_exporter": "python",
   "pygments_lexer": "ipython3",
   "version": "3.10.8"
  }
 },
 "nbformat": 4,
 "nbformat_minor": 5
}
