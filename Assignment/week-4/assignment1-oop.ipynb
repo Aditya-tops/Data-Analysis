{
 "cells": [
  {
   "cell_type": "markdown",
   "id": "a588249f-3620-43f1-85e8-a06d668e50c4",
   "metadata": {},
   "source": [
    "Create a vehicle class with an init method having instance variable as name_of_vechicle, max_speed and average_of_vechicle"
   ]
  },
  {
   "cell_type": "code",
   "execution_count": 2,
   "id": "110649fd-f6f1-4c15-bad2-ced68c67b955",
   "metadata": {},
   "outputs": [],
   "source": [
    "class vehicle :\n",
    "    \n",
    "    def __init__(self,name_of_vechicle, max_speed, average_of_vechicle):\n",
    "        self.name_of_vechicle = name_of_vechicle\n",
    "        self.max_speed = max_speed\n",
    "        self.average_of_vechicle = average_of_vechicle\n",
    "        \n",
    "    def return_vehicle_detail():\n",
    "        return self.name_of_vechicle, self.name_of_vechicle, self.name_of_vechicle"
   ]
  },
  {
   "cell_type": "code",
   "execution_count": 3,
   "id": "0fa592b6-6657-4d4d-b4c1-5abaa44e3fac",
   "metadata": {},
   "outputs": [],
   "source": [
    "aditya = vehicle('mastang',300,10)"
   ]
  },
  {
   "cell_type": "code",
   "execution_count": 4,
   "id": "091ca069-4b38-43a2-a88b-29d5682f3077",
   "metadata": {},
   "outputs": [
    {
     "data": {
      "text/plain": [
       "10"
      ]
     },
     "execution_count": 4,
     "metadata": {},
     "output_type": "execute_result"
    }
   ],
   "source": [
    "aditya.average_of_vechicle"
   ]
  },
  {
   "cell_type": "code",
   "execution_count": 5,
   "id": "b9bcd59d-ff9b-4501-80fb-30328d8f5ec4",
   "metadata": {},
   "outputs": [
    {
     "data": {
      "text/plain": [
       "'mastang'"
      ]
     },
     "execution_count": 5,
     "metadata": {},
     "output_type": "execute_result"
    }
   ],
   "source": [
    "aditya.name_of_vechicle"
   ]
  },
  {
   "cell_type": "code",
   "execution_count": 6,
   "id": "61a8ab62-b377-40db-84c7-30b76e80c71d",
   "metadata": {},
   "outputs": [],
   "source": [
    "kunal = vehicle('aulto',100,300)"
   ]
  },
  {
   "cell_type": "code",
   "execution_count": 7,
   "id": "0bbf6966-5a54-481d-ba5d-6588b58e05ba",
   "metadata": {},
   "outputs": [
    {
     "data": {
      "text/plain": [
       "300"
      ]
     },
     "execution_count": 7,
     "metadata": {},
     "output_type": "execute_result"
    }
   ],
   "source": [
    "kunal.average_of_vechicle"
   ]
  },
  {
   "cell_type": "code",
   "execution_count": 8,
   "id": "fd747f61-eb9c-4820-9337-11f0fc5eb27d",
   "metadata": {},
   "outputs": [
    {
     "data": {
      "text/plain": [
       "'aulto'"
      ]
     },
     "execution_count": 8,
     "metadata": {},
     "output_type": "execute_result"
    }
   ],
   "source": [
    "kunal.name_of_vechicle"
   ]
  },
  {
   "cell_type": "markdown",
   "id": "18d1503c-ec50-45ca-8c5e-ce379a2e1176",
   "metadata": {},
   "source": [
    "Create a child class car from the vehicle class created in Que 1, which will inherit the vehicle class.\n",
    "Create a method named seating_capacity which takes capacity as an argument and returns the name of\n",
    "the vehicle and its seating capacity\n",
    "C"
   ]
  },
  {
   "cell_type": "code",
   "execution_count": 1,
   "id": "6cbe77d0-e653-4039-8914-5b75f4cbb75c",
   "metadata": {},
   "outputs": [],
   "source": [
    "class Vehicle:\n",
    "    def __init__(self, name, fuel_type):\n",
    "        self.name = name\n",
    "        self.fuel_type = fuel_type\n",
    "\n",
    "    def display_info(self):\n",
    "        return f\"Vehicle: {self.name}, Fuel Type: {self.fuel_type}\"\n"
   ]
  },
  {
   "cell_type": "code",
   "execution_count": 2,
   "id": "876aaf5a-c0be-45f2-a84a-7a4ced14a373",
   "metadata": {},
   "outputs": [],
   "source": [
    "class Car(Vehicle):\n",
    "    def seating_capacity(self, capacity):\n",
    "        return f\"{self.name} has a seating capacity of {capacity}.\"\n"
   ]
  },
  {
   "cell_type": "code",
   "execution_count": 3,
   "id": "d6e0ee7a-e784-4a6b-a0c5-57f608a80ba8",
   "metadata": {},
   "outputs": [
    {
     "name": "stdout",
     "output_type": "stream",
     "text": [
      "Vehicle: Toyota Camry, Fuel Type: Gasoline\n",
      "Toyota Camry has a seating capacity of 5.\n"
     ]
    }
   ],
   "source": [
    "car_instance = Car(\"Toyota Camry\", \"Gasoline\")\n",
    "print(car_instance.display_info())  # Output: Vehicle: Toyota Camry, Fuel Type: Gasoline\n",
    "print(car_instance.seating_capacity(5))  # Output: Toyota Camry has a seating capacity of 5.\n"
   ]
  },
  {
   "cell_type": "markdown",
   "id": "7eaec491-e641-49c6-9b38-cb94409f0f7b",
   "metadata": {},
   "source": [
    "Q3. What is multiple inheritance? Write a python code to demonstrate multiple inheritance.\n",
    "\n",
    "Multiple inheritance is a feature in object-oriented programming languages where a class can inherit attributes and methods from more than one parent class"
   ]
  },
  {
   "cell_type": "code",
   "execution_count": 1,
   "id": "71326b3e-047e-45b6-b2d6-b0b576d3bf89",
   "metadata": {},
   "outputs": [],
   "source": [
    "class papa:\n",
    "\n",
    "    def this_is_papa(self):\n",
    "        return ' this is class of papa'"
   ]
  },
  {
   "cell_type": "code",
   "execution_count": 2,
   "id": "33d2865b-c0b1-45e0-a169-9befa3e081fa",
   "metadata": {},
   "outputs": [],
   "source": [
    "class mammy:\n",
    "\n",
    "    def this_is_mammy(self):\n",
    "        return ' this is class of mammy'"
   ]
  },
  {
   "cell_type": "code",
   "execution_count": 3,
   "id": "e80fd58f-787f-4222-8d55-6f60e6585df0",
   "metadata": {},
   "outputs": [],
   "source": [
    "class bachha(papa,mammy):\n",
    "    pass"
   ]
  },
  {
   "cell_type": "code",
   "execution_count": 4,
   "id": "aad43ac7-3350-4812-9684-a31508aacd47",
   "metadata": {},
   "outputs": [],
   "source": [
    "bachha = bachha()"
   ]
  },
  {
   "cell_type": "code",
   "execution_count": 6,
   "id": "553766a6-df3c-4ad5-bd3b-886ee69b544c",
   "metadata": {},
   "outputs": [
    {
     "data": {
      "text/plain": [
       "' this is class of papa'"
      ]
     },
     "execution_count": 6,
     "metadata": {},
     "output_type": "execute_result"
    }
   ],
   "source": [
    "bachha.this_is_papa()"
   ]
  },
  {
   "cell_type": "code",
   "execution_count": 7,
   "id": "9bc8d00f-9e8d-42d2-91c8-510a45752dc4",
   "metadata": {},
   "outputs": [
    {
     "data": {
      "text/plain": [
       "' this is class of mammy'"
      ]
     },
     "execution_count": 7,
     "metadata": {},
     "output_type": "execute_result"
    }
   ],
   "source": [
    "bachha.this_is_mammy()"
   ]
  },
  {
   "cell_type": "markdown",
   "id": "950aa5fa-efbc-4854-ab87-f1ab51740ebb",
   "metadata": {},
   "source": [
    "Q4. What are getter and setter in python? Create a class and create a getter and a setter method in this\n",
    "class.\n",
    "\n",
    "Getter Method:\n",
    "\n",
    "    A getter method is used to retrieve the value of a private attribute from a class.\n",
    "    It allows external code to access the value of the attribute without directly accessing the attribute itself.\n",
    "    \n",
    "Setter Method:\n",
    "\n",
    "    A setter method is used to modify the value of a private attribute from a class.\n",
    "    It allows external code to set the value of the attribute with certain constraints or validations."
   ]
  },
  {
   "cell_type": "code",
   "execution_count": 8,
   "id": "55b83f97-ded7-48bf-b235-0a5bbd5b917e",
   "metadata": {},
   "outputs": [],
   "source": [
    "import abc\n",
    "class pwskills:\n",
    "    \n",
    "    \n",
    "    @abc.abstractmethod\n",
    "    def student_details(self):\n",
    "        pass\n",
    "    \n",
    "    @abc.abstractmethod\n",
    "    def studenet_assignment(self):\n",
    "        pass\n",
    "    \n",
    "    @abc.abstractmethod\n",
    "    def student_marks(self):\n",
    "        pass\n",
    "    "
   ]
  },
  {
   "cell_type": "code",
   "execution_count": 9,
   "id": "0861afc7-13d3-40c6-b4c6-3085ae2fd1e7",
   "metadata": {},
   "outputs": [],
   "source": [
    "class student_details(pwskills):\n",
    "    \n",
    "    def student_details(self):\n",
    "        return 'this is a method for taking student details'\n",
    "    \n",
    "    def studenet_assignment(self):\n",
    "        return ' this is a method for taking student assgnment'"
   ]
  },
  {
   "cell_type": "code",
   "execution_count": 10,
   "id": "a108008b-d75d-425e-9557-0e2c10eff76a",
   "metadata": {},
   "outputs": [],
   "source": [
    "class data_science_maters(pwskills):\n",
    "    \n",
    "    def data_science_maters(self):\n",
    "        return ' this will return a  student  details for a data science master'\n",
    "    \n",
    "    def studenet_assignment(self):\n",
    "        return 'this will give u staudent  assignment details for data science masters'"
   ]
  },
  {
   "cell_type": "code",
   "execution_count": 11,
   "id": "9894d8be-7271-460a-b971-efeec7dc4e31",
   "metadata": {},
   "outputs": [
    {
     "data": {
      "text/plain": [
       "'this will give u staudent  assignment details for data science masters'"
      ]
     },
     "execution_count": 11,
     "metadata": {},
     "output_type": "execute_result"
    }
   ],
   "source": [
    "dsm = data_science_maters()\n",
    "dsm.studenet_assignment()"
   ]
  },
  {
   "cell_type": "code",
   "execution_count": 12,
   "id": "8745c9ef-2c37-49d3-9178-147914c44877",
   "metadata": {},
   "outputs": [
    {
     "data": {
      "text/plain": [
       "'this is a method for taking student details'"
      ]
     },
     "execution_count": 12,
     "metadata": {},
     "output_type": "execute_result"
    }
   ],
   "source": [
    "stud=student_details()\n",
    "stud.student_details()"
   ]
  },
  {
   "cell_type": "markdown",
   "id": "9b7c109e-8b62-442f-ad02-46b45ea966b7",
   "metadata": {},
   "source": [
    "What is method overriding in python? Write a python code to demonstrate method overriding\n",
    "\n",
    "Method overriding in Python occurs when a subclass provides a specific implementation for a method that is already defined in its superclass. The overridden method in the subclass has the same name, return type, and parameters as the method in the superclass. This allows the subclass to provide its own behavior for the method, while still adhering to the contract defined by the superclass"
   ]
  },
  {
   "cell_type": "code",
   "execution_count": 13,
   "id": "6f6922cb-a990-4cec-af66-72518c0c8a33",
   "metadata": {},
   "outputs": [],
   "source": [
    "class Parent(): \n",
    "\t\n",
    "\tdef __init__(self): \n",
    "\t\tself.value = \"Inside Parent\"\n",
    "\t\t\n",
    "\tdef show(self): \n",
    "\t\tprint(self.value) "
   ]
  },
  {
   "cell_type": "code",
   "execution_count": 14,
   "id": "37add194-aa68-422d-95b7-a763b9908ddb",
   "metadata": {},
   "outputs": [],
   "source": [
    "class Child(Parent): \n",
    "\t\n",
    "\tdef __init__(self): \n",
    "\t\tself.value = \"Inside Child\"\n",
    "        \n",
    "\tdef show(self): \n",
    "\t\tprint(self.value) "
   ]
  },
  {
   "cell_type": "code",
   "execution_count": null,
   "id": "bd527c4e-893c-408b-afb4-ce51f1a09b43",
   "metadata": {},
   "outputs": [],
   "source": [
    "obj1 = Parent() \n",
    "obj2 = Child() \n",
    "\n",
    "obj1.show() \n",
    "obj2.show() "
   ]
  }
 ],
 "metadata": {
  "kernelspec": {
   "display_name": "Python 3 (ipykernel)",
   "language": "python",
   "name": "python3"
  },
  "language_info": {
   "codemirror_mode": {
    "name": "ipython",
    "version": 3
   },
   "file_extension": ".py",
   "mimetype": "text/x-python",
   "name": "python",
   "nbconvert_exporter": "python",
   "pygments_lexer": "ipython3",
   "version": "3.10.8"
  }
 },
 "nbformat": 4,
 "nbformat_minor": 5
}
