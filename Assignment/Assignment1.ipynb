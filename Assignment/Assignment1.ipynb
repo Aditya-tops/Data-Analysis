{
 "cells": [
  {
   "cell_type": "code",
   "execution_count": 1,
   "id": "6da28649-3fa1-49c1-83dd-c4f05bb2ca7e",
   "metadata": {},
   "outputs": [],
   "source": [
    "#---------------Question 1----------------"
   ]
  },
  {
   "cell_type": "code",
   "execution_count": 4,
   "id": "5317f3bf-0795-4f21-a732-c0c6054a29f6",
   "metadata": {},
   "outputs": [
    {
     "name": "stdout",
     "output_type": "stream",
     "text": [
      "<class 'str'>\n",
      "<class 'list'>\n",
      "<class 'float'>\n",
      "<class 'tuple'>\n"
     ]
    }
   ],
   "source": [
    "a=\"aditya\"\n",
    "b=[1,3,4,5,\"aditya\",True,]\n",
    "c=12.45\n",
    "d=(12,15,\"aditya\",[1,2,3,4,\"bony\"])\n",
    "\n",
    "print(type(a))\n",
    "print(type(b))\n",
    "print(type(c))\n",
    "print(type(d))"
   ]
  },
  {
   "cell_type": "code",
   "execution_count": 5,
   "id": "45ea50c2-5613-4541-8cbd-f0958b06783f",
   "metadata": {},
   "outputs": [],
   "source": [
    "#---------------Question 2----------------"
   ]
  },
  {
   "cell_type": "code",
   "execution_count": 6,
   "id": "3fb54bae-36fb-4320-9bdc-897c3c410d98",
   "metadata": {},
   "outputs": [
    {
     "name": "stdout",
     "output_type": "stream",
     "text": [
      "<class 'str'>\n",
      "<class 'str'>\n",
      "<class 'list'>\n",
      "<class 'int'>\n"
     ]
    }
   ],
   "source": [
    "var1=\"\"\n",
    "var2=' ds,ml,python  '\n",
    "var3=[ 'ds','ml','python' ]\n",
    "var4=1\n",
    "\n",
    "print(type(var1))\n",
    "print(type(var2))\n",
    "print(type(var3))\n",
    "print(type(var4))"
   ]
  },
  {
   "cell_type": "code",
   "execution_count": 7,
   "id": "34502328-619d-43d2-adc7-aab6f61a4889",
   "metadata": {},
   "outputs": [],
   "source": [
    "#---------------Question 3----------------"
   ]
  },
  {
   "cell_type": "code",
   "execution_count": 8,
   "id": "0ed0c702-9572-492c-ba26-4ccc38c4605d",
   "metadata": {},
   "outputs": [
    {
     "data": {
      "text/plain": [
       "0.5"
      ]
     },
     "execution_count": 8,
     "metadata": {},
     "output_type": "execute_result"
    }
   ],
   "source": [
    "1/2"
   ]
  },
  {
   "cell_type": "code",
   "execution_count": 10,
   "id": "20354ce2-0416-4f0b-9b34-9fcb8c38b733",
   "metadata": {},
   "outputs": [
    {
     "data": {
      "text/plain": [
       "1"
      ]
     },
     "execution_count": 10,
     "metadata": {},
     "output_type": "execute_result"
    }
   ],
   "source": [
    "5%4"
   ]
  },
  {
   "cell_type": "code",
   "execution_count": 11,
   "id": "944b1b53-444f-40c2-9d85-7daa1f41e680",
   "metadata": {},
   "outputs": [
    {
     "data": {
      "text/plain": [
       "1"
      ]
     },
     "execution_count": 11,
     "metadata": {},
     "output_type": "execute_result"
    }
   ],
   "source": [
    "5//4"
   ]
  },
  {
   "cell_type": "code",
   "execution_count": 12,
   "id": "789951a2-0dc2-45f3-bfc8-aacbf5b4ab02",
   "metadata": {},
   "outputs": [
    {
     "data": {
      "text/plain": [
       "6"
      ]
     },
     "execution_count": 12,
     "metadata": {},
     "output_type": "execute_result"
    }
   ],
   "source": [
    "2*3"
   ]
  },
  {
   "cell_type": "code",
   "execution_count": 13,
   "id": "7f80766d-9100-4107-95dd-6c25c8825318",
   "metadata": {},
   "outputs": [
    {
     "data": {
      "text/plain": [
       "8"
      ]
     },
     "execution_count": 13,
     "metadata": {},
     "output_type": "execute_result"
    }
   ],
   "source": [
    "2**3"
   ]
  },
  {
   "cell_type": "code",
   "execution_count": 14,
   "id": "8f8927bf-85de-4d58-872b-0f8a2a7c972e",
   "metadata": {},
   "outputs": [],
   "source": [
    "#---------------Question 4----------------"
   ]
  },
  {
   "cell_type": "code",
   "execution_count": 19,
   "id": "9b8d03e6-c26d-426e-b143-c31621dcce5a",
   "metadata": {},
   "outputs": [
    {
     "name": "stdout",
     "output_type": "stream",
     "text": [
      "45.45 <class 'float'>\n",
      "(4+5j) <class 'complex'>\n",
      "3 <class 'int'>\n",
      "True <class 'bool'>\n",
      "5 <class 'int'>\n",
      "aditya <class 'str'>\n",
      "7 <class 'int'>\n",
      "8 <class 'int'>\n",
      "neon <class 'str'>\n",
      "raze <class 'str'>\n"
     ]
    }
   ],
   "source": [
    "l=[45.45,4+5j,3,True,5,'aditya',7,8,'neon','raze']\n",
    "\n",
    "for i in l:\n",
    "    print(i,type(i))"
   ]
  },
  {
   "cell_type": "code",
   "execution_count": 20,
   "id": "b672aacc-4534-46c3-a6f6-09b2bdfbb7db",
   "metadata": {},
   "outputs": [],
   "source": [
    "#---------------Question 5----------------"
   ]
  },
  {
   "cell_type": "code",
   "execution_count": 21,
   "id": "97b96f90-693b-4f2d-aa73-f1680c785ef4",
   "metadata": {},
   "outputs": [
    {
     "name": "stdin",
     "output_type": "stream",
     "text": [
      "Enterthe number 0f A:-  10\n",
      "Enterthe number 0f B:-  5\n"
     ]
    },
    {
     "name": "stdout",
     "output_type": "stream",
     "text": [
      "1 times divisible by 5, remainder 2\n"
     ]
    }
   ],
   "source": [
    "a = int(input('Enterthe number 0f A:- '))\n",
    "b = int(input('Enterthe number 0f B:- '))\n",
    "\n",
    "count=0\n",
    "\n",
    "while a%b==0:\n",
    "    a=a//b\n",
    "    count=count+1\n",
    "if a==1:\n",
    "    print(f\"{count} times divisible by {b}\")\n",
    "else:\n",
    "    print(f\"{count} times divisible by {b}, remainder {a}\")\n",
    "\n",
    "\n",
    "\n",
    "\n",
    "\n",
    "\n"
   ]
  },
  {
   "cell_type": "code",
   "execution_count": 22,
   "id": "7da0a46e-cce4-4940-96f1-5b411535136c",
   "metadata": {},
   "outputs": [],
   "source": [
    "#--------------------------Question 6----------------------"
   ]
  },
  {
   "cell_type": "code",
   "execution_count": 23,
   "id": "2d76e800-6677-4b15-9ee1-6e63cb874be2",
   "metadata": {},
   "outputs": [
    {
     "name": "stdout",
     "output_type": "stream",
     "text": [
      "2 is not divisible by 3\n",
      "6 is divisible by 3\n",
      "9 is divisible by 3\n",
      "12 is divisible by 3\n",
      "15 is divisible by 3\n",
      "18 is divisible by 3\n",
      "21 is divisible by 3\n",
      "24 is divisible by 3\n",
      "27 is divisible by 3\n",
      "30 is divisible by 3\n",
      "33 is divisible by 3\n",
      "36 is divisible by 3\n",
      "39 is divisible by 3\n",
      "42 is divisible by 3\n",
      "45 is divisible by 3\n",
      "48 is divisible by 3\n",
      "51 is divisible by 3\n",
      "54 is divisible by 3\n",
      "57 is divisible by 3\n",
      "60 is divisible by 3\n",
      "63 is divisible by 3\n",
      "66 is divisible by 3\n",
      "69 is divisible by 3\n",
      "72 is divisible by 3\n",
      "75 is divisible by 3\n"
     ]
    }
   ],
   "source": [
    "my_list = [2, 6, 9, 12, 15, 18, 21, 24, 27, 30,33, 36, 39, 42, 45, 48, 51, 54, 57, 60,63, 66, 69, 72, 75]\n",
    "\n",
    "for num in my_list:\n",
    "    if num % 3 == 0:\n",
    "        print(f\"{num} is divisible by 3\")\n",
    "    else:\n",
    "        print(f\"{num} is not divisible by 3\")\n"
   ]
  },
  {
   "cell_type": "code",
   "execution_count": 24,
   "id": "102cc86d-4069-4d04-84e2-619ed5a174ef",
   "metadata": {},
   "outputs": [],
   "source": [
    "#--------------------------Question 7-------------------------"
   ]
  },
  {
   "cell_type": "code",
   "execution_count": 36,
   "id": "8f240a2f-7ec5-4ed2-ac25-d2d2a480b7b6",
   "metadata": {},
   "outputs": [
    {
     "name": "stdout",
     "output_type": "stream",
     "text": [
      "10\n"
     ]
    },
    {
     "data": {
      "text/plain": [
       "140118192996880"
      ]
     },
     "execution_count": 36,
     "metadata": {},
     "output_type": "execute_result"
    }
   ],
   "source": [
    "x=10\n",
    "print(x)\n",
    "id(x)"
   ]
  },
  {
   "cell_type": "code",
   "execution_count": 37,
   "id": "6513e9e2-d058-4c70-8b35-16d9a3230327",
   "metadata": {},
   "outputs": [
    {
     "name": "stdout",
     "output_type": "stream",
     "text": [
      "20\n"
     ]
    },
    {
     "data": {
      "text/plain": [
       "140118192997200"
      ]
     },
     "execution_count": 37,
     "metadata": {},
     "output_type": "execute_result"
    }
   ],
   "source": [
    "x=+20      # this is immutable bcz id is change\n",
    "print(x)\n",
    "id(x)"
   ]
  },
  {
   "cell_type": "code",
   "execution_count": 34,
   "id": "d679d5dd-e5d2-4e91-8b9b-1830a106bdb2",
   "metadata": {},
   "outputs": [
    {
     "data": {
      "text/plain": [
       "140117710410688"
      ]
     },
     "execution_count": 34,
     "metadata": {},
     "output_type": "execute_result"
    }
   ],
   "source": [
    "list=[20,30,40]\n",
    "id(list)"
   ]
  },
  {
   "cell_type": "code",
   "execution_count": 35,
   "id": "ccd6fb48-d998-4541-bc30-bfb3e27fe2b4",
   "metadata": {},
   "outputs": [
    {
     "name": "stdout",
     "output_type": "stream",
     "text": [
      "[20, 50, 40]\n"
     ]
    },
    {
     "data": {
      "text/plain": [
       "140117710410688"
      ]
     },
     "execution_count": 35,
     "metadata": {},
     "output_type": "execute_result"
    }
   ],
   "source": [
    "list[1]=list[1]+20    # this is mutable bcz id is not change\n",
    "print(list)\n",
    "id(list)"
   ]
  },
  {
   "cell_type": "code",
   "execution_count": null,
   "id": "877e3ba1-2ca3-44aa-9137-2258a7051e7a",
   "metadata": {},
   "outputs": [],
   "source": []
  }
 ],
 "metadata": {
  "kernelspec": {
   "display_name": "Python 3 (ipykernel)",
   "language": "python",
   "name": "python3"
  },
  "language_info": {
   "codemirror_mode": {
    "name": "ipython",
    "version": 3
   },
   "file_extension": ".py",
   "mimetype": "text/x-python",
   "name": "python",
   "nbconvert_exporter": "python",
   "pygments_lexer": "ipython3",
   "version": "3.10.8"
  }
 },
 "nbformat": 4,
 "nbformat_minor": 5
}
