{
 "cells": [
  {
   "cell_type": "markdown",
   "id": "eceeded6-03c1-4002-a654-a3894d555cde",
   "metadata": {},
   "source": [
    "Q1. How do you comment code in Python? What are the different types of comments?\n",
    "Ans:- There are three types of comments: \n",
    "     1) single-line          :-      # abc\n",
    "     2) multi-line           :-      ctrl + /\n",
    "     3) docstring comment    :-      ''' acb '''"
   ]
  },
  {
   "cell_type": "markdown",
   "id": "8cf0330a-09d2-4efb-8d42-a29dd394e4ab",
   "metadata": {},
   "source": [
    "Q2. What are variables in Python? How do you declare and assign values to variables?\n",
    "Ans:- A variable is a string of characters and numbers associated with a piece of information          "
   ]
  },
  {
   "cell_type": "code",
   "execution_count": 3,
   "id": "a6689ead-583a-4754-ae81-e69aa7b1778c",
   "metadata": {},
   "outputs": [],
   "source": [
    "y=1"
   ]
  },
  {
   "cell_type": "code",
   "execution_count": 4,
   "id": "356eb1f9-0f6f-4cc0-a392-bbe8fd396736",
   "metadata": {},
   "outputs": [
    {
     "data": {
      "text/plain": [
       "1"
      ]
     },
     "execution_count": 4,
     "metadata": {},
     "output_type": "execute_result"
    }
   ],
   "source": [
    "y"
   ]
  },
  {
   "cell_type": "markdown",
   "id": "6f1cbf78-afbd-471c-b575-836eb4df5f11",
   "metadata": {},
   "source": [
    "Q3. How do you convert one data type to another in Python?\n",
    "Ans:- Python Type conversion using tuple(), set(), list()"
   ]
  },
  {
   "cell_type": "markdown",
   "id": "46290304-24ec-406f-ba1c-2a92c551e913",
   "metadata": {},
   "source": [
    "Q4. How do you write and execute a Python script from the command line?\n",
    "Ans:- open a command line and type the word python followed by the path to your script file"
   ]
  },
  {
   "cell_type": "markdown",
   "id": "9a23b670-8ff4-44bb-a7b6-a54f9989bc73",
   "metadata": {},
   "source": [
    "Q5. Given a list my_list = [1, 2, 3, 4, 5], write the code to slice the list and obtain the sub-list [2, 3]."
   ]
  },
  {
   "cell_type": "code",
   "execution_count": 11,
   "id": "9cbc259c-26f6-4bd6-b7dd-565fa140f9ea",
   "metadata": {},
   "outputs": [],
   "source": [
    "my_list = [1, 2, 3, 4, 5]"
   ]
  },
  {
   "cell_type": "code",
   "execution_count": 15,
   "id": "0b8fe635-04e3-46d3-88b8-cf8b7cad50d7",
   "metadata": {},
   "outputs": [
    {
     "data": {
      "text/plain": [
       "[2, 3]"
      ]
     },
     "execution_count": 15,
     "metadata": {},
     "output_type": "execute_result"
    }
   ],
   "source": [
    " my_list[1:3]"
   ]
  },
  {
   "cell_type": "markdown",
   "id": "6d7b4682-ace8-4a5d-9b78-1e363d797797",
   "metadata": {},
   "source": [
    "Q6. What is a complex number in mathematics, and how is it represented in Python?\n",
    "Ans:- The complex number is in the form of a+ib"
   ]
  },
  {
   "cell_type": "code",
   "execution_count": 16,
   "id": "ab1b48f3-f0c3-4032-9891-24f6effc1a13",
   "metadata": {},
   "outputs": [],
   "source": [
    "b=4+5j"
   ]
  },
  {
   "cell_type": "code",
   "execution_count": 17,
   "id": "e0fff582-28d6-41f4-b77a-a661c5c1206d",
   "metadata": {},
   "outputs": [
    {
     "data": {
      "text/plain": [
       "complex"
      ]
     },
     "execution_count": 17,
     "metadata": {},
     "output_type": "execute_result"
    }
   ],
   "source": [
    "type(b)"
   ]
  },
  {
   "cell_type": "markdown",
   "id": "5bffe745-e79b-435c-b879-c45cd90db4ad",
   "metadata": {},
   "source": [
    "Q7. What is the correct way to declare a variable named age and assign the value 25 to it?"
   ]
  },
  {
   "cell_type": "code",
   "execution_count": 22,
   "id": "f207f295-eddf-4fd9-b619-ec379df27712",
   "metadata": {},
   "outputs": [
    {
     "data": {
      "text/plain": [
       "str"
      ]
     },
     "execution_count": 22,
     "metadata": {},
     "output_type": "execute_result"
    }
   ],
   "source": [
    "name = \"aditya\"\n",
    "age = 25\n",
    "type(name)"
   ]
  },
  {
   "cell_type": "code",
   "execution_count": 23,
   "id": "5ccbbed9-23b8-4bf5-a799-b59bf48b0c46",
   "metadata": {},
   "outputs": [
    {
     "data": {
      "text/plain": [
       "int"
      ]
     },
     "execution_count": 23,
     "metadata": {},
     "output_type": "execute_result"
    }
   ],
   "source": [
    "type(age)"
   ]
  },
  {
   "cell_type": "markdown",
   "id": "933fe041-ad17-499a-afb7-35f4475169a2",
   "metadata": {},
   "source": [
    "Q8. Declare a variable named price and assign the value 9.99 to it. What data type does this variable\n",
    "belong to?"
   ]
  },
  {
   "cell_type": "code",
   "execution_count": 24,
   "id": "73eb3a8e-ae75-453d-a1db-128334b87fd5",
   "metadata": {},
   "outputs": [
    {
     "data": {
      "text/plain": [
       "float"
      ]
     },
     "execution_count": 24,
     "metadata": {},
     "output_type": "execute_result"
    }
   ],
   "source": [
    "price=9.99\n",
    "type(price)"
   ]
  },
  {
   "cell_type": "markdown",
   "id": "380afb33-0970-48f2-8bcf-5bfac3e815df",
   "metadata": {},
   "source": [
    "Q9. Create a variable named name and assign your full name to it as a string. How would you print the\n",
    "value of this variable?"
   ]
  },
  {
   "cell_type": "code",
   "execution_count": 26,
   "id": "af5612e4-e1ba-47ea-838c-66b4eaa085b6",
   "metadata": {},
   "outputs": [
    {
     "name": "stdout",
     "output_type": "stream",
     "text": [
      "aditya patel\n"
     ]
    }
   ],
   "source": [
    "name=\"aditya patel\"\n",
    "print(name)"
   ]
  },
  {
   "cell_type": "markdown",
   "id": "903c946c-ecf2-448e-9e25-f2ff9bd82840",
   "metadata": {},
   "source": [
    "Q10. Given the string \"Hello, World!\", extract the substring \"World\"."
   ]
  },
  {
   "cell_type": "code",
   "execution_count": 27,
   "id": "34012563-36fc-4d66-8e62-c9c86908b3ce",
   "metadata": {},
   "outputs": [
    {
     "name": "stdout",
     "output_type": "stream",
     "text": [
      "hello World\n"
     ]
    }
   ],
   "source": [
    "print('hello World')"
   ]
  },
  {
   "cell_type": "markdown",
   "id": "d920ec92-5799-48be-a354-c8b534d38fcf",
   "metadata": {},
   "source": [
    "Q11. Create a variable named \"is_student\" and assign it a boolean value indicating whether you are\n",
    "currently a student or not."
   ]
  },
  {
   "cell_type": "code",
   "execution_count": 28,
   "id": "ac974432-16a9-456a-9e5a-5b68c4d8740f",
   "metadata": {},
   "outputs": [],
   "source": [
    "is_student=True"
   ]
  },
  {
   "cell_type": "code",
   "execution_count": 29,
   "id": "6bab7373-3473-468b-b04f-45aeb73b2458",
   "metadata": {},
   "outputs": [
    {
     "data": {
      "text/plain": [
       "bool"
      ]
     },
     "execution_count": 29,
     "metadata": {},
     "output_type": "execute_result"
    }
   ],
   "source": [
    "type(is_student)"
   ]
  },
  {
   "cell_type": "code",
   "execution_count": null,
   "id": "726e5ae4-a13a-422a-a8e9-2be4e28082e6",
   "metadata": {},
   "outputs": [],
   "source": []
  }
 ],
 "metadata": {
  "kernelspec": {
   "display_name": "Python 3 (ipykernel)",
   "language": "python",
   "name": "python3"
  },
  "language_info": {
   "codemirror_mode": {
    "name": "ipython",
    "version": 3
   },
   "file_extension": ".py",
   "mimetype": "text/x-python",
   "name": "python",
   "nbconvert_exporter": "python",
   "pygments_lexer": "ipython3",
   "version": "3.10.8"
  }
 },
 "nbformat": 4,
 "nbformat_minor": 5
}
