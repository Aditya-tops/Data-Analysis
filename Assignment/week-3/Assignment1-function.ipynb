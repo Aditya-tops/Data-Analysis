{
 "cells": [
  {
   "cell_type": "markdown",
   "id": "be07e61f-14c9-44bc-a749-d1624313ac4b",
   "metadata": {},
   "source": [
    "Q1. Which keyword is used to create a function? Create a function to return a list of odd numbers in the\n",
    "range of 1 to 25.\n",
    "\n",
    "Ans : def keyword"
   ]
  },
  {
   "cell_type": "code",
   "execution_count": 6,
   "id": "6b61abb3-b697-4b31-ad18-cb437b645114",
   "metadata": {},
   "outputs": [],
   "source": [
    "def get_odd_numbers():\n",
    "    odd_numbers = [num for num in range(1, 26) if num % 2 != 0]\n",
    "    return odd_numbers\n",
    "\n"
   ]
  },
  {
   "cell_type": "code",
   "execution_count": 7,
   "id": "d17c61a3-fee1-46a3-a5fe-742d1494b102",
   "metadata": {},
   "outputs": [
    {
     "name": "stdout",
     "output_type": "stream",
     "text": [
      "[1, 3, 5, 7, 9, 11, 13, 15, 17, 19, 21, 23, 25]\n"
     ]
    }
   ],
   "source": [
    "result = get_odd_numbers()\n",
    "print(result)\n"
   ]
  },
  {
   "cell_type": "markdown",
   "id": "c2cac1b4-2b83-4c6a-8c4f-ca35c34fa289",
   "metadata": {},
   "source": [
    "Q2. Why *args and **kwargs is used in some functions? Create a function each for *args and **kwargs\n",
    "to demonstrate their use.\n",
    "\n",
    "--> These make a Python function flexible so it can accept a variable number of arguments and keyword arguments, respectively"
   ]
  },
  {
   "cell_type": "code",
   "execution_count": 8,
   "id": "d88c88cb-4d34-4a5c-9726-1adbc5bffaf7",
   "metadata": {},
   "outputs": [],
   "source": [
    "def test11(*args):\n",
    "    return args"
   ]
  },
  {
   "cell_type": "code",
   "execution_count": 9,
   "id": "932e138d-2894-4753-82e4-60b9f2f0ac81",
   "metadata": {},
   "outputs": [
    {
     "data": {
      "text/plain": [
       "tuple"
      ]
     },
     "execution_count": 9,
     "metadata": {},
     "output_type": "execute_result"
    }
   ],
   "source": [
    "type(test11())"
   ]
  },
  {
   "cell_type": "code",
   "execution_count": 10,
   "id": "3871c1ae-ed97-4c07-88d1-18ef7f8dcbfe",
   "metadata": {},
   "outputs": [
    {
     "data": {
      "text/plain": [
       "(1, 2, 3)"
      ]
     },
     "execution_count": 10,
     "metadata": {},
     "output_type": "execute_result"
    }
   ],
   "source": [
    "test11(1,2,3)"
   ]
  },
  {
   "cell_type": "code",
   "execution_count": 11,
   "id": "c037e300-9f60-4ecf-88d2-96c1bfbad85e",
   "metadata": {},
   "outputs": [
    {
     "data": {
      "text/plain": [
       "(1, 2, 3, 'bony', 'patel', [1, 2, 3, 56, 4, 6])"
      ]
     },
     "execution_count": 11,
     "metadata": {},
     "output_type": "execute_result"
    }
   ],
   "source": [
    "test11(1,2,3,'bony','patel',[1,2,3,56,4,6,])"
   ]
  },
  {
   "cell_type": "code",
   "execution_count": 12,
   "id": "5f703cd4-e8a7-42d2-82e3-1844b7c29184",
   "metadata": {},
   "outputs": [],
   "source": [
    "def test15(**kwargs):\n",
    "    return kwargs"
   ]
  },
  {
   "cell_type": "code",
   "execution_count": 13,
   "id": "84784e22-60f6-4970-b9a4-078e22c86bb3",
   "metadata": {},
   "outputs": [
    {
     "data": {
      "text/plain": [
       "{}"
      ]
     },
     "execution_count": 13,
     "metadata": {},
     "output_type": "execute_result"
    }
   ],
   "source": [
    "test15()"
   ]
  },
  {
   "cell_type": "code",
   "execution_count": 14,
   "id": "f384457b-37cc-45ce-be64-1f7b6be502b9",
   "metadata": {},
   "outputs": [
    {
     "data": {
      "text/plain": [
       "dict"
      ]
     },
     "execution_count": 14,
     "metadata": {},
     "output_type": "execute_result"
    }
   ],
   "source": [
    "type(test15())"
   ]
  },
  {
   "cell_type": "code",
   "execution_count": 15,
   "id": "b6368ebb-87be-4248-b46a-4e79dd4362ce",
   "metadata": {},
   "outputs": [
    {
     "data": {
      "text/plain": [
       "{'a': [15, 1, 5, 1, 5, 1], 'b': 'sudh', 'c': 5}"
      ]
     },
     "execution_count": 15,
     "metadata": {},
     "output_type": "execute_result"
    }
   ],
   "source": [
    "test15(a= [15,1,5,1,5,1] , b = 'sudh' , c = 5)"
   ]
  },
  {
   "cell_type": "markdown",
   "id": "fa9efc1e-9f0f-4b06-ab5a-cf9475d58553",
   "metadata": {},
   "source": [
    "Q3.  What is an iterator in python? Name the method used to initialise the iterator object and the method\n",
    "used for iteration. Use these methods to print the first five elements of the given list [2, 4, 6, 8, 10, 12, 14,\n",
    "16, 18, 20]."
   ]
  },
  {
   "cell_type": "markdown",
   "id": "2d9c971c-fee1-4598-a32b-9845000bc8cc",
   "metadata": {},
   "source": [
    "--> iterator is an object that allows you to iterate over collections of data, such as lists, tuples, dictionaries, and sets\n",
    "--> iter() method is used to initialize the iterator object and __next__() method"
   ]
  },
  {
   "cell_type": "code",
   "execution_count": 16,
   "id": "17ea6fea-ff65-434d-bb69-83ced55606f4",
   "metadata": {},
   "outputs": [],
   "source": [
    "my_list = [2, 4, 6, 8, 10, 12, 14, 16, 18, 20]"
   ]
  },
  {
   "cell_type": "markdown",
   "id": "524b2a13-c28a-4326-aa95-31dfd1513a37",
   "metadata": {},
   "source": [
    "What is a generator function in python? Why yield keyword is used? Give an example of a generator\n",
    "function.\n",
    "A generator is a special type of function which does not return a single value, instead, it returns an iterator object with a sequence of values\n",
    "The yield keyword pauses generator function execution and the value of the expression following the yield keyword is returned to the generator's caller\n"
   ]
  },
  {
   "cell_type": "code",
   "execution_count": 17,
   "id": "bf3925e2-c263-48ec-bb32-98810a1e38da",
   "metadata": {},
   "outputs": [],
   "source": [
    "def test_fib(n):\n",
    "    a,b = 0,1\n",
    "    for i in range(n):\n",
    "        yield a\n",
    "        a,b = b , a+b"
   ]
  },
  {
   "cell_type": "code",
   "execution_count": 18,
   "id": "35cf1992-57b0-4b19-97c3-7c6a12c3ffc4",
   "metadata": {},
   "outputs": [
    {
     "data": {
      "text/plain": [
       "<generator object test_fib at 0x7f0e8454ccf0>"
      ]
     },
     "execution_count": 18,
     "metadata": {},
     "output_type": "execute_result"
    }
   ],
   "source": [
    "test_fib(10)"
   ]
  },
  {
   "cell_type": "code",
   "execution_count": 19,
   "id": "caf06a03-0f60-4c0b-88ba-1cdd5c15cdf7",
   "metadata": {},
   "outputs": [
    {
     "name": "stdout",
     "output_type": "stream",
     "text": [
      "0\n",
      "1\n",
      "1\n",
      "2\n",
      "3\n",
      "5\n",
      "8\n",
      "13\n",
      "21\n",
      "34\n"
     ]
    }
   ],
   "source": [
    "for i in test_fib(10):\n",
    "    print(i)"
   ]
  },
  {
   "cell_type": "markdown",
   "id": "596d71d4-55cf-4c7e-96c3-b2f483e48555",
   "metadata": {},
   "source": [
    "Q5. Create a generator function for prime numbers less than 1000. Use the next() method to print the\n",
    "first 20 prime numbers."
   ]
  },
  {
   "cell_type": "code",
   "execution_count": 22,
   "id": "6727b728-8bf7-45a0-93c0-cc680d607e26",
   "metadata": {},
   "outputs": [],
   "source": [
    "def is_prime(num):\n",
    "    if num < 2:\n",
    "        return False\n",
    "    for i in range(2, int(num**0.5) + 1):\n",
    "        if num % i == 0:\n",
    "            return False\n",
    "    return True"
   ]
  },
  {
   "cell_type": "code",
   "execution_count": 23,
   "id": "fdf630f1-d792-40f2-b261-1d805068d48b",
   "metadata": {},
   "outputs": [],
   "source": [
    "def generate_primes():\n",
    "    num = 2\n",
    "    while num < 1000:\n",
    "        if is_prime(num):\n",
    "            yield num\n",
    "        num += 1"
   ]
  },
  {
   "cell_type": "code",
   "execution_count": 24,
   "id": "e60198d4-6051-46e2-bbd9-b289119e552d",
   "metadata": {},
   "outputs": [
    {
     "name": "stdout",
     "output_type": "stream",
     "text": [
      "2\n",
      "3\n",
      "5\n",
      "7\n",
      "11\n",
      "13\n",
      "17\n",
      "19\n",
      "23\n",
      "29\n",
      "31\n",
      "37\n",
      "41\n",
      "43\n",
      "47\n",
      "53\n",
      "59\n",
      "61\n",
      "67\n",
      "71\n"
     ]
    }
   ],
   "source": [
    "prime_generator = generate_primes()\n",
    "\n",
    "for _ in range(20):\n",
    "    print(next(prime_generator))"
   ]
  },
  {
   "cell_type": "markdown",
   "id": "963b6c2d-bc91-4907-9deb-400cb77d94c8",
   "metadata": {},
   "source": [
    "Q6. Write a python program to print the first 10 Fibonacci numbers using a while loop."
   ]
  },
  {
   "cell_type": "code",
   "execution_count": 25,
   "id": "53a74e9d-8ecd-4ac5-81da-67ea28d73380",
   "metadata": {},
   "outputs": [],
   "source": [
    "def test_fib1():\n",
    "    a,b = 0,1\n",
    "    while True:\n",
    "        yield a\n",
    "        a,b = b , a+b"
   ]
  },
  {
   "cell_type": "code",
   "execution_count": 26,
   "id": "c5af58b1-b015-40ad-aa4e-41ec9a8ce953",
   "metadata": {},
   "outputs": [],
   "source": [
    "fibb = test_fib1()"
   ]
  },
  {
   "cell_type": "code",
   "execution_count": 27,
   "id": "fa7bcaaf-bb5c-43d4-9b10-61f8a822bd7b",
   "metadata": {},
   "outputs": [
    {
     "name": "stdout",
     "output_type": "stream",
     "text": [
      "0\n",
      "1\n",
      "1\n",
      "2\n",
      "3\n",
      "5\n",
      "8\n",
      "13\n",
      "21\n",
      "34\n"
     ]
    }
   ],
   "source": [
    "for i in range(10):\n",
    "    print(next(fibb))"
   ]
  },
  {
   "cell_type": "markdown",
   "id": "b50505fa-4e95-4e4d-9ab5-e3d966285a5a",
   "metadata": {},
   "source": [
    "Q7. Write a List Comprehension to iterate through the given string: ‘pwskills’.\n",
    "\n",
    "Expected output: ['p', 'w', 's', 'k', 'i', 'l', 'l', 's'] "
   ]
  },
  {
   "cell_type": "code",
   "execution_count": 28,
   "id": "f3a11bb0-f390-4f91-b56a-f28ec33b2554",
   "metadata": {},
   "outputs": [
    {
     "data": {
      "text/plain": [
       "['P', 'W', 'S', 'K', 'I', 'L', 'L', 'S']"
      ]
     },
     "execution_count": 28,
     "metadata": {},
     "output_type": "execute_result"
    }
   ],
   "source": [
    "s = \"pwskills\"\n",
    "\n",
    "list(map(lambda s : s.upper() , s))"
   ]
  },
  {
   "cell_type": "markdown",
   "id": "7ddceadb-8437-4819-84c9-3c0f0860477d",
   "metadata": {},
   "source": [
    "Q8. Write a python program to check whether a given number is Palindrome or not using a while loop."
   ]
  },
  {
   "cell_type": "code",
   "execution_count": 29,
   "id": "d1d8927d-a883-432a-af9f-bed68f44994d",
   "metadata": {},
   "outputs": [],
   "source": [
    "c_to_f = lambda c : (9/5)*c +32"
   ]
  },
  {
   "cell_type": "code",
   "execution_count": 30,
   "id": "6084341e-5c88-4fcc-9da3-fc70605b89c7",
   "metadata": {},
   "outputs": [
    {
     "data": {
      "text/plain": [
       "113.0"
      ]
     },
     "execution_count": 30,
     "metadata": {},
     "output_type": "execute_result"
    }
   ],
   "source": [
    "c_to_f(45)"
   ]
  },
  {
   "cell_type": "markdown",
   "id": "c7ea586a-30f3-47e8-ad57-f1a98051a32f",
   "metadata": {},
   "source": [
    "Q9.Write a code to print odd numbers from 1 to 100 using list comprehension."
   ]
  },
  {
   "cell_type": "code",
   "execution_count": 31,
   "id": "a726c0b9-7654-4597-a1be-1578d2fb90d8",
   "metadata": {},
   "outputs": [
    {
     "name": "stdout",
     "output_type": "stream",
     "text": [
      "[1, 3, 5, 7, 9, 11, 13, 15, 17, 19, 21, 23, 25, 27, 29, 31, 33, 35, 37, 39, 41, 43, 45, 47, 49, 51, 53, 55, 57, 59, 61, 63, 65, 67, 69, 71, 73, 75, 77, 79, 81, 83, 85, 87, 89, 91, 93, 95, 97, 99]\n"
     ]
    }
   ],
   "source": [
    "odd_numbers = [num for num in range(1, 101) if num % 2 != 0]\n",
    "\n",
    "print(odd_numbers)\n"
   ]
  },
  {
   "cell_type": "code",
   "execution_count": null,
   "id": "fffcafe9-a723-4ea6-8aab-2813a00b3dac",
   "metadata": {},
   "outputs": [],
   "source": []
  }
 ],
 "metadata": {
  "kernelspec": {
   "display_name": "Python 3 (ipykernel)",
   "language": "python",
   "name": "python3"
  },
  "language_info": {
   "codemirror_mode": {
    "name": "ipython",
    "version": 3
   },
   "file_extension": ".py",
   "mimetype": "text/x-python",
   "name": "python",
   "nbconvert_exporter": "python",
   "pygments_lexer": "ipython3",
   "version": "3.10.8"
  }
 },
 "nbformat": 4,
 "nbformat_minor": 5
}
