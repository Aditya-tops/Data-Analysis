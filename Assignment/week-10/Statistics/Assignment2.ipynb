{
 "cells": [
  {
   "cell_type": "markdown",
   "id": "118bbfd4-5e2d-4352-ab87-1094ff367486",
   "metadata": {},
   "source": [
    "Q1. What are the three measures of central tendency?"
   ]
  },
  {
   "cell_type": "markdown",
   "id": "3397976b-51b2-43d6-b924-bdf7fee410cc",
   "metadata": {},
   "source": [
    "The mean, median, and mode are three different measures of central tendency used to describe the central value of a dataset. They provide information about where the data tends to cluster or concentrate.\n",
    "\n",
    "The three measures of central tendency are:\n",
    "\n",
    "Mean: The mean is the arithmetic average of a set of data points. It is calculated by summing all the values and then dividing by the total number of data points. The mean represents the central value around which the data points tend to cluster.\n",
    "\n",
    "Median: The median is the middle value of a dataset when the data points are arranged in ascending or descending order. If there is an even number of data points, the median is the average of the two middle values.\n",
    "\n",
    "Mode: The mode is the value that appears most frequently in a dataset. It can be a single value (unimodal) or multiple values (bimodal, trimodal, etc.) if there are multiple equally occurring modes."
   ]
  },
  {
   "cell_type": "markdown",
   "id": "da6fe10a-9353-4def-853c-6c1af9ec463c",
   "metadata": {},
   "source": [
    "Q2. What is the difference between the mean, median, and mode? How are they used to measure the central tendency of a dataset?"
   ]
  },
  {
   "cell_type": "markdown",
   "id": "901e3e65-a95c-493e-8a8f-62271096ab70",
   "metadata": {},
   "source": [
    "The mean, median, and mode are three different measures of central tendency used to describe the central value of a dataset. They provide information about where the data tends to cluster or concentrate. The differences between the three measures and how they are used:\n",
    "\n",
    "Mean:\n",
    "Definition: The mean is the arithmetic average of a set of data points. It is calculated by summing all the values and then dividing by the total number of data points.\n",
    "Use: The mean is used to measure the central tendency when we want to find the \"average\" or \"typical\" value of the dataset.\n",
    "Sensitivity to Outliers: The mean is sensitive to outliers, meaning extreme values can significantly impact its value.\n",
    "Median:\n",
    "Definition: The median is the middle value of a dataset when the data points are arranged in ascending or descending order. If there is an even number of data points, the median is the average of the two middle values.\n",
    "Use: The median is used when the dataset is skewed or contains outliers. It provides a measure of central tendency that is not influenced by extreme values.\n",
    "Sensitivity to Outliers: The median is not sensitive to outliers, making it a robust measure of central tendency.\n",
    "Mode:\n",
    "Definition: The mode is the value that appears most frequently in a dataset. It can be a single value (unimodal) or multiple values (bimodal, trimodal, etc.) if there are multiple equally occurring modes.\n",
    "Use: The mode is used to identify the most common occurrence or category in the dataset.\n",
    "Sensitivity to Outliers: The mode is not affected by outliers, as it only considers the frequency of values.\n",
    "\n",
    "The mean, median, and mode are used to measure the central tendency of a dataset in different ways. The mean is useful when the dataset is approximately symmetric and not heavily influenced by outliers. The median is preferred when the dataset is skewed or contains extreme values, as it is robust to such situations. The mode is employed to identify the most common value or category in the dataset, regardless of the data's distribution"
   ]
  },
  {
   "cell_type": "markdown",
   "id": "8b7d4daf-e0c6-472f-a4d0-d059387b78d0",
   "metadata": {},
   "source": [
    "Q3. Measure the three measures of central tendency for the given height data:\n",
    "[178,177,176,177,178.2,178,175,179,180,175,178.9,176.2,177,172.5,178,176.5]"
   ]
  },
  {
   "cell_type": "code",
   "execution_count": 1,
   "id": "e8ad9492-7acd-4502-a9ce-f6446997e1f7",
   "metadata": {},
   "outputs": [],
   "source": [
    "import numpy as np\n",
    "\n",
    "data = [178,177,176,177,178.2,178,175,179,180,175,178.9,176.2,177,172.5,178,176.5]\n"
   ]
  },
  {
   "cell_type": "code",
   "execution_count": 2,
   "id": "d23150fa-4cdb-4c97-b0b6-cd3782b5c4f7",
   "metadata": {},
   "outputs": [
    {
     "data": {
      "text/plain": [
       "177.01875"
      ]
     },
     "execution_count": 2,
     "metadata": {},
     "output_type": "execute_result"
    }
   ],
   "source": [
    "#Mean of the data\n",
    "np.mean(data)"
   ]
  },
  {
   "cell_type": "code",
   "execution_count": 3,
   "id": "f6a3818e-921b-4bc8-a3d4-d45ab7cb1299",
   "metadata": {},
   "outputs": [
    {
     "data": {
      "text/plain": [
       "177.0"
      ]
     },
     "execution_count": 3,
     "metadata": {},
     "output_type": "execute_result"
    }
   ],
   "source": [
    "#Median of the data\n",
    "np.median(data)"
   ]
  },
  {
   "cell_type": "code",
   "execution_count": 4,
   "id": "1ff5fa60-6b8f-4c34-87d9-a8d924437fbd",
   "metadata": {},
   "outputs": [
    {
     "name": "stderr",
     "output_type": "stream",
     "text": [
      "/tmp/ipykernel_363/1141732357.py:4: FutureWarning: Unlike other reduction functions (e.g. `skew`, `kurtosis`), the default behavior of `mode` typically preserves the axis it acts along. In SciPy 1.11.0, this behavior will change: the default value of `keepdims` will become False, the `axis` over which the statistic is taken will be eliminated, and the value None will no longer be accepted. Set `keepdims` to True or False to avoid this warning.\n",
      "  stats.mode(data)\n"
     ]
    },
    {
     "data": {
      "text/plain": [
       "ModeResult(mode=array([177.]), count=array([3]))"
      ]
     },
     "execution_count": 4,
     "metadata": {},
     "output_type": "execute_result"
    }
   ],
   "source": [
    "#import stats library for mode calculation\n",
    "from scipy import stats\n",
    "#Mode of the data\n",
    "stats.mode(data)"
   ]
  },
  {
   "cell_type": "markdown",
   "id": "ee470ca1-db2a-4749-b1a0-6513e29f1ac6",
   "metadata": {},
   "source": [
    "Q4. Find the standard deviation for the given data:\n",
    "[178,177,176,177,178.2,178,175,179,180,175,178.9,176.2,177,172.5,178,176.5]"
   ]
  },
  {
   "cell_type": "code",
   "execution_count": 5,
   "id": "bf9529c0-86d5-418a-9503-c4bb26408eaa",
   "metadata": {},
   "outputs": [
    {
     "data": {
      "text/plain": [
       "1.7885814036548633"
      ]
     },
     "execution_count": 5,
     "metadata": {},
     "output_type": "execute_result"
    }
   ],
   "source": [
    "import numpy as np\n",
    "data = [178,177,176,177,178.2,178,175,179,180,175,178.9,176.2,177,172.5,178,176.5]\n",
    "np.std(data)"
   ]
  },
  {
   "cell_type": "markdown",
   "id": "20a151f5-4952-4c89-a35e-706df05e064e",
   "metadata": {},
   "source": [
    "Q5. How are measures of dispersion such as range, variance, and standard deviation used to describe the spread of a dataset? Provide an example."
   ]
  },
  {
   "cell_type": "markdown",
   "id": "d6953dfb-3e24-4c08-b101-4007339da082",
   "metadata": {},
   "source": [
    "Measures of dispersion, such as range, variance, and standard deviation, are used to describe the spread or variability of a dataset. They provide information about how much the data points deviate from the central tendency measures (mean, median, or mode) and how spread out the values are within the dataset.\n",
    "\n",
    "Range:\n",
    "Definition: The range is the simplest measure of dispersion and represents the difference between the maximum and minimum values in a dataset.\n",
    "Use: The range gives an idea of the spread of the data from the lowest to the highest value.\n",
    "Example: Consider the following dataset of test scores: [70, 75, 80, 85, 90]. The range is calculated as 90 (maximum value) - 70 (minimum value) = 20. This means the spread of the test scores in the dataset is 20 points.\n",
    "Variance:\n",
    "Definition: Variance is a measure of how far the data points are spread out from the mean. It quantifies the average squared deviation of each data point from the mean.\n",
    "Use: Variance provides an overall measure of dispersion, considering all data points.\n",
    "Calculation: The variance is computed by taking the sum of the squared differences between each data point and the mean, dividing it by the total number of data points (or n-1 for sample variance due to bessels correction to remove bias).\n",
    "Example: Continuing with the test scores dataset, let's assume the mean of the scores is 80. The variance would be calculated as [(70-80)^2 + (75-80)^2 + (80-80)^2 + (85-80)^2 + (90-80)^2] / 5 = 100. The variance of 100 indicates that the test scores have considerable variability from the mean score of 80.\n",
    "Standard Deviation:\n",
    "Definition: The standard deviation is the square root of the variance. It is used to describe the typical amount of deviation or dispersion of data points from the mean.\n",
    "Use: Standard deviation provides a measure of the spread of data in the original units of measurement, making it easier to interpret and compare to the mean.\n",
    "Calculation: The standard deviation is computed by taking the square root of the variance.\n",
    "Example: In the test scores dataset, the standard deviation would be the square root of the variance, which is √100 = 10. This indicates that the typical deviation of the test scores from the mean of 80 is 10 points."
   ]
  },
  {
   "cell_type": "markdown",
   "id": "ab37fc83-7146-4c33-ae34-03c980006392",
   "metadata": {},
   "source": [
    "Q6. What is a Venn diagram?"
   ]
  },
  {
   "cell_type": "markdown",
   "id": "c8b8b0db-a143-4aa5-a796-2838e7ac7aba",
   "metadata": {},
   "source": [
    "A Venn diagram is a graphical representation used to illustrate the relationships and similarities between different sets or groups of data."
   ]
  },
  {
   "cell_type": "markdown",
   "id": "e6e32770-4f14-4348-be04-bc5fa30d2552",
   "metadata": {},
   "source": [
    "Q7. For the two given sets A = (2,3,4,5,6,7) & B = (0,2,6,8,10). Find:(i) A ∩ B (ii) A ⋃ B\n"
   ]
  },
  {
   "cell_type": "markdown",
   "id": "bfd11514-5b39-4f52-9d70-52b52226fcb5",
   "metadata": {},
   "source": [
    "A = (2,3,4,5,6,7) B = (0,2,6,8,10)\n",
    "\n",
    "A ∩ B : (A intersection B)\n",
    "This represents the A intersection B which means all the common elements between A and B.\n",
    "The output of the intersections of the above set will be (2,6)\n",
    "A ⋃ B : (A union B)\n",
    "This represents the A union B which means all the elements of A and B ie,distinct elements.\n",
    "The output of the union of the above set will be (0,2,3,4,5,6,7,8,10)"
   ]
  },
  {
   "cell_type": "code",
   "execution_count": 7,
   "id": "285102be-e23e-442c-bd7b-3b5a5952e842",
   "metadata": {},
   "outputs": [
    {
     "name": "stdout",
     "output_type": "stream",
     "text": [
      "Intersection of A and B is :  {2, 6}\n",
      "Union of A and B is :  {0, 2, 3, 4, 5, 6, 7, 8, 10}\n"
     ]
    }
   ],
   "source": [
    "A = {2,3,4,5,6,7}\n",
    "B = {0,2,6,8,10}\n",
    "\n",
    "a_intersection_b = A.intersection(B)\n",
    "print(\"Intersection of A and B is : \",a_intersection_b)\n",
    "a_union_b = A.union(B)\n",
    "print(\"Union of A and B is : \",a_union_b)"
   ]
  },
  {
   "cell_type": "markdown",
   "id": "78fa3aad-02d2-4d2a-8fca-dcb41f0aafad",
   "metadata": {},
   "source": [
    "Q8. What do you understand about skewness in data?"
   ]
  },
  {
   "cell_type": "markdown",
   "id": "8e44634c-7191-4b76-ad2e-42f90690a9b2",
   "metadata": {},
   "source": [
    "Skewness is a statistical term that refers to the asymmetry or lack of symmetry in the distribution of a dataset. In a symmetrical distribution, the data is evenly distributed around the mean, with the left and right sides of the distribution mirroring each other. However, in a skewed distribution, the data is concentrated more towards one tail of the distribution, resulting in a longer tail on one side and a shorter tail on the other.\n",
    "\n",
    "Skewness is an essential concept in data analysis as it helps to understand the shape and characteristics of a dataset. There are three types of skewness:\n",
    "\n",
    "Positive Skewness (Right Skewness):\n",
    "In a positively skewed distribution, the majority of the data is concentrated towards the lower values (left side) of the distribution, and the tail extends to the right. This results in a longer right tail and a shorter left tail. The mean is typically greater than the median in positively skewed data.\n",
    "\n",
    "Here the Mean > Median >Mode\n",
    "Example of Positive Skewness:\n",
    "Consider the distribution of household incomes in a country. Most households might have lower incomes, with a few extremely high-income households creating a long right tail.\n",
    "Negative Skewness (Left Skewness):\n",
    "In a negatively skewed distribution, the majority of the data is concentrated towards the higher values (right side) of the distribution, and the tail extends to the left. This results in a longer left tail and a shorter right tail. The mean is typically less than the median in negatively skewed data.\n",
    "\n",
    "Here the Mean < Median < Mode\n",
    "Example of Negative Skewness:\n",
    "Consider the distribution of test scores in a difficult exam. Most students might score higher marks, but a few students might perform poorly, leading to a long left tail.\n",
    "Zero Skewness (Symmetrical/Gaussian Distribution):\n",
    "In a symmetrical distribution, the data is evenly distributed around the mean, and there is no skewness. The left and right sides of the distribution mirror each other, and the mean and median are approximately equal.\n",
    "\n",
    "Here the Mean = Median = Mode\n",
    "Example of Zero Skewness:\n",
    "The distribution of heights in a population, where most people have average heights and the distribution is symmetrical around the mean height."
   ]
  },
  {
   "cell_type": "markdown",
   "id": "3912bb13-ca3b-41ec-9fc0-d767e050b210",
   "metadata": {},
   "source": [
    "Q9. If a data is right skewed then what will be the position of median with respect to mean?"
   ]
  },
  {
   "cell_type": "markdown",
   "id": "d8fb4e87-c5d0-41b5-8639-870070713e69",
   "metadata": {},
   "source": [
    "If a dataset is right-skewed, the median will be positioned to the left of the mean ie the value of median will be smaller than mean.\n",
    "\n",
    "In a right-skewed distribution, the majority of the data is concentrated towards the lower values, resulting in a long tail extending to the right. This elongated tail on the right side is caused by a few extremely high values that pull the mean towards the right. As a result, the mean gets inflated by the presence of these high values, causing it to be larger than the median.\n",
    "\n",
    "The median, on the other hand, is less influenced by extreme values or outliers because it represents the middle value of the dataset when the data is ordered. It is not affected by the specific values in the tail of the distribution.\n",
    "\n",
    "Therefore, in a right-skewed distribution, where the tail is longer on the right, the median will be closer to the bulk of the data on the left side, and it will be to the left of the mean."
   ]
  },
  {
   "cell_type": "markdown",
   "id": "631513c9-f847-4631-a966-c2fa21f77750",
   "metadata": {},
   "source": [
    "Q10. Explain the difference between covariance and correlation. How are these measures used in statistical analysis?"
   ]
  },
  {
   "cell_type": "markdown",
   "id": "a1a1c974-560c-4742-bf58-5523f6571694",
   "metadata": {},
   "source": [
    "Covariance and Correlation are useful measures in statistical analysis to assess the relationship between two variables. Covariance gives the direction of the relationship, while correlation provides a standardized measure of both direction and strength.\n",
    "\n",
    "Covariance:\n",
    "Covariance measures the degree to which two variables change together. It indicates whether the variables increase or decrease simultaneously. A positive covariance indicates that as one variable increases, the other tends to increase as well. Conversely, a negative covariance indicates that as one variable increases, the other tends to decrease. However, covariance alone does not provide information about the strength or direction of the relationship.\n",
    "\n",
    "Formula for Covariance (for a sample): Cov(X, Y) = Σ((Xi - X̄)(Yi - Ȳ)) / (n - 1)\n",
    "\n",
    "Where:\n",
    "\n",
    "Cov(X, Y) is the covariance between variables X and Y.\n",
    "Xi and Yi are individual data points in the X and Y datasets, respectively.\n",
    "X̄ and Ȳ are the sample means of the X and Y datasets, respectively.\n",
    "n is the number of data points in the datasets.\n",
    "Correlation:\n",
    "Correlation, on the other hand, is a standardized measure that provides the strength and direction of the relationship between two variables. It normalizes the covariance by dividing it by the product of the standard deviations of the two variables, resulting in a value between -1 and +1. A correlation of +1 indicates a perfect positive linear relationship, -1 indicates a perfect negative linear relationship, and 0 indicates no linear relationship.\n",
    "\n",
    "Formula for Correlation (for a sample): Corr(X, Y) = Cov(X, Y) / (sX * sY)\n",
    "\n",
    "Where:\n",
    "\n",
    "Corr(X, Y) is the correlation coefficient between variables X and Y.\n",
    "Cov(X, Y) is the covariance between variables X and Y.\n",
    "sX and sY are the sample standard deviations of variables X and Y, respectively.\n",
    "Both covariance and correlation are used to analyze the relationship between two variables in a dataset:\n",
    "\n",
    "Covariance: Covariance provides a measure of the direction of the relationship (positive or negative) between two variables. However, the value of covariance itself does not give information about the strength of the relationship or its significance, making it less interpretable than correlation.\n",
    "\n",
    "Correlation: Correlation provides a standardized measure of the strength and direction of the linear relationship between two variables. It is widely used because it is scale-independent, making it easier to interpret and compare across different datasets. Positive correlation values indicate that the variables move together, while negative correlation values indicate that they move in opposite directions. A correlation close to +1 or -1 indicates a strong linear relationship, while a correlation close to 0 suggests a weak or no linear relationship."
   ]
  },
  {
   "cell_type": "markdown",
   "id": "e85c502a-fec1-4edd-8686-90fc54329743",
   "metadata": {},
   "source": [
    "Q11. What is the formula for calculating the sample mean? Provide an example calculation for a dataset."
   ]
  },
  {
   "cell_type": "markdown",
   "id": "5d97cd95-15ea-4a49-b4ed-ce34526aaf98",
   "metadata": {},
   "source": [
    "The formula for calculating the sample mean is:\n",
    "\n",
    "Sample Mean (x̄) = (Sum of all data points) / (Number of data points)\n",
    "\n",
    "In mathematical notation: x̄ = (Σ Xi) / n\n",
    "\n",
    "Where:\n",
    "\n",
    "x̄ is the sample mean.\n",
    "Σ represents the summation symbol (sum of all data points).\n",
    "Xi represents individual data points in the dataset.\n",
    "n is the number of data points in the sample.\n",
    "Example : Taking the grades of a sample student = [81,79,90,98,92]\n",
    "\n",
    "Number of samples (n) = 5\n",
    "\n",
    "Mean = (81+79+90+98+92)/5 = 440/5 = 88\n",
    "\n",
    "Therefore the Mean of the sample data is 88"
   ]
  },
  {
   "cell_type": "markdown",
   "id": "d7b6c156-69d4-4898-9cec-3a4eccbb01be",
   "metadata": {},
   "source": [
    "Q12. For a normal distribution data what is the relationship between its measure of central tendency?"
   ]
  },
  {
   "cell_type": "markdown",
   "id": "45de99dc-46ba-4299-b0e3-4da10fa5e835",
   "metadata": {},
   "source": [
    "For a normal distribution, the three measures of central tendency, namely the mean, median, and mode, are all equal to each other. In a perfectly symmetrical normal distribution, the data is evenly distributed around the center, resulting in the same value for each measure of central tendency.\n",
    "\n",
    "Mean = Median = Mode\n",
    "\n",
    "The relationship between the measures of central tendency in a normal distribution is as follows:\n",
    "\n",
    "Mean: The mean of a normal distribution is located at the center of the distribution, and it is equal to the median and the mode.\n",
    "\n",
    "Median: The median of a normal distribution is also located at the center of the distribution, and it is equal to the mean and the mode.\n",
    "\n",
    "Mode: The mode of a normal distribution is the peak point of the curve, and it is equal to both the mean and the median.\n",
    "\n",
    "This equality between the mean, median, and mode in a normal distribution is a characteristic of its symmetry. The symmetrical shape of the normal distribution curve is bell-shaped, and half of the data lies on either side of the mean, resulting in the median being the same as the mean and mode."
   ]
  },
  {
   "cell_type": "markdown",
   "id": "566f77bd-9972-41cf-86d2-63a6fff38a0e",
   "metadata": {},
   "source": [
    "Q13. How is covariance different from correlation?"
   ]
  },
  {
   "cell_type": "markdown",
   "id": "c3788050-62cb-4a5a-b231-41bebd5a1ee5",
   "metadata": {},
   "source": [
    "Covariance and Correlation are useful measures in statistical analysis to assess the relationship between two variables. Covariance gives the direction of the relationship, while correlation provides a standardized measure of both direction and strength.\n",
    "\n",
    "Covariance:\n",
    "Covariance measures the degree to which two variables change together. It indicates whether the variables increase or decrease simultaneously. A positive covariance indicates that as one variable increases, the other tends to increase as well. Conversely, a negative covariance indicates that as one variable increases, the other tends to decrease. However, covariance alone does not provide information about the strength or direction of the relationship.\n",
    "\n",
    "Formula for Covariance (for a sample): Cov(X, Y) = Σ((Xi - X̄)(Yi - Ȳ)) / (n - 1)\n",
    "\n",
    "Where:\n",
    "\n",
    "Cov(X, Y) is the covariance between variables X and Y.\n",
    "Xi and Yi are individual data points in the X and Y datasets, respectively.\n",
    "X̄ and Ȳ are the sample means of the X and Y datasets, respectively.\n",
    "n is the number of data points in the datasets.\n",
    "Correlation:\n",
    "Correlation, on the other hand, is a standardized measure that provides the strength and direction of the relationship between two variables. It normalizes the covariance by dividing it by the product of the standard deviations of the two variables, resulting in a value between -1 and +1. A correlation of +1 indicates a perfect positive linear relationship, -1 indicates a perfect negative linear relationship, and 0 indicates no linear relationship.\n",
    "\n",
    "Formula for Correlation (for a sample): Corr(X, Y) = Cov(X, Y) / (sX * sY)\n",
    "\n",
    "Where:\n",
    "\n",
    "Corr(X, Y) is the correlation coefficient between variables X and Y.\n",
    "Cov(X, Y) is the covariance between variables X and Y.\n",
    "sX and sY are the sample standard deviations of variables X and Y, respectively.\n",
    "Covariance and Correlation are useful measures in statistical analysis to assess the relationship between two variables. Covariance gives the direction of the relationship, while correlation provides a standardized measure of both direction and strength."
   ]
  },
  {
   "cell_type": "markdown",
   "id": "1d6ff9b5-050b-44ed-982a-cc11976a21ff",
   "metadata": {},
   "source": [
    "Q14. How do outliers affect measures of central tendency and dispersion? Provide an example."
   ]
  },
  {
   "cell_type": "markdown",
   "id": "aeeca43c-5ffe-42c9-8bf2-cf957aaceee6",
   "metadata": {},
   "source": [
    "Outliers can have a significant impact on measures of central tendency and dispersion in a dataset. An outlier is an extreme value that is unusually distant from the rest of the data points. When present in a dataset, outliers can distort the typical characteristics of the data, affecting both the central tendency and the spread of the data."
   ]
  },
  {
   "cell_type": "code",
   "execution_count": 10,
   "id": "87fcf5b9-95b9-4042-8308-fe76467c8aa2",
   "metadata": {},
   "outputs": [],
   "source": [
    "import numpy as np\n",
    "from scipy import stats\n",
    "data1 = [178,177,176,177,178.2,178,175,179,180,175,178.9,176.2,177,172.5,178,176.5,220]\n",
    "data2 = [178,177,176,177,178.2,178,175,179,180,175,178.9,176.2,177,172.5,178,176.5,220,210,204]\n",
    "data3 = [178,177,176,177,178.2,178,175,179,180,175,178.9,176.2,177,172.5,178,176.5]"
   ]
  },
  {
   "cell_type": "code",
   "execution_count": 11,
   "id": "f354cead-bc74-46dc-a29d-4114e59127ba",
   "metadata": {},
   "outputs": [
    {
     "name": "stdout",
     "output_type": "stream",
     "text": [
      "Mean Of Data3 :  177.01875\n",
      "Mean Of Data1 :  179.54705882352943\n",
      "Mean Of Data2 :  182.43684210526317\n"
     ]
    }
   ],
   "source": [
    "print(\"Mean Of Data3 : \",np.mean(data3))\n",
    "print(\"Mean Of Data1 : \",np.mean(data1))\n",
    "print(\"Mean Of Data2 : \",np.mean(data2))"
   ]
  },
  {
   "cell_type": "code",
   "execution_count": 12,
   "id": "40948ed9-8519-4edb-9f98-5dbf6b7ba05d",
   "metadata": {},
   "outputs": [
    {
     "name": "stdout",
     "output_type": "stream",
     "text": [
      "Median of Data3 :  177.0\n",
      "Median of Data2 :  178.0\n",
      "Median of Data1 :  177.0\n"
     ]
    }
   ],
   "source": [
    "print(\"Median of Data3 : \",np.median(data3))\n",
    "print(\"Median of Data2 : \",np.median(data2))\n",
    "print(\"Median of Data1 : \",np.median(data1))"
   ]
  },
  {
   "cell_type": "code",
   "execution_count": 13,
   "id": "e80f41e8-06e0-495d-a827-fcb03a456dad",
   "metadata": {},
   "outputs": [
    {
     "name": "stdout",
     "output_type": "stream",
     "text": [
      "Mode of Data3 :  ModeResult(mode=array([177.]), count=array([3]))\n",
      "Mode of Data2 :  ModeResult(mode=array([177.]), count=array([3]))\n",
      "Mode of Data1 :  ModeResult(mode=array([177.]), count=array([3]))\n"
     ]
    },
    {
     "name": "stderr",
     "output_type": "stream",
     "text": [
      "/tmp/ipykernel_363/440783010.py:1: FutureWarning: Unlike other reduction functions (e.g. `skew`, `kurtosis`), the default behavior of `mode` typically preserves the axis it acts along. In SciPy 1.11.0, this behavior will change: the default value of `keepdims` will become False, the `axis` over which the statistic is taken will be eliminated, and the value None will no longer be accepted. Set `keepdims` to True or False to avoid this warning.\n",
      "  print(\"Mode of Data3 : \",stats.mode(data3))\n",
      "/tmp/ipykernel_363/440783010.py:2: FutureWarning: Unlike other reduction functions (e.g. `skew`, `kurtosis`), the default behavior of `mode` typically preserves the axis it acts along. In SciPy 1.11.0, this behavior will change: the default value of `keepdims` will become False, the `axis` over which the statistic is taken will be eliminated, and the value None will no longer be accepted. Set `keepdims` to True or False to avoid this warning.\n",
      "  print(\"Mode of Data2 : \",stats.mode(data2))\n",
      "/tmp/ipykernel_363/440783010.py:3: FutureWarning: Unlike other reduction functions (e.g. `skew`, `kurtosis`), the default behavior of `mode` typically preserves the axis it acts along. In SciPy 1.11.0, this behavior will change: the default value of `keepdims` will become False, the `axis` over which the statistic is taken will be eliminated, and the value None will no longer be accepted. Set `keepdims` to True or False to avoid this warning.\n",
      "  print(\"Mode of Data1 : \",stats.mode(data1))\n"
     ]
    }
   ],
   "source": [
    "print(\"Mode of Data3 : \",stats.mode(data3))\n",
    "print(\"Mode of Data2 : \",stats.mode(data2))\n",
    "print(\"Mode of Data1 : \",stats.mode(data1))"
   ]
  },
  {
   "cell_type": "markdown",
   "id": "14f43342-095d-4a04-a100-4c621f136704",
   "metadata": {},
   "source": [
    "Here we observe that :\n",
    "\n",
    "The Mean is the one which is most affected with outliers.There is a significant change in mean with the increase in the presence of outliers.\n",
    "The Mean of the data without outliers is 177.01\n",
    "The Mean of the data with 1 outlier is 179.43\n",
    "The Mean of the data with 3 outlier is 182.54\n",
    "The Median is not much affected with the presence of outliers in the data but the affect is significantly smaller compared to mean\n",
    "\n",
    "The Median of the data without outliers is 177.00\n",
    "The Median of the data with 1 outlier is 177.00\n",
    "The Median of the data with 3 outliers is 178.00\n",
    "The Mode is not affected with the presence of outliers in the data\n",
    "\n",
    "The Mode of the data without outliers is 177.00\n",
    "The Mode of the data with 1 outlier is 177.00\n",
    "The Mode of the data with 3 outliers is 177.010"
   ]
  },
  {
   "cell_type": "code",
   "execution_count": null,
   "id": "55e28450-0edc-4f68-a968-16e1d5f1d387",
   "metadata": {},
   "outputs": [],
   "source": []
  }
 ],
 "metadata": {
  "kernelspec": {
   "display_name": "Python 3 (ipykernel)",
   "language": "python",
   "name": "python3"
  },
  "language_info": {
   "codemirror_mode": {
    "name": "ipython",
    "version": 3
   },
   "file_extension": ".py",
   "mimetype": "text/x-python",
   "name": "python",
   "nbconvert_exporter": "python",
   "pygments_lexer": "ipython3",
   "version": "3.10.8"
  }
 },
 "nbformat": 4,
 "nbformat_minor": 5
}
